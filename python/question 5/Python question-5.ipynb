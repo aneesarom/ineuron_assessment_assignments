{
 "cells": [
  {
   "cell_type": "code",
   "execution_count": 70,
   "id": "01e43d6a",
   "metadata": {},
   "outputs": [],
   "source": [
    "import pandas as pd\n",
    "import numpy as np\n",
    "pd.set_option('max_colwidth', None)"
   ]
  },
  {
   "cell_type": "markdown",
   "id": "6c33e31c",
   "metadata": {},
   "source": [
    "# Question 5 -\n",
    "```\n",
    "Write a program to download the data from the given API link and then extract the following data with\n",
    "proper formatting\n",
    "\n",
    "Link - http://api.tvmaze.com/singlesearch/shows?q=westworld&embed=episodes\n",
    "Note - Write proper code comments wherever needed for the code understanding\n",
    "\n",
    "Excepted Output Data Attributes\n",
    "● Name of Earth Meteorite - string id - ID of Earth\n",
    "● Meteorite - int nametype - string recclass - string\n",
    "● mass - Mass of Earth Meteorite - float year - Year at which Earth\n",
    "● Meteorite was hit - datetime format reclat - float recclong - float\n",
    "● point coordinates - list of int\n",
    "\n",
    "```"
   ]
  },
  {
   "cell_type": "code",
   "execution_count": 71,
   "id": "55e9b9de",
   "metadata": {},
   "outputs": [],
   "source": [
    "# Excepted Output Data Attributes -\n",
    "# ● id - int \n",
    "# ● url - string\n",
    "# ● name - string\n",
    "# ● season - int \n",
    "# ● number - int\n",
    "# ● type - string\n",
    "# ● airdate - date format\n",
    "# ● airtime - 12-hour time format\n",
    "# ● runtime - float\n",
    "# ● average rating - float\n",
    "# ● summary - string\n",
    "# ● without html tags\n",
    "# ● medium image link - string\n",
    "# ● Original image link - string"
   ]
  },
  {
   "cell_type": "code",
   "execution_count": 72,
   "id": "6f508c12",
   "metadata": {},
   "outputs": [],
   "source": [
    "import requests\n",
    "\n",
    "# request the url to get json data\n",
    "response = requests.get(\"http://api.tvmaze.com/singlesearch/shows?q=westworld&embed=episodes\")"
   ]
  },
  {
   "cell_type": "code",
   "execution_count": 73,
   "id": "41056fd2",
   "metadata": {},
   "outputs": [],
   "source": [
    "# parse the json \n",
    "data = response.json()"
   ]
  },
  {
   "cell_type": "code",
   "execution_count": 74,
   "id": "859fbb83",
   "metadata": {},
   "outputs": [],
   "source": [
    "from pprint import pprint"
   ]
  },
  {
   "cell_type": "code",
   "execution_count": 75,
   "id": "24147bf0",
   "metadata": {
    "scrolled": false
   },
   "outputs": [
    {
     "name": "stdout",
     "output_type": "stream",
     "text": [
      "{'_links': {'self': {'href': 'https://api.tvmaze.com/episodes/869671'},\n",
      "            'show': {'href': 'https://api.tvmaze.com/shows/1371'}},\n",
      " 'airdate': '2016-10-02',\n",
      " 'airstamp': '2016-10-03T01:00:00+00:00',\n",
      " 'airtime': '21:00',\n",
      " 'id': 869671,\n",
      " 'image': {'medium': 'https://static.tvmaze.com/uploads/images/medium_landscape/78/195475.jpg',\n",
      "           'original': 'https://static.tvmaze.com/uploads/images/original_untouched/78/195475.jpg'},\n",
      " 'name': 'The Original',\n",
      " 'number': 1,\n",
      " 'rating': {'average': 8},\n",
      " 'runtime': 68,\n",
      " 'season': 1,\n",
      " 'summary': '<p>A woman named Dolores is a free spirit in the Old West... and '\n",
      "            \"unaware that she's actually an android, programmed to entertain \"\n",
      "            'rich guests seeking to act out their fantasies in an idealized '\n",
      "            'vision of the 1880s. However, the people in charge soon realize '\n",
      "            \"that their androids are acting in ways that they didn't \"\n",
      "            'anticipate.</p>',\n",
      " 'type': 'regular',\n",
      " 'url': 'https://www.tvmaze.com/episodes/869671/westworld-1x01-the-original'}\n"
     ]
    }
   ],
   "source": [
    "# To step down to main dictoniary\n",
    "\n",
    "pprint(data[\"_embedded\"][\"episodes\"][0])"
   ]
  },
  {
   "cell_type": "code",
   "execution_count": 76,
   "id": "36cb6885",
   "metadata": {},
   "outputs": [],
   "source": [
    "df = pd.DataFrame(data[\"_embedded\"][\"episodes\"])"
   ]
  },
  {
   "cell_type": "code",
   "execution_count": 77,
   "id": "98097e4d",
   "metadata": {},
   "outputs": [
    {
     "data": {
      "text/html": [
       "<div>\n",
       "<style scoped>\n",
       "    .dataframe tbody tr th:only-of-type {\n",
       "        vertical-align: middle;\n",
       "    }\n",
       "\n",
       "    .dataframe tbody tr th {\n",
       "        vertical-align: top;\n",
       "    }\n",
       "\n",
       "    .dataframe thead th {\n",
       "        text-align: right;\n",
       "    }\n",
       "</style>\n",
       "<table border=\"1\" class=\"dataframe\">\n",
       "  <thead>\n",
       "    <tr style=\"text-align: right;\">\n",
       "      <th></th>\n",
       "      <th>id</th>\n",
       "      <th>url</th>\n",
       "      <th>name</th>\n",
       "      <th>season</th>\n",
       "      <th>number</th>\n",
       "      <th>type</th>\n",
       "      <th>airdate</th>\n",
       "      <th>airtime</th>\n",
       "      <th>airstamp</th>\n",
       "      <th>runtime</th>\n",
       "      <th>rating</th>\n",
       "      <th>image</th>\n",
       "      <th>summary</th>\n",
       "      <th>_links</th>\n",
       "    </tr>\n",
       "  </thead>\n",
       "  <tbody>\n",
       "    <tr>\n",
       "      <th>0</th>\n",
       "      <td>869671</td>\n",
       "      <td>https://www.tvmaze.com/episodes/869671/westworld-1x01-the-original</td>\n",
       "      <td>The Original</td>\n",
       "      <td>1</td>\n",
       "      <td>1</td>\n",
       "      <td>regular</td>\n",
       "      <td>2016-10-02</td>\n",
       "      <td>21:00</td>\n",
       "      <td>2016-10-03T01:00:00+00:00</td>\n",
       "      <td>68</td>\n",
       "      <td>{'average': 8}</td>\n",
       "      <td>{'medium': 'https://static.tvmaze.com/uploads/images/medium_landscape/78/195475.jpg', 'original': 'https://static.tvmaze.com/uploads/images/original_untouched/78/195475.jpg'}</td>\n",
       "      <td>&lt;p&gt;A woman named Dolores is a free spirit in the Old West... and unaware that she's actually an android, programmed to entertain rich guests seeking to act out their fantasies in an idealized vision of the 1880s. However, the people in charge soon realize that their androids are acting in ways that they didn't anticipate.&lt;/p&gt;</td>\n",
       "      <td>{'self': {'href': 'https://api.tvmaze.com/episodes/869671'}, 'show': {'href': 'https://api.tvmaze.com/shows/1371'}}</td>\n",
       "    </tr>\n",
       "    <tr>\n",
       "      <th>1</th>\n",
       "      <td>911201</td>\n",
       "      <td>https://www.tvmaze.com/episodes/911201/westworld-1x02-chestnut</td>\n",
       "      <td>Chestnut</td>\n",
       "      <td>1</td>\n",
       "      <td>2</td>\n",
       "      <td>regular</td>\n",
       "      <td>2016-10-09</td>\n",
       "      <td>21:00</td>\n",
       "      <td>2016-10-10T01:00:00+00:00</td>\n",
       "      <td>60</td>\n",
       "      <td>{'average': 7.7}</td>\n",
       "      <td>{'medium': 'https://static.tvmaze.com/uploads/images/medium_landscape/78/195436.jpg', 'original': 'https://static.tvmaze.com/uploads/images/original_untouched/78/195436.jpg'}</td>\n",
       "      <td>&lt;p&gt;Bernard suspects that someone is sabotaging the hosts. Meanwhile, the Man continues his search for the deeper game, and Maeve finds herself in a world of hurt... literally.&lt;/p&gt;</td>\n",
       "      <td>{'self': {'href': 'https://api.tvmaze.com/episodes/911201'}, 'show': {'href': 'https://api.tvmaze.com/shows/1371'}}</td>\n",
       "    </tr>\n",
       "  </tbody>\n",
       "</table>\n",
       "</div>"
      ],
      "text/plain": [
       "       id                                                                 url  \\\n",
       "0  869671  https://www.tvmaze.com/episodes/869671/westworld-1x01-the-original   \n",
       "1  911201      https://www.tvmaze.com/episodes/911201/westworld-1x02-chestnut   \n",
       "\n",
       "           name  season  number     type     airdate airtime  \\\n",
       "0  The Original       1       1  regular  2016-10-02   21:00   \n",
       "1      Chestnut       1       2  regular  2016-10-09   21:00   \n",
       "\n",
       "                    airstamp  runtime            rating  \\\n",
       "0  2016-10-03T01:00:00+00:00       68    {'average': 8}   \n",
       "1  2016-10-10T01:00:00+00:00       60  {'average': 7.7}   \n",
       "\n",
       "                                                                                                                                                                            image  \\\n",
       "0  {'medium': 'https://static.tvmaze.com/uploads/images/medium_landscape/78/195475.jpg', 'original': 'https://static.tvmaze.com/uploads/images/original_untouched/78/195475.jpg'}   \n",
       "1  {'medium': 'https://static.tvmaze.com/uploads/images/medium_landscape/78/195436.jpg', 'original': 'https://static.tvmaze.com/uploads/images/original_untouched/78/195436.jpg'}   \n",
       "\n",
       "                                                                                                                                                                                                                                                                                                                                   summary  \\\n",
       "0  <p>A woman named Dolores is a free spirit in the Old West... and unaware that she's actually an android, programmed to entertain rich guests seeking to act out their fantasies in an idealized vision of the 1880s. However, the people in charge soon realize that their androids are acting in ways that they didn't anticipate.</p>   \n",
       "1                                                                                                                                                      <p>Bernard suspects that someone is sabotaging the hosts. Meanwhile, the Man continues his search for the deeper game, and Maeve finds herself in a world of hurt... literally.</p>   \n",
       "\n",
       "                                                                                                                _links  \n",
       "0  {'self': {'href': 'https://api.tvmaze.com/episodes/869671'}, 'show': {'href': 'https://api.tvmaze.com/shows/1371'}}  \n",
       "1  {'self': {'href': 'https://api.tvmaze.com/episodes/911201'}, 'show': {'href': 'https://api.tvmaze.com/shows/1371'}}  "
      ]
     },
     "execution_count": 77,
     "metadata": {},
     "output_type": "execute_result"
    }
   ],
   "source": [
    "df.head(2)"
   ]
  },
  {
   "cell_type": "code",
   "execution_count": 78,
   "id": "1a631f34",
   "metadata": {},
   "outputs": [],
   "source": [
    "# to remove paragraph tag\n",
    "\n",
    "def remove_tags(col):\n",
    "    col = col.lstrip(\"<p>\")\n",
    "    col = col.rstrip(\"</p>\")\n",
    "    return col\n",
    "\n",
    "df[\"summary\"] = df[\"summary\"].apply(remove_tags)"
   ]
  },
  {
   "cell_type": "code",
   "execution_count": 79,
   "id": "bf568d05",
   "metadata": {},
   "outputs": [],
   "source": [
    "# To convert image to medium and original links columns\n",
    "\n",
    "df[\"medium_image_link\"] = df[\"image\"].apply(lambda x: x[\"medium\"])\n",
    "df[\"original_image_link\"] = df[\"image\"].apply(lambda x: x[\"original\"])"
   ]
  },
  {
   "cell_type": "code",
   "execution_count": 80,
   "id": "16e26798",
   "metadata": {},
   "outputs": [],
   "source": [
    "# To remove columns which is not required\n",
    "\n",
    "df.drop([\"image\", \"_links\", \"airstamp\"], axis=1, inplace=True)"
   ]
  },
  {
   "cell_type": "code",
   "execution_count": 81,
   "id": "08539351",
   "metadata": {},
   "outputs": [],
   "source": [
    "# To convert object to 12 Hr time format\n",
    "\n",
    "df[\"airtime\"] = pd.to_datetime(df[\"airtime\"]).dt.strftime(\"%I:%M %p\")\n",
    "df[\"airtime\"] = pd.to_datetime(df[\"airtime\"])"
   ]
  },
  {
   "cell_type": "code",
   "execution_count": 82,
   "id": "a1f1c431",
   "metadata": {},
   "outputs": [
    {
     "data": {
      "text/plain": [
       "array(['2023-06-06T21:00:00.000000000'], dtype='datetime64[ns]')"
      ]
     },
     "execution_count": 82,
     "metadata": {},
     "output_type": "execute_result"
    }
   ],
   "source": [
    "df[\"airtime\"].unique()"
   ]
  },
  {
   "cell_type": "code",
   "execution_count": 83,
   "id": "8f94b0e7",
   "metadata": {},
   "outputs": [],
   "source": [
    "# To convert object to date format\n",
    "\n",
    "df[\"airdate\"] = pd.to_datetime(df[\"airdate\"])"
   ]
  },
  {
   "cell_type": "code",
   "execution_count": 84,
   "id": "a1ad168b",
   "metadata": {},
   "outputs": [],
   "source": [
    "# to convert object to float format\n",
    "\n",
    "df[\"runtime\"] = df[\"runtime\"].astype(\"float\")"
   ]
  },
  {
   "cell_type": "code",
   "execution_count": 85,
   "id": "fdf234b2",
   "metadata": {},
   "outputs": [],
   "source": [
    "# to convert dict to rating float\n",
    "\n",
    "df[\"rating\"] = df[\"rating\"].apply(lambda x: float(x[\"average\"]))"
   ]
  },
  {
   "cell_type": "code",
   "execution_count": 86,
   "id": "d98187fb",
   "metadata": {
    "scrolled": false
   },
   "outputs": [
    {
     "data": {
      "text/html": [
       "<div>\n",
       "<style scoped>\n",
       "    .dataframe tbody tr th:only-of-type {\n",
       "        vertical-align: middle;\n",
       "    }\n",
       "\n",
       "    .dataframe tbody tr th {\n",
       "        vertical-align: top;\n",
       "    }\n",
       "\n",
       "    .dataframe thead th {\n",
       "        text-align: right;\n",
       "    }\n",
       "</style>\n",
       "<table border=\"1\" class=\"dataframe\">\n",
       "  <thead>\n",
       "    <tr style=\"text-align: right;\">\n",
       "      <th></th>\n",
       "      <th>id</th>\n",
       "      <th>url</th>\n",
       "      <th>name</th>\n",
       "      <th>season</th>\n",
       "      <th>number</th>\n",
       "      <th>type</th>\n",
       "      <th>airdate</th>\n",
       "      <th>airtime</th>\n",
       "      <th>runtime</th>\n",
       "      <th>rating</th>\n",
       "      <th>summary</th>\n",
       "      <th>medium_image_link</th>\n",
       "      <th>original_image_link</th>\n",
       "    </tr>\n",
       "  </thead>\n",
       "  <tbody>\n",
       "    <tr>\n",
       "      <th>0</th>\n",
       "      <td>869671</td>\n",
       "      <td>https://www.tvmaze.com/episodes/869671/westworld-1x01-the-original</td>\n",
       "      <td>The Original</td>\n",
       "      <td>1</td>\n",
       "      <td>1</td>\n",
       "      <td>regular</td>\n",
       "      <td>2016-10-02</td>\n",
       "      <td>2023-06-06 21:00:00</td>\n",
       "      <td>68.0</td>\n",
       "      <td>8.0</td>\n",
       "      <td>A woman named Dolores is a free spirit in the Old West... and unaware that she's actually an android, programmed to entertain rich guests seeking to act out their fantasies in an idealized vision of the 1880s. However, the people in charge soon realize that their androids are acting in ways that they didn't anticipate.</td>\n",
       "      <td>https://static.tvmaze.com/uploads/images/medium_landscape/78/195475.jpg</td>\n",
       "      <td>https://static.tvmaze.com/uploads/images/original_untouched/78/195475.jpg</td>\n",
       "    </tr>\n",
       "    <tr>\n",
       "      <th>1</th>\n",
       "      <td>911201</td>\n",
       "      <td>https://www.tvmaze.com/episodes/911201/westworld-1x02-chestnut</td>\n",
       "      <td>Chestnut</td>\n",
       "      <td>1</td>\n",
       "      <td>2</td>\n",
       "      <td>regular</td>\n",
       "      <td>2016-10-09</td>\n",
       "      <td>2023-06-06 21:00:00</td>\n",
       "      <td>60.0</td>\n",
       "      <td>7.7</td>\n",
       "      <td>Bernard suspects that someone is sabotaging the hosts. Meanwhile, the Man continues his search for the deeper game, and Maeve finds herself in a world of hurt... literally.</td>\n",
       "      <td>https://static.tvmaze.com/uploads/images/medium_landscape/78/195436.jpg</td>\n",
       "      <td>https://static.tvmaze.com/uploads/images/original_untouched/78/195436.jpg</td>\n",
       "    </tr>\n",
       "  </tbody>\n",
       "</table>\n",
       "</div>"
      ],
      "text/plain": [
       "       id                                                                 url  \\\n",
       "0  869671  https://www.tvmaze.com/episodes/869671/westworld-1x01-the-original   \n",
       "1  911201      https://www.tvmaze.com/episodes/911201/westworld-1x02-chestnut   \n",
       "\n",
       "           name  season  number     type    airdate             airtime  \\\n",
       "0  The Original       1       1  regular 2016-10-02 2023-06-06 21:00:00   \n",
       "1      Chestnut       1       2  regular 2016-10-09 2023-06-06 21:00:00   \n",
       "\n",
       "   runtime  rating  \\\n",
       "0     68.0     8.0   \n",
       "1     60.0     7.7   \n",
       "\n",
       "                                                                                                                                                                                                                                                                                                                            summary  \\\n",
       "0  A woman named Dolores is a free spirit in the Old West... and unaware that she's actually an android, programmed to entertain rich guests seeking to act out their fantasies in an idealized vision of the 1880s. However, the people in charge soon realize that their androids are acting in ways that they didn't anticipate.   \n",
       "1                                                                                                                                                      Bernard suspects that someone is sabotaging the hosts. Meanwhile, the Man continues his search for the deeper game, and Maeve finds herself in a world of hurt... literally.   \n",
       "\n",
       "                                                         medium_image_link  \\\n",
       "0  https://static.tvmaze.com/uploads/images/medium_landscape/78/195475.jpg   \n",
       "1  https://static.tvmaze.com/uploads/images/medium_landscape/78/195436.jpg   \n",
       "\n",
       "                                                         original_image_link  \n",
       "0  https://static.tvmaze.com/uploads/images/original_untouched/78/195475.jpg  \n",
       "1  https://static.tvmaze.com/uploads/images/original_untouched/78/195436.jpg  "
      ]
     },
     "execution_count": 86,
     "metadata": {},
     "output_type": "execute_result"
    }
   ],
   "source": [
    "df.head(2)"
   ]
  },
  {
   "cell_type": "code",
   "execution_count": 87,
   "id": "d3393d1b",
   "metadata": {},
   "outputs": [
    {
     "name": "stdout",
     "output_type": "stream",
     "text": [
      "<class 'pandas.core.frame.DataFrame'>\n",
      "RangeIndex: 36 entries, 0 to 35\n",
      "Data columns (total 13 columns):\n",
      " #   Column               Non-Null Count  Dtype         \n",
      "---  ------               --------------  -----         \n",
      " 0   id                   36 non-null     int64         \n",
      " 1   url                  36 non-null     object        \n",
      " 2   name                 36 non-null     object        \n",
      " 3   season               36 non-null     int64         \n",
      " 4   number               36 non-null     int64         \n",
      " 5   type                 36 non-null     object        \n",
      " 6   airdate              36 non-null     datetime64[ns]\n",
      " 7   airtime              36 non-null     datetime64[ns]\n",
      " 8   runtime              36 non-null     float64       \n",
      " 9   rating               36 non-null     float64       \n",
      " 10  summary              36 non-null     object        \n",
      " 11  medium_image_link    36 non-null     object        \n",
      " 12  original_image_link  36 non-null     object        \n",
      "dtypes: datetime64[ns](2), float64(2), int64(3), object(6)\n",
      "memory usage: 3.8+ KB\n"
     ]
    }
   ],
   "source": [
    "df.info()"
   ]
  },
  {
   "cell_type": "code",
   "execution_count": 88,
   "id": "3d5d0eac",
   "metadata": {},
   "outputs": [],
   "source": [
    "df.to_csv(\"tv_series.csv\")"
   ]
  }
 ],
 "metadata": {
  "kernelspec": {
   "display_name": "Python 3 (ipykernel)",
   "language": "python",
   "name": "python3"
  },
  "language_info": {
   "codemirror_mode": {
    "name": "ipython",
    "version": 3
   },
   "file_extension": ".py",
   "mimetype": "text/x-python",
   "name": "python",
   "nbconvert_exporter": "python",
   "pygments_lexer": "ipython3",
   "version": "3.8.16"
  }
 },
 "nbformat": 4,
 "nbformat_minor": 5
}
