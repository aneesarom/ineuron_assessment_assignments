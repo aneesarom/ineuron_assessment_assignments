{
 "cells": [
  {
   "cell_type": "code",
   "execution_count": 50,
   "id": "01e43d6a",
   "metadata": {},
   "outputs": [],
   "source": [
    "import pandas as pd\n",
    "import numpy as np\n",
    "pd.set_option('max_colwidth', None)"
   ]
  },
  {
   "cell_type": "markdown",
   "id": "0f84cf47",
   "metadata": {},
   "source": [
    "# Question 4 -\n",
    "```\n",
    "Write a program to download the data from the link given below and then read the data and convert the into\n",
    "the proper structure and return it as a CSV file.\n",
    "Link - https://data.nasa.gov/resource/y77d-th95.json\n",
    "Note - Write code comments wherever needed for code understanding.\n",
    "Excepted Output Data Attributes\n",
    "● Name of Earth Meteorite - string id - ID of Earth\n",
    "● Meteorite - int nametype - string recclass - string\n",
    "● mass - Mass of Earth Meteorite - float year - Year at which Earth\n",
    "● Meteorite was hit - datetime format reclat - float recclong - float\n",
    "● point coordinates - list of int\n",
    "```"
   ]
  },
  {
   "cell_type": "code",
   "execution_count": 51,
   "id": "ec4e3e1b",
   "metadata": {},
   "outputs": [],
   "source": [
    "# ● Name of Earth Meteorite - string \n",
    "# ● id - ID of Earth Meteorite - int \n",
    "# ● nametype - string \n",
    "# ● recclass - string\n",
    "# ● mass - Mass of Earth Meteorite - float \n",
    "# ● year - Year at which Earth Meteorite was hit - datetime format \n",
    "# ● reclat - float \n",
    "# ● recclong - float\n",
    "# ● point coordinates - list of int"
   ]
  },
  {
   "cell_type": "code",
   "execution_count": 52,
   "id": "85744067",
   "metadata": {},
   "outputs": [],
   "source": [
    "import requests\n",
    "\n",
    "# request the url to get json data\n",
    "response = requests.get(\"https://data.nasa.gov/resource/y77d-th95.json\")"
   ]
  },
  {
   "cell_type": "code",
   "execution_count": 53,
   "id": "79a5ad9e",
   "metadata": {},
   "outputs": [],
   "source": [
    "# parse the json \n",
    "data = response.json()"
   ]
  },
  {
   "cell_type": "code",
   "execution_count": 54,
   "id": "968384d3",
   "metadata": {},
   "outputs": [],
   "source": [
    "# convert dict to dataframe which helps to do feature transformation easier\n",
    "df = pd.DataFrame(data)"
   ]
  },
  {
   "cell_type": "code",
   "execution_count": 55,
   "id": "28561410",
   "metadata": {},
   "outputs": [
    {
     "data": {
      "text/html": [
       "<div>\n",
       "<style scoped>\n",
       "    .dataframe tbody tr th:only-of-type {\n",
       "        vertical-align: middle;\n",
       "    }\n",
       "\n",
       "    .dataframe tbody tr th {\n",
       "        vertical-align: top;\n",
       "    }\n",
       "\n",
       "    .dataframe thead th {\n",
       "        text-align: right;\n",
       "    }\n",
       "</style>\n",
       "<table border=\"1\" class=\"dataframe\">\n",
       "  <thead>\n",
       "    <tr style=\"text-align: right;\">\n",
       "      <th></th>\n",
       "      <th>name</th>\n",
       "      <th>id</th>\n",
       "      <th>nametype</th>\n",
       "      <th>recclass</th>\n",
       "      <th>mass</th>\n",
       "      <th>fall</th>\n",
       "      <th>year</th>\n",
       "      <th>reclat</th>\n",
       "      <th>reclong</th>\n",
       "      <th>geolocation</th>\n",
       "      <th>:@computed_region_cbhk_fwbd</th>\n",
       "      <th>:@computed_region_nnqa_25f4</th>\n",
       "    </tr>\n",
       "  </thead>\n",
       "  <tbody>\n",
       "    <tr>\n",
       "      <th>0</th>\n",
       "      <td>Aachen</td>\n",
       "      <td>1</td>\n",
       "      <td>Valid</td>\n",
       "      <td>L5</td>\n",
       "      <td>21</td>\n",
       "      <td>Fell</td>\n",
       "      <td>1880-01-01T00:00:00.000</td>\n",
       "      <td>50.775000</td>\n",
       "      <td>6.083330</td>\n",
       "      <td>{'type': 'Point', 'coordinates': [6.08333, 50.775]}</td>\n",
       "      <td>NaN</td>\n",
       "      <td>NaN</td>\n",
       "    </tr>\n",
       "    <tr>\n",
       "      <th>1</th>\n",
       "      <td>Aarhus</td>\n",
       "      <td>2</td>\n",
       "      <td>Valid</td>\n",
       "      <td>H6</td>\n",
       "      <td>720</td>\n",
       "      <td>Fell</td>\n",
       "      <td>1951-01-01T00:00:00.000</td>\n",
       "      <td>56.183330</td>\n",
       "      <td>10.233330</td>\n",
       "      <td>{'type': 'Point', 'coordinates': [10.23333, 56.18333]}</td>\n",
       "      <td>NaN</td>\n",
       "      <td>NaN</td>\n",
       "    </tr>\n",
       "  </tbody>\n",
       "</table>\n",
       "</div>"
      ],
      "text/plain": [
       "     name id nametype recclass mass  fall                     year     reclat  \\\n",
       "0  Aachen  1    Valid       L5   21  Fell  1880-01-01T00:00:00.000  50.775000   \n",
       "1  Aarhus  2    Valid       H6  720  Fell  1951-01-01T00:00:00.000  56.183330   \n",
       "\n",
       "     reclong                                             geolocation  \\\n",
       "0   6.083330     {'type': 'Point', 'coordinates': [6.08333, 50.775]}   \n",
       "1  10.233330  {'type': 'Point', 'coordinates': [10.23333, 56.18333]}   \n",
       "\n",
       "  :@computed_region_cbhk_fwbd :@computed_region_nnqa_25f4  \n",
       "0                         NaN                         NaN  \n",
       "1                         NaN                         NaN  "
      ]
     },
     "execution_count": 55,
     "metadata": {},
     "output_type": "execute_result"
    }
   ],
   "source": [
    "df.head(2)"
   ]
  },
  {
   "cell_type": "code",
   "execution_count": 56,
   "id": "775723ba",
   "metadata": {},
   "outputs": [
    {
     "name": "stdout",
     "output_type": "stream",
     "text": [
      "<class 'pandas.core.frame.DataFrame'>\n",
      "RangeIndex: 1000 entries, 0 to 999\n",
      "Data columns (total 12 columns):\n",
      " #   Column                       Non-Null Count  Dtype \n",
      "---  ------                       --------------  ----- \n",
      " 0   name                         1000 non-null   object\n",
      " 1   id                           1000 non-null   object\n",
      " 2   nametype                     1000 non-null   object\n",
      " 3   recclass                     1000 non-null   object\n",
      " 4   mass                         972 non-null    object\n",
      " 5   fall                         1000 non-null   object\n",
      " 6   year                         999 non-null    object\n",
      " 7   reclat                       988 non-null    object\n",
      " 8   reclong                      988 non-null    object\n",
      " 9   geolocation                  988 non-null    object\n",
      " 10  :@computed_region_cbhk_fwbd  133 non-null    object\n",
      " 11  :@computed_region_nnqa_25f4  134 non-null    object\n",
      "dtypes: object(12)\n",
      "memory usage: 93.9+ KB\n"
     ]
    }
   ],
   "source": [
    "df.info()"
   ]
  },
  {
   "cell_type": "code",
   "execution_count": 57,
   "id": "49df23a3",
   "metadata": {},
   "outputs": [],
   "source": [
    "# convert object to int\n",
    "\n",
    "df[\"id\"] = df[\"id\"].astype(\"int\")"
   ]
  },
  {
   "cell_type": "code",
   "execution_count": 58,
   "id": "25460e4b",
   "metadata": {},
   "outputs": [],
   "source": [
    "# convert object to float\n",
    "\n",
    "df[\"mass\"] = df[\"mass\"].astype(\"float\")"
   ]
  },
  {
   "cell_type": "code",
   "execution_count": 59,
   "id": "8938a948",
   "metadata": {},
   "outputs": [],
   "source": [
    "# convert object to float\n",
    "\n",
    "df[\"reclat\"] = df[\"reclat\"].astype(\"float\")"
   ]
  },
  {
   "cell_type": "code",
   "execution_count": 60,
   "id": "12b0eb05",
   "metadata": {},
   "outputs": [],
   "source": [
    "# convert object to float\n",
    "\n",
    "df[\"reclong\"] = df[\"reclong\"].astype(\"float\")"
   ]
  },
  {
   "cell_type": "code",
   "execution_count": 61,
   "id": "3c8f760f",
   "metadata": {},
   "outputs": [
    {
     "data": {
      "text/plain": [
       "{'type': 'Point', 'coordinates': [12.43333, 7.05]}        2\n",
       "{'type': 'Point', 'coordinates': [0, 0]}                  2\n",
       "{'type': 'Point', 'coordinates': [6.08333, 50.775]}       1\n",
       "{'type': 'Point', 'coordinates': [30.35, 31.31667]}       1\n",
       "{'type': 'Point', 'coordinates': [33.5, -11.5]}           1\n",
       "                                                         ..\n",
       "{'type': 'Point', 'coordinates': [11, 60.66667]}          1\n",
       "{'type': 'Point', 'coordinates': [-79.61667, 43.2]}       1\n",
       "{'type': 'Point', 'coordinates': [45.38333, 43.66667]}    1\n",
       "{'type': 'Point', 'coordinates': [18.71667, 49.26667]}    1\n",
       "{'type': 'Point', 'coordinates': [34.76667, 47.85]}       1\n",
       "Name: geolocation, Length: 986, dtype: int64"
      ]
     },
     "execution_count": 61,
     "metadata": {},
     "output_type": "execute_result"
    }
   ],
   "source": [
    "df[\"geolocation\"].value_counts() # to check the values"
   ]
  },
  {
   "cell_type": "code",
   "execution_count": 62,
   "id": "43db8bbc",
   "metadata": {},
   "outputs": [],
   "source": [
    "# parse dictionary to get coordinates as list\n",
    "\n",
    "df[\"geolocation\"] = df[\"geolocation\"].apply(lambda x: x[\"coordinates\"] if isinstance(x, dict) else x)"
   ]
  },
  {
   "cell_type": "code",
   "execution_count": 63,
   "id": "d9350cdb",
   "metadata": {},
   "outputs": [
    {
     "data": {
      "text/plain": [
       "array(['1880-01-01T00:00:00.000', '1951-01-01T00:00:00.000',\n",
       "       '1952-01-01T00:00:00.000', '1976-01-01T00:00:00.000',\n",
       "       '1902-01-01T00:00:00.000', '1919-01-01T00:00:00.000',\n",
       "       '1949-01-01T00:00:00.000', '1814-01-01T00:00:00.000',\n",
       "       '1930-01-01T00:00:00.000', '1920-01-01T00:00:00.000',\n",
       "       '1974-01-01T00:00:00.000', '1925-01-01T00:00:00.000',\n",
       "       '1769-01-01T00:00:00.000', '1838-01-01T00:00:00.000',\n",
       "       '1959-01-01T00:00:00.000', '1981-01-01T00:00:00.000',\n",
       "       '1957-01-01T00:00:00.000', '2001-01-01T00:00:00.000',\n",
       "       '1806-01-01T00:00:00.000', '1766-01-01T00:00:00.000',\n",
       "       '2002-01-01T00:00:00.000', '1835-01-01T00:00:00.000',\n",
       "       '1873-01-01T00:00:00.000', '1860-01-01T00:00:00.000',\n",
       "       '1900-01-01T00:00:00.000', '1883-01-01T00:00:00.000',\n",
       "       '1899-01-01T00:00:00.000', '1969-01-01T00:00:00.000',\n",
       "       '2008-01-01T00:00:00.000', '1977-01-01T00:00:00.000',\n",
       "       '1895-01-01T00:00:00.000', '1898-01-01T00:00:00.000',\n",
       "       '1939-01-01T00:00:00.000', nan, '1822-01-01T00:00:00.000',\n",
       "       '1869-01-01T00:00:00.000', '1942-01-01T00:00:00.000',\n",
       "       '1971-01-01T00:00:00.000', '1984-01-01T00:00:00.000',\n",
       "       '1914-01-01T00:00:00.000', '1803-01-01T00:00:00.000',\n",
       "       '1954-01-01T00:00:00.000', '1932-01-01T00:00:00.000',\n",
       "       '1950-01-01T00:00:00.000', '1805-01-01T00:00:00.000',\n",
       "       '2009-01-01T00:00:00.000', '1923-01-01T00:00:00.000',\n",
       "       '1886-01-01T00:00:00.000', '1896-01-01T00:00:00.000',\n",
       "       '1933-01-01T00:00:00.000', '1945-01-01T00:00:00.000',\n",
       "       '1836-01-01T00:00:00.000', '1865-01-01T00:00:00.000',\n",
       "       '1842-01-01T00:00:00.000', '1858-01-01T00:00:00.000',\n",
       "       '1908-01-01T00:00:00.000', '1855-01-01T00:00:00.000',\n",
       "       '1968-01-01T00:00:00.000', '1938-01-01T00:00:00.000',\n",
       "       '1934-01-01T00:00:00.000', '1929-01-01T00:00:00.000',\n",
       "       '1922-01-01T00:00:00.000', '1907-01-01T00:00:00.000',\n",
       "       '1993-01-01T00:00:00.000', '1871-01-01T00:00:00.000',\n",
       "       '1892-01-01T00:00:00.000', '1913-01-01T00:00:00.000',\n",
       "       '1790-01-01T00:00:00.000', '1704-01-01T00:00:00.000',\n",
       "       '1904-01-01T00:00:00.000', '1910-01-01T00:00:00.000',\n",
       "       '1965-01-01T00:00:00.000', '2006-01-01T00:00:00.000',\n",
       "       '1994-01-01T00:00:00.000', '2012-01-01T00:00:00.000',\n",
       "       '1989-01-01T00:00:00.000', '1916-01-01T00:00:00.000',\n",
       "       '1893-01-01T00:00:00.000', '1961-01-01T00:00:00.000',\n",
       "       '1937-01-01T00:00:00.000', '1798-01-01T00:00:00.000',\n",
       "       '2004-01-01T00:00:00.000', '1943-01-01T00:00:00.000',\n",
       "       '1924-01-01T00:00:00.000', '1811-01-01T00:00:00.000',\n",
       "       '1859-01-01T00:00:00.000', '1921-01-01T00:00:00.000',\n",
       "       '1877-01-01T00:00:00.000', '1940-01-01T00:00:00.000',\n",
       "       '1905-01-01T00:00:00.000', '1827-01-01T00:00:00.000',\n",
       "       '1887-01-01T00:00:00.000', '1999-01-01T00:00:00.000',\n",
       "       '1843-01-01T00:00:00.000', '1796-01-01T00:00:00.000',\n",
       "       '1941-01-01T00:00:00.000', '1906-01-01T00:00:00.000',\n",
       "       '1909-01-01T00:00:00.000', '1833-01-01T00:00:00.000',\n",
       "       '1804-01-01T00:00:00.000', '1962-01-01T00:00:00.000',\n",
       "       '1808-01-01T00:00:00.000', '1894-01-01T00:00:00.000',\n",
       "       '1852-01-01T00:00:00.000', '1812-01-01T00:00:00.000',\n",
       "       '1823-01-01T00:00:00.000', '2003-01-01T00:00:00.000',\n",
       "       '2011-01-01T00:00:00.000', '1847-01-01T00:00:00.000',\n",
       "       '1956-01-01T00:00:00.000', '1960-01-01T00:00:00.000',\n",
       "       '1964-01-01T00:00:00.000', '2007-01-01T00:00:00.000',\n",
       "       '1990-01-01T00:00:00.000', '1946-01-01T00:00:00.000',\n",
       "       '1863-01-01T00:00:00.000', '1861-01-01T00:00:00.000',\n",
       "       '1870-01-01T00:00:00.000', '1991-01-01T00:00:00.000',\n",
       "       '1866-01-01T00:00:00.000', '1973-01-01T00:00:00.000',\n",
       "       '1846-01-01T00:00:00.000', '1874-01-01T00:00:00.000',\n",
       "       '1791-01-01T00:00:00.000', '1848-01-01T00:00:00.000',\n",
       "       '1583-01-01T00:00:00.000', '1810-01-01T00:00:00.000',\n",
       "       '1988-01-01T00:00:00.000', '1840-01-01T00:00:00.000',\n",
       "       '1998-01-01T00:00:00.000', '1885-01-01T00:00:00.000',\n",
       "       '1834-01-01T00:00:00.000', '1815-01-01T00:00:00.000',\n",
       "       '1841-01-01T00:00:00.000', '2013-01-01T00:00:00.000',\n",
       "       '1901-01-01T00:00:00.000', '1966-01-01T00:00:00.000',\n",
       "       '1978-01-01T00:00:00.000', '1979-01-01T00:00:00.000',\n",
       "       '1917-01-01T00:00:00.000', '1890-01-01T00:00:00.000',\n",
       "       '1844-01-01T00:00:00.000', '1936-01-01T00:00:00.000',\n",
       "       '1878-01-01T00:00:00.000', '1868-01-01T00:00:00.000',\n",
       "       '1829-01-01T00:00:00.000', '1897-01-01T00:00:00.000',\n",
       "       '1911-01-01T00:00:00.000', '1967-01-01T00:00:00.000',\n",
       "       '1884-01-01T00:00:00.000', '1903-01-01T00:00:00.000',\n",
       "       '1864-01-01T00:00:00.000', '1995-01-01T00:00:00.000',\n",
       "       '1970-01-01T00:00:00.000', '1853-01-01T00:00:00.000',\n",
       "       '1872-01-01T00:00:00.000', '1947-01-01T00:00:00.000',\n",
       "       '1785-01-01T00:00:00.000', '1400-01-01T00:00:00.000',\n",
       "       '1492-01-01T00:00:00.000', '1889-01-01T00:00:00.000',\n",
       "       '1837-01-01T00:00:00.000', '1879-01-01T00:00:00.000',\n",
       "       '1875-01-01T00:00:00.000', '1996-01-01T00:00:00.000',\n",
       "       '1944-01-01T00:00:00.000', '1882-01-01T00:00:00.000',\n",
       "       '1654-01-01T00:00:00.000', '1826-01-01T00:00:00.000',\n",
       "       '2000-01-01T00:00:00.000', '1918-01-01T00:00:00.000',\n",
       "       '1881-01-01T00:00:00.000', '1983-01-01T00:00:00.000',\n",
       "       '1980-01-01T00:00:00.000', '1891-01-01T00:00:00.000',\n",
       "       '1972-01-01T00:00:00.000', '1982-01-01T00:00:00.000',\n",
       "       '1851-01-01T00:00:00.000', '1817-01-01T00:00:00.000',\n",
       "       '1628-01-01T00:00:00.000', '1857-01-01T00:00:00.000',\n",
       "       '1912-01-01T00:00:00.000', '1825-01-01T00:00:00.000',\n",
       "       '1963-01-01T00:00:00.000', '1751-01-01T00:00:00.000',\n",
       "       '2010-01-01T00:00:00.000', '1975-01-01T00:00:00.000',\n",
       "       '1928-01-01T00:00:00.000', '1926-01-01T00:00:00.000',\n",
       "       '1621-01-01T00:00:00.000', '1819-01-01T00:00:00.000',\n",
       "       '1997-01-01T00:00:00.000', '1876-01-01T00:00:00.000',\n",
       "       '1821-01-01T00:00:00.000', '1955-01-01T00:00:00.000',\n",
       "       '1850-01-01T00:00:00.000', '1787-01-01T00:00:00.000',\n",
       "       '1867-01-01T00:00:00.000', '1809-01-01T00:00:00.000',\n",
       "       '1986-01-01T00:00:00.000', '1931-01-01T00:00:00.000',\n",
       "       '1985-01-01T00:00:00.000', '1987-01-01T00:00:00.000',\n",
       "       '1830-01-01T00:00:00.000', '1845-01-01T00:00:00.000',\n",
       "       '1813-01-01T00:00:00.000', '1854-01-01T00:00:00.000',\n",
       "       '1839-01-01T00:00:00.000', '1820-01-01T00:00:00.000',\n",
       "       '1935-01-01T00:00:00.000', '1768-01-01T00:00:00.000',\n",
       "       '1753-01-01T00:00:00.000', '1927-01-01T00:00:00.000',\n",
       "       '1948-01-01T00:00:00.000', '1801-01-01T00:00:00.000',\n",
       "       '1992-01-01T00:00:00.000', '1953-01-01T00:00:00.000',\n",
       "       '1915-01-01T00:00:00.000', '1862-01-01T00:00:00.000',\n",
       "       '1632-01-01T00:00:00.000', '1849-01-01T00:00:00.000',\n",
       "       '1637-01-01T00:00:00.000', '1795-01-01T00:00:00.000',\n",
       "       '0921-01-01T00:00:00.000', '1750-01-01T00:00:00.000',\n",
       "       '0861-01-01T00:00:00.000', '1662-01-01T00:00:00.000',\n",
       "       '1741-01-01T00:00:00.000', '1958-01-01T00:00:00.000',\n",
       "       '1520-01-01T00:00:00.000', '1671-01-01T00:00:00.000',\n",
       "       '1856-01-01T00:00:00.000', '1775-01-01T00:00:00.000',\n",
       "       '1779-01-01T00:00:00.000', '1723-01-01T00:00:00.000',\n",
       "       '1740-01-01T00:00:00.000', '1824-01-01T00:00:00.000',\n",
       "       '1828-01-01T00:00:00.000', '1491-01-01T00:00:00.000',\n",
       "       '1636-01-01T00:00:00.000', '1688-01-01T00:00:00.000',\n",
       "       '1715-01-01T00:00:00.000', '1773-01-01T00:00:00.000',\n",
       "       '1818-01-01T00:00:00.000', '1794-01-01T00:00:00.000',\n",
       "       '1647-01-01T00:00:00.000', '1623-01-01T00:00:00.000',\n",
       "       '1807-01-01T00:00:00.000'], dtype=object)"
      ]
     },
     "execution_count": 63,
     "metadata": {},
     "output_type": "execute_result"
    }
   ],
   "source": [
    "df[\"year\"].unique() # to check nan values"
   ]
  },
  {
   "cell_type": "code",
   "execution_count": 64,
   "id": "ff4db2d8",
   "metadata": {},
   "outputs": [],
   "source": [
    "# to split the string before T\n",
    "\n",
    "df[\"year\"] = df[\"year\"].apply(lambda x: x.split(\"T\")[0] if isinstance(x, str) else x)"
   ]
  },
  {
   "cell_type": "code",
   "execution_count": 65,
   "id": "83bb0e9b",
   "metadata": {},
   "outputs": [
    {
     "data": {
      "text/plain": [
       "array(['1880-01-01', '1951-01-01', '1952-01-01', '1976-01-01',\n",
       "       '1902-01-01', '1919-01-01', '1949-01-01', '1814-01-01',\n",
       "       '1930-01-01', '1920-01-01', '1974-01-01', '1925-01-01',\n",
       "       '1769-01-01', '1838-01-01', '1959-01-01', '1981-01-01',\n",
       "       '1957-01-01', '2001-01-01', '1806-01-01', '1766-01-01',\n",
       "       '2002-01-01', '1835-01-01', '1873-01-01', '1860-01-01',\n",
       "       '1900-01-01', '1883-01-01', '1899-01-01', '1969-01-01',\n",
       "       '2008-01-01', '1977-01-01', '1895-01-01', '1898-01-01',\n",
       "       '1939-01-01', nan, '1822-01-01', '1869-01-01', '1942-01-01',\n",
       "       '1971-01-01', '1984-01-01', '1914-01-01', '1803-01-01',\n",
       "       '1954-01-01', '1932-01-01', '1950-01-01', '1805-01-01',\n",
       "       '2009-01-01', '1923-01-01', '1886-01-01', '1896-01-01',\n",
       "       '1933-01-01', '1945-01-01', '1836-01-01', '1865-01-01',\n",
       "       '1842-01-01', '1858-01-01', '1908-01-01', '1855-01-01',\n",
       "       '1968-01-01', '1938-01-01', '1934-01-01', '1929-01-01',\n",
       "       '1922-01-01', '1907-01-01', '1993-01-01', '1871-01-01',\n",
       "       '1892-01-01', '1913-01-01', '1790-01-01', '1704-01-01',\n",
       "       '1904-01-01', '1910-01-01', '1965-01-01', '2006-01-01',\n",
       "       '1994-01-01', '2012-01-01', '1989-01-01', '1916-01-01',\n",
       "       '1893-01-01', '1961-01-01', '1937-01-01', '1798-01-01',\n",
       "       '2004-01-01', '1943-01-01', '1924-01-01', '1811-01-01',\n",
       "       '1859-01-01', '1921-01-01', '1877-01-01', '1940-01-01',\n",
       "       '1905-01-01', '1827-01-01', '1887-01-01', '1999-01-01',\n",
       "       '1843-01-01', '1796-01-01', '1941-01-01', '1906-01-01',\n",
       "       '1909-01-01', '1833-01-01', '1804-01-01', '1962-01-01',\n",
       "       '1808-01-01', '1894-01-01', '1852-01-01', '1812-01-01',\n",
       "       '1823-01-01', '2003-01-01', '2011-01-01', '1847-01-01',\n",
       "       '1956-01-01', '1960-01-01', '1964-01-01', '2007-01-01',\n",
       "       '1990-01-01', '1946-01-01', '1863-01-01', '1861-01-01',\n",
       "       '1870-01-01', '1991-01-01', '1866-01-01', '1973-01-01',\n",
       "       '1846-01-01', '1874-01-01', '1791-01-01', '1848-01-01',\n",
       "       '1583-01-01', '1810-01-01', '1988-01-01', '1840-01-01',\n",
       "       '1998-01-01', '1885-01-01', '1834-01-01', '1815-01-01',\n",
       "       '1841-01-01', '2013-01-01', '1901-01-01', '1966-01-01',\n",
       "       '1978-01-01', '1979-01-01', '1917-01-01', '1890-01-01',\n",
       "       '1844-01-01', '1936-01-01', '1878-01-01', '1868-01-01',\n",
       "       '1829-01-01', '1897-01-01', '1911-01-01', '1967-01-01',\n",
       "       '1884-01-01', '1903-01-01', '1864-01-01', '1995-01-01',\n",
       "       '1970-01-01', '1853-01-01', '1872-01-01', '1947-01-01',\n",
       "       '1785-01-01', '1400-01-01', '1492-01-01', '1889-01-01',\n",
       "       '1837-01-01', '1879-01-01', '1875-01-01', '1996-01-01',\n",
       "       '1944-01-01', '1882-01-01', '1654-01-01', '1826-01-01',\n",
       "       '2000-01-01', '1918-01-01', '1881-01-01', '1983-01-01',\n",
       "       '1980-01-01', '1891-01-01', '1972-01-01', '1982-01-01',\n",
       "       '1851-01-01', '1817-01-01', '1628-01-01', '1857-01-01',\n",
       "       '1912-01-01', '1825-01-01', '1963-01-01', '1751-01-01',\n",
       "       '2010-01-01', '1975-01-01', '1928-01-01', '1926-01-01',\n",
       "       '1621-01-01', '1819-01-01', '1997-01-01', '1876-01-01',\n",
       "       '1821-01-01', '1955-01-01', '1850-01-01', '1787-01-01',\n",
       "       '1867-01-01', '1809-01-01', '1986-01-01', '1931-01-01',\n",
       "       '1985-01-01', '1987-01-01', '1830-01-01', '1845-01-01',\n",
       "       '1813-01-01', '1854-01-01', '1839-01-01', '1820-01-01',\n",
       "       '1935-01-01', '1768-01-01', '1753-01-01', '1927-01-01',\n",
       "       '1948-01-01', '1801-01-01', '1992-01-01', '1953-01-01',\n",
       "       '1915-01-01', '1862-01-01', '1632-01-01', '1849-01-01',\n",
       "       '1637-01-01', '1795-01-01', '0921-01-01', '1750-01-01',\n",
       "       '0861-01-01', '1662-01-01', '1741-01-01', '1958-01-01',\n",
       "       '1520-01-01', '1671-01-01', '1856-01-01', '1775-01-01',\n",
       "       '1779-01-01', '1723-01-01', '1740-01-01', '1824-01-01',\n",
       "       '1828-01-01', '1491-01-01', '1636-01-01', '1688-01-01',\n",
       "       '1715-01-01', '1773-01-01', '1818-01-01', '1794-01-01',\n",
       "       '1647-01-01', '1623-01-01', '1807-01-01'], dtype=object)"
      ]
     },
     "execution_count": 65,
     "metadata": {},
     "output_type": "execute_result"
    }
   ],
   "source": [
    "df[\"year\"].unique() # to check nan values"
   ]
  },
  {
   "cell_type": "code",
   "execution_count": 66,
   "id": "97d672a5",
   "metadata": {},
   "outputs": [
    {
     "data": {
      "text/html": [
       "<div>\n",
       "<style scoped>\n",
       "    .dataframe tbody tr th:only-of-type {\n",
       "        vertical-align: middle;\n",
       "    }\n",
       "\n",
       "    .dataframe tbody tr th {\n",
       "        vertical-align: top;\n",
       "    }\n",
       "\n",
       "    .dataframe thead th {\n",
       "        text-align: right;\n",
       "    }\n",
       "</style>\n",
       "<table border=\"1\" class=\"dataframe\">\n",
       "  <thead>\n",
       "    <tr style=\"text-align: right;\">\n",
       "      <th></th>\n",
       "      <th>name</th>\n",
       "      <th>id</th>\n",
       "      <th>nametype</th>\n",
       "      <th>recclass</th>\n",
       "      <th>mass</th>\n",
       "      <th>fall</th>\n",
       "      <th>year</th>\n",
       "      <th>reclat</th>\n",
       "      <th>reclong</th>\n",
       "      <th>geolocation</th>\n",
       "      <th>:@computed_region_cbhk_fwbd</th>\n",
       "      <th>:@computed_region_nnqa_25f4</th>\n",
       "    </tr>\n",
       "  </thead>\n",
       "  <tbody>\n",
       "    <tr>\n",
       "      <th>174</th>\n",
       "      <td>Castrovillari</td>\n",
       "      <td>5295</td>\n",
       "      <td>Valid</td>\n",
       "      <td>Stone-uncl</td>\n",
       "      <td>15000.0</td>\n",
       "      <td>Fell</td>\n",
       "      <td>1583-01-01</td>\n",
       "      <td>39.8</td>\n",
       "      <td>16.2</td>\n",
       "      <td>[16.2, 39.8]</td>\n",
       "      <td>NaN</td>\n",
       "      <td>NaN</td>\n",
       "    </tr>\n",
       "  </tbody>\n",
       "</table>\n",
       "</div>"
      ],
      "text/plain": [
       "              name    id nametype    recclass     mass  fall        year  \\\n",
       "174  Castrovillari  5295    Valid  Stone-uncl  15000.0  Fell  1583-01-01   \n",
       "\n",
       "     reclat  reclong   geolocation :@computed_region_cbhk_fwbd  \\\n",
       "174    39.8     16.2  [16.2, 39.8]                         NaN   \n",
       "\n",
       "    :@computed_region_nnqa_25f4  \n",
       "174                         NaN  "
      ]
     },
     "execution_count": 66,
     "metadata": {},
     "output_type": "execute_result"
    }
   ],
   "source": [
    "df.iloc[[174]] # the value which stops to convert it to datetime"
   ]
  },
  {
   "cell_type": "code",
   "execution_count": 67,
   "id": "d9175a56",
   "metadata": {},
   "outputs": [
    {
     "data": {
      "text/plain": [
       "Timestamp('1677-09-21 00:12:43.145224193')"
      ]
     },
     "execution_count": 67,
     "metadata": {},
     "output_type": "execute_result"
    }
   ],
   "source": [
    "pd.Timestamp.min # it is minimum year limit for pandas"
   ]
  },
  {
   "cell_type": "code",
   "execution_count": 68,
   "id": "5ee5335d",
   "metadata": {},
   "outputs": [],
   "source": [
    "df[\"year\"] = pd.to_datetime(df[\"year\"], errors=\"ignore\") \n",
    "\n",
    "# If we use coerce it will change it to nan values. since we have some date with less than above timestamp we \n",
    "# cant change It to datetime so i used ignore."
   ]
  },
  {
   "cell_type": "code",
   "execution_count": 69,
   "id": "84a7c78b",
   "metadata": {},
   "outputs": [],
   "source": [
    "df.drop([\":@computed_region_cbhk_fwbd\", \":@computed_region_nnqa_25f4\"], axis=1, inplace=True)\n",
    "\n",
    "# It has been dropped since there is no info regarding this and it has lot of nan values"
   ]
  },
  {
   "cell_type": "code",
   "execution_count": 70,
   "id": "c9f716ab",
   "metadata": {},
   "outputs": [
    {
     "name": "stdout",
     "output_type": "stream",
     "text": [
      "<class 'pandas.core.frame.DataFrame'>\n",
      "RangeIndex: 1000 entries, 0 to 999\n",
      "Data columns (total 10 columns):\n",
      " #   Column       Non-Null Count  Dtype  \n",
      "---  ------       --------------  -----  \n",
      " 0   name         1000 non-null   object \n",
      " 1   id           1000 non-null   int64  \n",
      " 2   nametype     1000 non-null   object \n",
      " 3   recclass     1000 non-null   object \n",
      " 4   mass         972 non-null    float64\n",
      " 5   fall         1000 non-null   object \n",
      " 6   year         999 non-null    object \n",
      " 7   reclat       988 non-null    float64\n",
      " 8   reclong      988 non-null    float64\n",
      " 9   geolocation  988 non-null    object \n",
      "dtypes: float64(3), int64(1), object(6)\n",
      "memory usage: 78.2+ KB\n"
     ]
    }
   ],
   "source": [
    "df.info()"
   ]
  },
  {
   "cell_type": "code",
   "execution_count": 71,
   "id": "daf26de4",
   "metadata": {},
   "outputs": [],
   "source": [
    "df.to_csv(\"nasa.csv\")"
   ]
  },
  {
   "cell_type": "code",
   "execution_count": null,
   "id": "84f8bc53",
   "metadata": {},
   "outputs": [],
   "source": []
  }
 ],
 "metadata": {
  "kernelspec": {
   "display_name": "Python 3 (ipykernel)",
   "language": "python",
   "name": "python3"
  },
  "language_info": {
   "codemirror_mode": {
    "name": "ipython",
    "version": 3
   },
   "file_extension": ".py",
   "mimetype": "text/x-python",
   "name": "python",
   "nbconvert_exporter": "python",
   "pygments_lexer": "ipython3",
   "version": "3.8.16"
  }
 },
 "nbformat": 4,
 "nbformat_minor": 5
}
