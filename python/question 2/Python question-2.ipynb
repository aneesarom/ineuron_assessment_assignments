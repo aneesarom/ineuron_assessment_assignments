{
 "cells": [
  {
   "cell_type": "code",
   "execution_count": 3,
   "id": "01e43d6a",
   "metadata": {},
   "outputs": [],
   "source": [
    "import pandas as pd\n",
    "import numpy as np\n",
    "pd.set_option('max_colwidth', None)"
   ]
  },
  {
   "cell_type": "markdown",
   "id": "014584dd",
   "metadata": {},
   "source": [
    "# Question 2: -\n",
    "\n",
    "```\n",
    "Consider a string to be valid if all characters of the string appear the same number of times. It is also valid if he can remove just one character at the index in the string, and the remaining characters will occur the same number of times. Given a string, determine if it is valid. If so, return YES , otherwise return NO .\n",
    "\n",
    "Note - You have to write at least 2 additional test cases in which your program will run successfully and provide an explanation for the same.\n",
    "Example input 1 - s = “abc”. This is a valid string because frequencies are { “a”: 1, “b”: 1, “c”: 1 }\n",
    "Example output 1- YES\n",
    "Example input 2 - s “abccc”. This string is not valid as we can remove only 1 occurrence of “c”. That leaves\n",
    "character frequencies of { “a”: 1, “b”: 1 , “c”: 2 }\n",
    "Example output 2 - NO\n",
    "```"
   ]
  },
  {
   "cell_type": "code",
   "execution_count": 35,
   "id": "16cacb59",
   "metadata": {},
   "outputs": [],
   "source": [
    "def check_occurence(string):\n",
    "    string = list(string)\n",
    "    flag = True\n",
    "    dicti = {}\n",
    "    for char in string:\n",
    "        length = string.count(char)\n",
    "        if length > 1 and flag:\n",
    "            dicti.setdefault(char, length-1)\n",
    "            flag = False\n",
    "        else:\n",
    "            dicti.setdefault(char, length)\n",
    "    for i in dicti.values():\n",
    "        if i > 1:\n",
    "            return \"No\"\n",
    "        \n",
    "    return \"Yes\""
   ]
  },
  {
   "cell_type": "code",
   "execution_count": 36,
   "id": "ba1e291a",
   "metadata": {},
   "outputs": [
    {
     "data": {
      "text/plain": [
       "'Yes'"
      ]
     },
     "execution_count": 36,
     "metadata": {},
     "output_type": "execute_result"
    }
   ],
   "source": [
    "check_occurence(\"dbcc\")"
   ]
  },
  {
   "cell_type": "markdown",
   "id": "0a9d192e",
   "metadata": {},
   "source": [
    "***Since we have limit to remove one occurence of character from the given string, Pogram removed one occurence of c and all other characters are occured at once. Hence it returned Yes***"
   ]
  },
  {
   "cell_type": "code",
   "execution_count": 37,
   "id": "64d3f4e9",
   "metadata": {},
   "outputs": [
    {
     "data": {
      "text/plain": [
       "'No'"
      ]
     },
     "execution_count": 37,
     "metadata": {},
     "output_type": "execute_result"
    }
   ],
   "source": [
    "check_occurence(\"akccc\")"
   ]
  },
  {
   "cell_type": "markdown",
   "id": "60403dab",
   "metadata": {},
   "source": [
    "***Eventhough we have flexibility to remove one occurence of character from the given string, It has two occurence of c remaining. Hence it returned No***"
   ]
  },
  {
   "cell_type": "code",
   "execution_count": null,
   "id": "6935aab2",
   "metadata": {},
   "outputs": [],
   "source": []
  }
 ],
 "metadata": {
  "kernelspec": {
   "display_name": "Python 3 (ipykernel)",
   "language": "python",
   "name": "python3"
  },
  "language_info": {
   "codemirror_mode": {
    "name": "ipython",
    "version": 3
   },
   "file_extension": ".py",
   "mimetype": "text/x-python",
   "name": "python",
   "nbconvert_exporter": "python",
   "pygments_lexer": "ipython3",
   "version": "3.8.16"
  }
 },
 "nbformat": 4,
 "nbformat_minor": 5
}
