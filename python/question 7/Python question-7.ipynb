{
 "cells": [
  {
   "cell_type": "code",
   "execution_count": 8,
   "id": "e1c6b6b1",
   "metadata": {},
   "outputs": [],
   "source": [
    "import pandas as pd\n",
    "import numpy as np\n",
    "pd.set_option('max_colwidth', None)\n",
    "import matplotlib.pyplot as plt\n",
    "import seaborn as sns"
   ]
  },
  {
   "cell_type": "markdown",
   "id": "463eb025",
   "metadata": {},
   "source": [
    "# Question 7 -\n",
    "```\n",
    "Using the data from Question 4, write code to analyze the data and answer the following questions Note -\n",
    "1. Draw plots to demonstrate the analysis for the following questions for better visualizations \n",
    "2. Write code comments wherever required for code understanding\n",
    "Insights to be drawn -\n",
    "● Get all the Earth meteorites that fell before the year 2000\n",
    "● Get all the earth meteorites co-ordinates who fell before the year 1970\n",
    "● Assuming that the mass of the earth meteorites was in kg, get all those whose mass was more\n",
    "than 10000kg\n",
    "```"
   ]
  },
  {
   "cell_type": "code",
   "execution_count": 9,
   "id": "ef60d73e",
   "metadata": {},
   "outputs": [],
   "source": [
    "df = pd.read_csv(\"nasa.csv\")"
   ]
  },
  {
   "cell_type": "code",
   "execution_count": 10,
   "id": "36fadfc3",
   "metadata": {},
   "outputs": [
    {
     "data": {
      "text/html": [
       "<div>\n",
       "<style scoped>\n",
       "    .dataframe tbody tr th:only-of-type {\n",
       "        vertical-align: middle;\n",
       "    }\n",
       "\n",
       "    .dataframe tbody tr th {\n",
       "        vertical-align: top;\n",
       "    }\n",
       "\n",
       "    .dataframe thead th {\n",
       "        text-align: right;\n",
       "    }\n",
       "</style>\n",
       "<table border=\"1\" class=\"dataframe\">\n",
       "  <thead>\n",
       "    <tr style=\"text-align: right;\">\n",
       "      <th></th>\n",
       "      <th>Unnamed: 0</th>\n",
       "      <th>name</th>\n",
       "      <th>id</th>\n",
       "      <th>nametype</th>\n",
       "      <th>recclass</th>\n",
       "      <th>mass</th>\n",
       "      <th>fall</th>\n",
       "      <th>year</th>\n",
       "      <th>reclat</th>\n",
       "      <th>reclong</th>\n",
       "      <th>geolocation</th>\n",
       "    </tr>\n",
       "  </thead>\n",
       "  <tbody>\n",
       "    <tr>\n",
       "      <th>0</th>\n",
       "      <td>0</td>\n",
       "      <td>Aachen</td>\n",
       "      <td>1</td>\n",
       "      <td>Valid</td>\n",
       "      <td>L5</td>\n",
       "      <td>21.0</td>\n",
       "      <td>Fell</td>\n",
       "      <td>1880-01-01</td>\n",
       "      <td>50.77500</td>\n",
       "      <td>6.08333</td>\n",
       "      <td>[6.08333, 50.775]</td>\n",
       "    </tr>\n",
       "    <tr>\n",
       "      <th>1</th>\n",
       "      <td>1</td>\n",
       "      <td>Aarhus</td>\n",
       "      <td>2</td>\n",
       "      <td>Valid</td>\n",
       "      <td>H6</td>\n",
       "      <td>720.0</td>\n",
       "      <td>Fell</td>\n",
       "      <td>1951-01-01</td>\n",
       "      <td>56.18333</td>\n",
       "      <td>10.23333</td>\n",
       "      <td>[10.23333, 56.18333]</td>\n",
       "    </tr>\n",
       "    <tr>\n",
       "      <th>2</th>\n",
       "      <td>2</td>\n",
       "      <td>Abee</td>\n",
       "      <td>6</td>\n",
       "      <td>Valid</td>\n",
       "      <td>EH4</td>\n",
       "      <td>107000.0</td>\n",
       "      <td>Fell</td>\n",
       "      <td>1952-01-01</td>\n",
       "      <td>54.21667</td>\n",
       "      <td>-113.00000</td>\n",
       "      <td>[-113, 54.21667]</td>\n",
       "    </tr>\n",
       "    <tr>\n",
       "      <th>3</th>\n",
       "      <td>3</td>\n",
       "      <td>Acapulco</td>\n",
       "      <td>10</td>\n",
       "      <td>Valid</td>\n",
       "      <td>Acapulcoite</td>\n",
       "      <td>1914.0</td>\n",
       "      <td>Fell</td>\n",
       "      <td>1976-01-01</td>\n",
       "      <td>16.88333</td>\n",
       "      <td>-99.90000</td>\n",
       "      <td>[-99.9, 16.88333]</td>\n",
       "    </tr>\n",
       "    <tr>\n",
       "      <th>4</th>\n",
       "      <td>4</td>\n",
       "      <td>Achiras</td>\n",
       "      <td>370</td>\n",
       "      <td>Valid</td>\n",
       "      <td>L6</td>\n",
       "      <td>780.0</td>\n",
       "      <td>Fell</td>\n",
       "      <td>1902-01-01</td>\n",
       "      <td>-33.16667</td>\n",
       "      <td>-64.95000</td>\n",
       "      <td>[-64.95, -33.16667]</td>\n",
       "    </tr>\n",
       "  </tbody>\n",
       "</table>\n",
       "</div>"
      ],
      "text/plain": [
       "   Unnamed: 0      name   id nametype     recclass      mass  fall  \\\n",
       "0           0    Aachen    1    Valid           L5      21.0  Fell   \n",
       "1           1    Aarhus    2    Valid           H6     720.0  Fell   \n",
       "2           2      Abee    6    Valid          EH4  107000.0  Fell   \n",
       "3           3  Acapulco   10    Valid  Acapulcoite    1914.0  Fell   \n",
       "4           4   Achiras  370    Valid           L6     780.0  Fell   \n",
       "\n",
       "         year    reclat    reclong           geolocation  \n",
       "0  1880-01-01  50.77500    6.08333     [6.08333, 50.775]  \n",
       "1  1951-01-01  56.18333   10.23333  [10.23333, 56.18333]  \n",
       "2  1952-01-01  54.21667 -113.00000      [-113, 54.21667]  \n",
       "3  1976-01-01  16.88333  -99.90000     [-99.9, 16.88333]  \n",
       "4  1902-01-01 -33.16667  -64.95000   [-64.95, -33.16667]  "
      ]
     },
     "execution_count": 10,
     "metadata": {},
     "output_type": "execute_result"
    }
   ],
   "source": [
    "df.head()"
   ]
  },
  {
   "cell_type": "code",
   "execution_count": 26,
   "id": "a93e3637",
   "metadata": {},
   "outputs": [
    {
     "data": {
      "text/plain": [
       "(1000, 12)"
      ]
     },
     "execution_count": 26,
     "metadata": {},
     "output_type": "execute_result"
    }
   ],
   "source": [
    "df.shape"
   ]
  },
  {
   "cell_type": "markdown",
   "id": "78604e03",
   "metadata": {},
   "source": [
    "### Get all the Earth meteorites that fell before the year 2000"
   ]
  },
  {
   "cell_type": "code",
   "execution_count": 17,
   "id": "d4f36e12",
   "metadata": {},
   "outputs": [],
   "source": [
    "df[\"only_year\"] = df[\"year\"].apply(lambda x: int(x.split(\"-\")[0]) if isinstance(x, str) else 0)"
   ]
  },
  {
   "cell_type": "code",
   "execution_count": 20,
   "id": "edb3d817",
   "metadata": {},
   "outputs": [
    {
     "data": {
      "text/plain": [
       "array(['Aachen', 'Aarhus', 'Abee', 'Acapulco', 'Achiras', 'Adhi Kot',\n",
       "       'Adzhi-Bogdo (stone)', 'Agen', 'Aguada', 'Aguila Blanca',\n",
       "       'Aioun el Atrouss', 'Aïr', 'Aire-sur-la-Lys', 'Akaba', 'Akbarpur',\n",
       "       'Akwanga', 'Akyumak', 'Al Rais', 'Alais', 'Albareto', 'Alberta',\n",
       "       'Aldsworth', 'Aleppo', 'Alessandria', 'Alexandrovsky',\n",
       "       'Alfianello', 'Allegan', 'Allende', \"Alta'ameem\", 'Ambapur Nagla',\n",
       "       'Andhara', 'Andover', 'Andreevka', 'Andura',\n",
       "       'Northwest Africa 5815', 'Angers', 'Angra dos Reis (stone)',\n",
       "       'Ankober', 'Anlong', 'Aomori', 'Appley Bridge', 'Apt',\n",
       "       'Arbol Solo', 'Archie', 'Arroyo Aguiar', 'Asco', 'Ashdon',\n",
       "       'Assisi', 'Atarra', 'Atemajac', 'Athens', 'Atoka', 'Aubres',\n",
       "       'Aumale', 'Aumieres', 'Ausson', 'Avanhandava', 'Avce', 'Avilez',\n",
       "       'Awere', 'Aztec', 'Bachmut', 'Bahjoi', 'Bald Mountain', 'Baldwyn',\n",
       "       'Bali', 'Ban Rong Du', 'Bandong', 'Bansur', 'Banswal', 'Banten',\n",
       "       'Barbotan', 'Barcelona (stone)', 'Barea', 'Barnaul', 'Barntrup',\n",
       "       'Baroti', 'Barwell', 'Baszkówka', 'Bath', 'Bath Furnace', 'Bawku',\n",
       "       'Baxter', 'Beardsley', 'Beaver Creek', 'Beddgelert', 'Bells',\n",
       "       'Belville', 'Benares (a)', 'Benld', 'Benoni', 'Benton', 'Béréba',\n",
       "       'Berlanguillas', 'Bethlehem', 'Beuste', 'Beyrout', 'Bhagur',\n",
       "       'Bherai', 'Bhola', 'Bholghati', 'Bialystok', 'Bielokrynitschie',\n",
       "       'Bilanga', 'Binningup', \"Birni N'konni\", 'Bishopville',\n",
       "       'Bishunpur', 'Bjelaja Zerkov', 'Bjurböle', 'Black Moshannan Park',\n",
       "       'Blackwell', 'Blanket', 'Blansko', 'Bloomington', 'Bo Xian',\n",
       "       'Bocas', 'Bogou', 'Boguslavka', 'Borgo San Donino', 'Bori',\n",
       "       'Boriskino', 'Borkut', 'Borodino', 'Botschetschki', 'Bovedy',\n",
       "       'Bradford Woods', 'Braunau', 'Breitscheid', 'Bremervörde',\n",
       "       'Brient', 'Bruderheim', 'Bulls Run', 'Bununu', 'Bur-Gheluai',\n",
       "       'Burnwell', 'Bursa', 'Buschhof', 'Bustee', 'Butsura',\n",
       "       'Cabezo de Mayo', 'Cabin Creek', 'Cacak', 'Calivo', 'Campos Sales',\n",
       "       'Çanakkale', 'Cañellas', 'Cangas de Onis', 'Canon City',\n",
       "       'Cape Girardeau', 'Capilla del Monte', 'Caratash', 'Castalia',\n",
       "       'Castel Berardenga', 'Castine', 'Castrovillari', 'Caswell County',\n",
       "       'Ceniceros', 'Centerville', 'Cereseto', 'Chadong', 'Chail',\n",
       "       'Chainpur', 'Chajari', 'Chandakapur', 'Chandpur', 'Changde',\n",
       "       'Chantonnay', 'Charlotte', 'Charsonville', 'Charwallas',\n",
       "       'Chassigny', 'Château-Renard', 'Chaves', 'Chela', 'Chernyi Bor',\n",
       "       'Cherokee Springs', 'Chervettaz', 'Chervony Kut', 'Chetrinahatti',\n",
       "       'Chiang Khan', 'Chicora', 'Chisenga', 'Chitado', 'Chitenay',\n",
       "       'Cilimus', 'Claxton', 'Clohars', 'Colby (Wisconsin)',\n",
       "       'Cold Bokkeveld', 'Coleman', 'Collescipoli', 'Conquista', 'Cosina',\n",
       "       'Cranganore', 'Crescent', 'Cronstad', 'Cross Roads', 'Crumlin',\n",
       "       'Cumberland Falls', 'Cynthiana', 'Dahmani', 'Dandapur',\n",
       "       \"Daniel's Kuil\", 'Danville', 'Darmstadt', 'Dashoguz',\n",
       "       'De Cewsville', 'Deal', 'Delhi', 'Demina', 'Denver', 'Desuri',\n",
       "       'Devri-Khera', 'Dhajala', 'Dharwar', 'Dhurmsala', 'Diep River',\n",
       "       'Distrito Quebracho', 'Djati-Pengilon', 'Djermaia', 'Djoumine',\n",
       "       'Dokachi', 'Dolgovoli', 'Domanitch', 'Dong Ujimqin Qi',\n",
       "       'Donga Kohrod', 'Dongtai', 'Doroninsk', 'Dosso', 'Douar Mghila',\n",
       "       'Dowa', 'Drake Creek', 'Dresden (Ontario)', 'Dubrovnik',\n",
       "       'Dunbogan', 'Dundrum', 'Dunhua', 'Durala', 'Duruma', 'Duwun',\n",
       "       'Dwaleni', 'Dyalpur', 'Dyarrl Island', 'Eagle', 'Ehole',\n",
       "       'Eichstädt', 'Ekeby', 'Ekh Khera', 'El Idrissia',\n",
       "       'El Paso de Aguila', 'El Tigre', 'Elbert', 'Elbogen', 'Elenovka',\n",
       "       'Ellemeet', 'Emmaville', 'Enshi', 'Ensisheim', 'Épinal', 'Erakot',\n",
       "       'Erevan', 'Ergheo', 'Erxleben', 'Esnandes', 'Essebi',\n",
       "       'Estherville', 'Farmington', 'Farmville', 'Favars', 'Fayetteville',\n",
       "       'Feid Chair', 'Felix', 'Fenghsien-Ku', 'Ferguson', 'Fermo',\n",
       "       'Fisher', 'Florence', 'Forest City', 'Forest Vale', 'Forksville',\n",
       "       'Forsbach', 'Forsyth', 'Fort Flatters', 'Frankfort (stone)',\n",
       "       'Fuhe', 'Fukutomi', 'Fünen', 'Futtehpur', 'Fuyang', 'Galapian',\n",
       "       'Galim (a)', 'Galim (b)', 'Galkiv', 'Gambat', 'Gao-Guenie',\n",
       "       'Garhi Yasin', 'Garland', 'Gashua', 'Geidam', 'Gifu', 'Girgenti',\n",
       "       'Git-Git', 'Glanerbrug', 'Glanggang', 'Glasatovo', 'Glatton',\n",
       "       'Gnadenfrei', 'Gopalpur', 'Gorlovka', 'Granes', 'Grefsheim',\n",
       "       'Grosnaja', 'Gross-Divina', 'Grossliebenthal', 'Grüneberg',\n",
       "       'Grzempach', 'Gualeguaychú', 'Guangmingshan', 'Guangnan',\n",
       "       'Guangrao', 'Guareña', 'Guêa', 'Guibga', 'Guidder', 'Gujargaon',\n",
       "       'Gujba', 'Gumoschnik', 'Gurram Konda', 'Gursum', 'Gütersloh',\n",
       "       'Gyokukei', 'Hachi-oji', 'Hainaut', 'Hallingeberg', 'Hamlet',\n",
       "       'Haraiya', 'Haripura', 'Harleton', 'Harrison County', 'Hashima',\n",
       "       'Hassi-Jekna', 'Hatford', 'Haverö', 'Hedeskoga', 'Hedjaz',\n",
       "       'Heredia', 'Hessle', 'Higashi-koen', 'High Possil', 'Hökmark',\n",
       "       'Holbrook', 'Holetta', 'Homestead', 'Honolulu', 'Hotse', 'Hoxie',\n",
       "       'Hraschina', 'Hungen', 'Hvittis', 'Ibbenbüren', 'Ibitira',\n",
       "       'Ibrisim', 'Ichkala', 'Idutywa', 'Iguaracu', 'Ijopega', 'Indarch',\n",
       "       'Independence', 'Inner Mongolia', 'Innisfree', 'Ipiranga',\n",
       "       'Ishinga', 'Isthilart', 'Itapicuru-Mirim', 'Itqiy', 'Ivuna',\n",
       "       'Jackalsfontein', 'Jajh deh Kot Lalu', 'Jalanash', 'Jalandhar',\n",
       "       'Jamkheir', 'Jartai', 'Jelica', 'Jemlapur', 'Jhung', 'Jiange',\n",
       "       'Jianshi', 'Jilin', 'Jodzie', 'Johnstown', 'Jolomba', 'Jonzac',\n",
       "       'Juancheng', 'Judesegeri', 'Jumapalo', 'Junan', 'Juromenha',\n",
       "       'Juvinas', 'Kaba', 'Kabo', 'Kadonah', 'Kaee', 'Kagarlyk', 'Kaidun',\n",
       "       'Kainsaz', 'Kakangari', 'Kakowa', 'Kalaba', 'Kalumbi', 'Kamalpur',\n",
       "       'Kamiomi', 'Kamsagar', 'Kandahar (Afghanistan)', 'Kangean',\n",
       "       'Kangra Valley', 'Kapoeta', 'Kaptal-Aryk', 'Karakol', 'Karatu',\n",
       "       'Karewar', 'Karkh', 'Karloowala', 'Karoonda', 'Kasamatsu',\n",
       "       'Katagum', 'Kayakent', 'Kediri', 'Kendleton', 'Kerilis',\n",
       "       'Kernouve', 'Kesen', 'Khairpur', 'Khanpur', 'Kharkov', 'Kheragur',\n",
       "       'Khetri', 'Khmelevka', 'Khohar', 'Khor Temiki', 'Kidairat', 'Kiel',\n",
       "       'Kiffa', 'Kijima (1906)', 'Kikino', 'Kilbourn', 'Killeter',\n",
       "       'Kingai', 'Kirbyville', 'Kisvarsány', 'Kitchener', 'Klein-Wenden',\n",
       "       'Knyahinya', 'Kobe', 'Kokubunji', 'Komagome', 'Konovo',\n",
       "       'Krähenberg', 'Krasnoi-Ugol', 'Krasnyi Klyuch', 'Krutikha',\n",
       "       'Krymka', 'Kukschin', 'Kulak', 'Kuleschovka', 'Kulp', 'Kunashak',\n",
       "       'Kunya-Urgench', 'Kushiike', 'Kusiali', 'Kutais', 'Kuttippuram',\n",
       "       'Kuznetzovo', 'Kyushu', 'La Bécasse', 'La Charca', 'La Colina',\n",
       "       'La Criolla', 'Laborel', 'Lahrauli', \"L'Aigle\", 'Lakangaon',\n",
       "       'Lalitpur', 'Lancé', 'Lancon', 'Långhalsen', 'Lanxi',\n",
       "       'Lanzenkirchen', 'Laochenzhen', 'Launton', 'Lavrentievka',\n",
       "       'Le Pressoir', 'Le Teilleul', 'Leedey', 'Leeuwfontein',\n",
       "       'Leighlinbridge', 'Leighton', 'Leonovka', 'Les Ormes', 'Lesves',\n",
       "       'Lichtenberg', 'Lillaverke', 'Limerick', 'Linum', 'Lishui',\n",
       "       'Lissa', 'Little Piney', 'Lixna', 'Lodran', 'Lohawat',\n",
       "       'Los Martinez', 'Lost City', 'Louisville', 'Łowicz', 'Lua', 'Lucé',\n",
       "       'Lumpkin', 'Lunan', 'Lundsgård', 'Luotolax', 'Luponnas', 'Lusaka',\n",
       "       'Mabwe-Khoywa', 'Macau', 'Machinga', 'Macibini', 'Madhipura',\n",
       "       'Madiun', 'Madrid', 'Mafra', 'Magnesia', 'Magombedze', 'Malaga',\n",
       "       'Malakal', 'Malampaka', 'Malotas', 'Malvern', 'Mamra Springs',\n",
       "       'Manbhoom', 'Manegaon', 'Mangwendi', 'Manych', 'Mardan',\n",
       "       'Maria Linden', 'Mariaville', 'Maridi', 'Marilia', 'Marion (Iowa)',\n",
       "       'Marjalahti', 'Marmande', 'Maryville', 'Mascombes', 'Mässing',\n",
       "       'Mauerkirchen', 'Mauritius', 'Mayo Belwa', 'Mazapil', 'Maziba',\n",
       "       'Mbale', 'Medanitos', 'Meerut', 'Meester-Cornelis', 'Menow',\n",
       "       'Menziswyl', 'Mern', 'Meru', 'Merua', 'Messina', 'Meuselbach',\n",
       "       'Mezel', 'Mezö-Madaras', 'Mhow', 'Mianchi', 'Middlesbrough',\n",
       "       'Mighei', 'Mihonoseki', 'Mike', 'Milena', 'Millbillillie',\n",
       "       'Miller (Arkansas)', 'Minamino', 'Mineo', 'Min-Fan-Zhun',\n",
       "       'Minnichhof', 'Mirzapur', 'Misshof', 'Mjelleim', 'Mocs',\n",
       "       'Modoc (1905)', 'Mokoia', 'Molina', 'Molteno', 'Monahans (1998)',\n",
       "       'Monroe', 'Monte das Fortes', 'Monte Milone', 'Montferré',\n",
       "       'Montlivault', 'Monze', 'Moore County', 'Mooresfort', 'Moorleah',\n",
       "       'Moradabad', 'Mornans', 'Moti-ka-nagla', 'Motta di Conti',\n",
       "       'Mount Browne', 'Mount Tazerzait', 'Mount Vaisi', 'Mtola',\n",
       "       'Muddoor', 'Mulletiwu', 'Muraid', 'Murchison', 'Murray',\n",
       "       'Muzaffarpur', 'Myhee Caunta', 'Nadiabondi', 'Nagai', 'Nagaria',\n",
       "       'Nagy-Borové', 'Nakhla', 'Nakhon Pathom', 'Nammianthal',\n",
       "       'Nan Yang Pao', 'Nanjemoy', 'Nantong', 'Naoki', 'Naragh',\n",
       "       'Narellan', 'Narni', 'Nassirah', 'Natal', 'Nawapali', 'Neagari',\n",
       "       'Nedagolla', 'Nejo', 'Nerft', 'New Concord', 'New Halfa', 'Ngawi',\n",
       "       \"N'Goureyma\", 'Nicorps', 'Niger (L6)', 'Niger (LL6)', 'Nikolaevka',\n",
       "       'Nikolskoe', 'Ningbo', 'Ningqiang', 'Nio', \"N'Kandhla\",\n",
       "       'Nobleborough', 'Noblesville', 'Nogata', 'Nogoya', 'Norfork',\n",
       "       'Norton County', 'Noventa Vicentina', 'Novo-Urei', 'Novy-Ergi',\n",
       "       'Novy-Projekt', 'Noyan-Bogdo', 'Nuevo Mercurio', 'Nulles',\n",
       "       'Numakai', 'Nyaung', 'Nyirábrany', 'Ochansk', 'Oesede', 'Oesel',\n",
       "       'Ofehértó', 'Ogi', 'Ohaba', 'Ohuma', 'Ojuelos Altos', 'Okabe',\n",
       "       'Okano', 'Okniny', 'Oldenburg (1930)', 'Oliva-Gandia', 'Olivenza',\n",
       "       'Olmedilla de Alarcón', 'Omolon', 'Orgueil', 'Ornans', 'Ortenau',\n",
       "       'Orvinio', 'Oterøy', 'Otomi', 'Ottawa', 'Oued el Hadjar',\n",
       "       'Ourique', 'Ovambo', 'Oviedo', 'Owrucz', 'Pacula', 'Padvarninkai',\n",
       "       'Paitan', 'Palahatchie', 'Palca de Aparzo', 'Palinshih', 'Palmyra',\n",
       "       'Palolo Valley', 'Pampanga', 'Pantar', 'Paragould', 'Parambu',\n",
       "       'Paranaiba', 'Parnallee', 'Parsa', 'Pasamonte', 'Patora',\n",
       "       'Patrimonio', 'Patti', 'Patwar', 'Pavel', 'Pavlodar (stone)',\n",
       "       'Pavlograd', 'Pavlovka', 'Pê', 'Peace River', 'Peckelsheim',\n",
       "       'Peekskill', 'Peña Blanca Spring', 'Peramiho', 'Perpeti', 'Perth',\n",
       "       'Pervomaisky', 'Pesyanoe', 'Pétèlkolé', 'Petersburg', 'Pettiswood',\n",
       "       'Phillips County (stone)', 'Phu Hong', 'Phum Sambo', 'Phuoc-Binh',\n",
       "       'Piancaldoli', 'Picote', 'Pillistfer', 'Piplia Kalan',\n",
       "       'Piquetberg', 'Pirgunje', 'Pirthalla', 'Pitts', 'Plantersville',\n",
       "       'Ploschkovitz', 'Pnompehn', 'Pohlitz', 'Pokhra', 'Pollen',\n",
       "       'Pontlyfni', 'Portales Valley', 'Portugal', 'Po-wang Chen',\n",
       "       'Prambachkirchen', 'Pribram', 'Pricetown', 'Pulsora', 'Pultusk',\n",
       "       'Punganaru', 'Putinga', 'Qidong', 'Qingzhen', \"Queen's Mercy\",\n",
       "       'Quenggouk', 'Quesa', 'Quija', 'Quincay', 'Raco', 'Raghunathpura',\n",
       "       'Rahimyar Khan', 'Rakovka', 'Ramnagar', 'Rampurhat', 'Ramsdorf',\n",
       "       'Ranchapur', 'Rancho de la Presa', 'Rangala', 'Raoyang',\n",
       "       'Ras Tanura', 'Rasgrad', 'Ratyn', 'Reliegos', 'Rembang', 'Renazzo',\n",
       "       'Renca', 'Renqiu', 'Repeev Khutor', 'Revelstoke', 'Rewari',\n",
       "       'Rich Mountain', 'Uzcudun', 'Richardton', 'Richland Springs',\n",
       "       'Richmond', 'Rio Negro', 'Rivolta de Bassi', 'Rochester',\n",
       "       'Rockhampton', 'Roda', 'Rodach', 'Rose City', 'Rowton', 'Ruhobobo',\n",
       "       'Rumuruti', 'Rupota', 'Ryechki', 'Sabetmahet', 'Sabrum', 'Sagan',\n",
       "       'Saint-Sauveur', 'Saint-Séverin', 'Sakauchi', 'Salem', 'Salles',\n",
       "       'Salzwedel', 'Samelia', 'San Juan Capistrano',\n",
       "       'San Pedro de Quiles', 'San Pedro Jacuaro', 'Santa Barbara',\n",
       "       'Santa Cruz', 'Santa Isabel', 'São Jose do Rio Preto', 'Saratov',\n",
       "       'Sasagase', 'Sauguis', 'Savtschenskoje', 'Sayama', 'Sazovice',\n",
       "       'Schellin', 'Schenectady', 'Schönenberg', 'Searsmont', 'Sediköy',\n",
       "       'Segowlie', 'Selakopi', 'Seldebourak', 'Semarkona', 'Sena',\n",
       "       'Senboku', 'Seoni', 'Seres', 'Serra de Magé', 'Sete Lagoas',\n",
       "       'Sevilla', 'Sevrukovo', 'Sfax', 'Shalka', 'Sharps', 'Shelburne',\n",
       "       'Shergotty', 'Sheyang', 'Shikarpur', 'Shuangyang', 'Shupiyan',\n",
       "       'Shytal', 'Siena', 'Sikhote-Alin', 'Silao', 'Silistra', 'Simmern',\n",
       "       'Sinai', 'Sindhri', 'Sinnai', 'Sioux County', 'Sitathali', 'Sivas',\n",
       "       'Sixiangkou', 'Ski', 'Slavetic', 'Slobodka', 'Soheria',\n",
       "       'Soko-Banja', 'Sologne', 'Sone', 'Songyuan', 'Sopot', 'Soroti',\n",
       "       'St. Caprais-de-Quinsac', 'St. Christophe-la-Chartreuse',\n",
       "       'St. Denis Westrem', 'St. Germain-du-Pinel', 'St. Louis',\n",
       "       \"St. Mark's\", \"St. Mary's County\", 'St. Mesmin', 'St. Michel',\n",
       "       'St.-Chinian', 'Ställdalen', 'Stannern', 'Stavropol',\n",
       "       'Ste. Marguerite', 'Sterlitamak', 'Stolzenau', 'Stratford',\n",
       "       'Strathmore', 'Stretchleigh', 'St-Robert', 'Success', 'Suchy Dul',\n",
       "       'Suizhou', 'Sultanpur', 'Sungach', 'Supuhee', 'Sylacauga', 'Tabor',\n",
       "       'Tadjera', 'Tahara', 'Takenouchi', 'Talampaya', 'Tambakwatu',\n",
       "       'Tané', 'Taonan', 'Tatahouine', 'Tathlith', 'Tauk', 'Tauti',\n",
       "       'Tenham', 'Tennasilm', 'Thal', 'Tianzhang', 'Tieschitz', 'Tilden',\n",
       "       'Tillaberi', 'Timochin', 'Tirupati', 'Tjabe', 'Tjerebon',\n",
       "       'Tomakovka'], dtype=object)"
      ]
     },
     "execution_count": 20,
     "metadata": {},
     "output_type": "execute_result"
    }
   ],
   "source": [
    "df[df[\"only_year\"]<2000][\"name\"].values"
   ]
  },
  {
   "cell_type": "code",
   "execution_count": 21,
   "id": "1b1d3028",
   "metadata": {
    "scrolled": false
   },
   "outputs": [
    {
     "data": {
      "image/png": "[encoded data removed]",
      "text/plain": [
       "<Figure size 800x800 with 1 Axes>"
      ]
     },
     "metadata": {},
     "output_type": "display_data"
    }
   ],
   "source": [
    "sizes = [(len(list(df[\"name\"].values)))-(len(df[df[\"only_year\"]<2000][\"name\"].values)), len(df[df[\"only_year\"]<2000][\"name\"].values)]\n",
    "labels = ['Earth meteorites that fell after the year 2000', 'Earth meteorites that fell before the year 2000']\n",
    "colors = ['#1f77b4', '#ff7f0e']\n",
    "\n",
    "plt.figure(figsize=(8, 8))\n",
    "plt.pie(sizes, labels=labels, colors=colors, autopct='%1.1f%%')\n",
    "plt.show()"
   ]
  },
  {
   "cell_type": "markdown",
   "id": "398b9e99",
   "metadata": {},
   "source": [
    "### Get all the earth meteorites co-ordinates who fell before the year 1970"
   ]
  },
  {
   "cell_type": "code",
   "execution_count": 22,
   "id": "29679780",
   "metadata": {},
   "outputs": [
    {
     "data": {
      "text/plain": [
       "array(['[0, 0]', '[16.2, 39.8]', '[12.73333, 50.18333]',\n",
       "       '[7.35, 47.86667]', '[10.33333, 55.33333]', '[-1.51667, 51.65]',\n",
       "       '[75, 31]', '[136.93333, 35.07833]', '[6.86667, 44.08333]',\n",
       "       '[12.51667, 42.51667]', '[130.75, 33.725]', '[31.33333, 58.55]',\n",
       "       '[-0.03333, 39]', '[8, 48.5]', '[9.51667, 45.48333]',\n",
       "       '[14.88333, 51.53333]', '[137.78333, 34.71667]',\n",
       "       '[9.05, 52.53333]', '[-3.95, 50.38333]'], dtype=object)"
      ]
     },
     "execution_count": 22,
     "metadata": {},
     "output_type": "execute_result"
    }
   ],
   "source": [
    "df[df[\"only_year\"]<1700][\"geolocation\"].values"
   ]
  },
  {
   "cell_type": "markdown",
   "id": "ee90effa",
   "metadata": {},
   "source": [
    "### Assuming that the mass of the earth meteorites was in kg, get all those whose mass was more than 10000kg"
   ]
  },
  {
   "cell_type": "code",
   "execution_count": 23,
   "id": "c5e12f08",
   "metadata": {},
   "outputs": [
    {
     "data": {
      "text/plain": [
       "array(['Abee', 'Agen', 'Aïr', 'Akyumak', 'Alfianello', 'Allegan',\n",
       "       'Allende', 'Andura', 'Appley Bridge', 'Aumale', 'Ausson',\n",
       "       'Bachmut', 'Bahjoi', 'Ban Rong Du', 'Bandong', 'Bansur', 'Barwell',\n",
       "       'Bassikounou', 'Baszkówka', 'Bath', 'Bath Furnace', 'Beardsley',\n",
       "       'Beaver Creek', 'Benguerir', \"Beni M'hira\", 'Bensour', 'Béréba',\n",
       "       'Bilanga', 'Bjurböle', 'Boguslavka', 'Braunau', 'Bruderheim',\n",
       "       'Bur-Gheluai', 'Bursa', 'Butsura', 'Buzzard Coulee',\n",
       "       'Cabezo de Mayo', 'Cabin Creek', 'Campos Sales', 'Cangas de Onis',\n",
       "       'Castrovillari', 'Chajari', 'Chantonnay', 'Charsonville',\n",
       "       'Charwallas', 'Château-Renard', 'Chelyabinsk', 'Chergach ',\n",
       "       'Colby (Wisconsin)', 'Conquista', 'Cumberland Falls', 'Dahmani',\n",
       "       'Demina', 'Dergaon', 'Desuri', 'Devgaon', 'Dhajala', 'Dhurmsala',\n",
       "       'Djati-Pengilon', 'Dong Ujimqin Qi', 'Dresden (Ontario)', 'Durala',\n",
       "       'El Paso de Aguila', 'Elbogen', 'Elenovka', 'Ensisheim', 'Ergheo',\n",
       "       'Estherville', 'Farmington', 'Farmville', 'Fermo', 'Fisher',\n",
       "       'Forest City', 'Forest Vale', 'Forsyth', 'Fuhe', 'Fukutomi',\n",
       "       'Gifu', 'Girgenti', 'Glasatovo', 'Gross-Divina', 'Gualeguaychú',\n",
       "       'Guareña', 'Gujba', 'Gursum', 'Hatford', 'Hessle', 'Holbrook',\n",
       "       'Homestead', 'Hraschina', 'Hvittis', 'Indarch', 'Jackalsfontein',\n",
       "       'Jartai', 'Jelica', 'Jianshi', 'Jilin', 'Johnstown', 'Juancheng',\n",
       "       'Jumapalo', 'Juromenha', 'Juvinas', 'Kabo', 'Kainsaz', 'Kapoeta',\n",
       "       'Karkh', 'Karoonda', 'Kasauli', 'Kayakent', 'Kernouve', 'Kesen',\n",
       "       'Khairpur', 'Kidairat', 'Kilabo', 'Knyahinya', 'Kokubunji',\n",
       "       'Krähenberg', 'Krymka', 'Kunashak', 'Kunya-Urgench', 'Kuttippuram',\n",
       "       'Kyushu', 'La Criolla', \"L'Aigle\", 'Lancé', 'Laochenzhen',\n",
       "       'Leedey', 'Limerick', 'Lissa', 'Lohawat', 'Lost City', 'Łowicz',\n",
       "       'Lundsgård', 'Luponnas', 'Machinga', 'Mahadevpur', 'Mangwendi',\n",
       "       'Marion (Iowa)', 'Marjalahti', 'Mauerkirchen', 'Mbale',\n",
       "       'Meester-Cornelis', 'Menow', 'Merua', 'Mezö-Madaras',\n",
       "       'Millbillillie', 'Miller (Arkansas)', 'Mocs', 'Modoc (1905)',\n",
       "       'Molina', 'Montferré', 'Mount Browne', 'Mount Tazerzait',\n",
       "       'Mount Vaisi', 'Murchison', 'Murray', 'Nakhon Pathom',\n",
       "       'Nan Yang Pao', 'Naoki', 'Nerft', 'New Concord', 'New Halfa',\n",
       "       'New Orleans', \"N'Goureyma\", 'Ningbo', \"N'Kandhla\",\n",
       "       'Norton County', 'Nuevo Mercurio', 'Ochansk', 'Ogi', 'Ohaba',\n",
       "       'Okniny', 'Oldenburg (1930)', 'Olivenza', 'Olmedilla de Alarcón',\n",
       "       'Omolon', 'Orgueil', 'Oum Dreyga', 'Ourique', 'Palinshih',\n",
       "       'Pampanga', 'Paragould', 'Paranaiba', 'Park Forest', 'Parnallee',\n",
       "       'Patwar', 'Pavlograd', 'Peace River', 'Peekskill',\n",
       "       'Peña Blanca Spring', 'Perpeti', 'Pervomaisky',\n",
       "       'Phillips County (stone)', 'Phuoc-Binh', 'Pillistfer',\n",
       "       'Piplia Kalan', 'Portales Valley', 'Pultusk', 'Putinga', 'Quesa',\n",
       "       'Quija', 'Raghunathpura', 'Rahimyar Khan', 'Rasgrad', 'Reliegos',\n",
       "       'Uzcudun', 'Richardton', 'Rose City', 'Ryechki', 'Saint-Sauveur',\n",
       "       'Saint-Séverin', 'Saratov', 'Seoni', 'Sevrukovo', 'Shelburne',\n",
       "       'Sikhote-Alin', 'Sivas', 'Soko-Banja', 'Sone', 'Songyuan',\n",
       "       \"St. Mark's\", 'St. Michel', 'Ställdalen', 'Stannern',\n",
       "       'Sterlitamak', 'Strathmore', 'Stretchleigh', 'St-Robert',\n",
       "       'Suizhou', 'Sulagiri', 'Tambakwatu', 'Tamdakht', 'Tatahouine',\n",
       "       'Tauti', 'Tenham', 'Tennasilm', 'Thika', 'Thuathe', 'Tieschitz',\n",
       "       'Tilden', 'Timochin', 'Tjabe', 'Tjerebon'], dtype=object)"
      ]
     },
     "execution_count": 23,
     "metadata": {},
     "output_type": "execute_result"
    }
   ],
   "source": [
    "df[df[\"mass\"]>10000][\"name\"].values"
   ]
  },
  {
   "cell_type": "code",
   "execution_count": 25,
   "id": "3f626e45",
   "metadata": {},
   "outputs": [
    {
     "data": {
      "image/png": "[encoded data removed]",
      "text/plain": [
       "<Figure size 800x800 with 1 Axes>"
      ]
     },
     "metadata": {},
     "output_type": "display_data"
    }
   ],
   "source": [
    "sizes = [(len(list(df[\"name\"].values)))-(len(df[df[\"mass\"]>10000][\"name\"].values)), len(df[df[\"mass\"]>10000][\"name\"].values)]\n",
    "labels = ['Earth meteorites which mass was less than 10000kg', 'Earth meteorites which mass was more than 10000kg']\n",
    "colors = ['#1f77b4', '#ff7f0e']\n",
    "\n",
    "plt.figure(figsize=(8, 8))\n",
    "plt.pie(sizes, labels=labels, colors=colors, autopct='%1.1f%%')\n",
    "plt.show()"
   ]
  }
 ],
 "metadata": {
  "kernelspec": {
   "display_name": "Python 3 (ipykernel)",
   "language": "python",
   "name": "python3"
  },
  "language_info": {
   "codemirror_mode": {
    "name": "ipython",
    "version": 3
   },
   "file_extension": ".py",
   "mimetype": "text/x-python",
   "name": "python",
   "nbconvert_exporter": "python",
   "pygments_lexer": "ipython3",
   "version": "3.8.16"
  }
 },
 "nbformat": 4,
 "nbformat_minor": 5
}
