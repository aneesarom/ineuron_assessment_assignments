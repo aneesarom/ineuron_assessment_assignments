{
 "cells": [
  {
   "cell_type": "code",
   "execution_count": 1,
   "id": "01e43d6a",
   "metadata": {},
   "outputs": [],
   "source": [
    "import pandas as pd\n",
    "import numpy as np\n",
    "pd.set_option('max_colwidth', None)"
   ]
  },
  {
   "cell_type": "markdown",
   "id": "fc84dfc3",
   "metadata": {},
   "source": [
    "# Question 1: -\n",
    "```\n",
    "Write a program that takes a string as input, and counts the frequency of each word in the string, there might be repeated characters in the string. Your task is to find the highest frequency and returns the length of the highest-frequency word.\n",
    "\n",
    "Note - You have to write at least 2 additional test cases in which your program will run successfully and provide an explanation for the same.\n",
    "Example input - string = “write write write all the number from from from 1 to 100”\n",
    "Example output - 5\n",
    "Explanation - From the given string we can note that the most frequent words are “write” and “from” and\n",
    "the maximum value of both the values is “write” and its corresponding length is 5\n",
    "```"
   ]
  },
  {
   "cell_type": "code",
   "execution_count": 59,
   "id": "69e623dd",
   "metadata": {},
   "outputs": [],
   "source": [
    "def frequency_len(string):\n",
    "    string = string.split(\" \")\n",
    "    maximum = 0\n",
    "    most_frequent = []\n",
    "    for word in string:\n",
    "        count = string.count(word)\n",
    "        if count > maximum:\n",
    "            maximum = count\n",
    "            most_frequent = []\n",
    "            most_frequent.append(word)\n",
    "        elif count == maximum:\n",
    "            most_frequent.append(word)\n",
    "    most_frequent = [len(word) for word in most_frequent]\n",
    "    print(max(most_frequent))"
   ]
  },
  {
   "cell_type": "code",
   "execution_count": 63,
   "id": "e0cd6fd7",
   "metadata": {},
   "outputs": [
    {
     "name": "stdout",
     "output_type": "stream",
     "text": [
      "10\n"
     ]
    }
   ],
   "source": [
    "frequency_len(\"write everything from the number from everything 1 to 100 from the notebook everything\")"
   ]
  },
  {
   "cell_type": "markdown",
   "id": "6f85e625",
   "metadata": {},
   "source": [
    "***Both 'everything' and 'from' has occured 3 times, Out of these two 'everything' has length of 10 which is the biggest so it printed the length 10***"
   ]
  },
  {
   "cell_type": "code",
   "execution_count": 64,
   "id": "574673df",
   "metadata": {},
   "outputs": [
    {
     "name": "stdout",
     "output_type": "stream",
     "text": [
      "6\n"
     ]
    }
   ],
   "source": [
    "frequency_len(\"write all the number from 1 number to 100 number from the notebook from top to bottom\")"
   ]
  },
  {
   "cell_type": "markdown",
   "id": "a831653e",
   "metadata": {},
   "source": [
    "***'Number' and 'from' has occured 3 times, Out of these two 'Number' has length of 6 which is the biggest so it printed the length 6***"
   ]
  }
 ],
 "metadata": {
  "kernelspec": {
   "display_name": "Python 3 (ipykernel)",
   "language": "python",
   "name": "python3"
  },
  "language_info": {
   "codemirror_mode": {
    "name": "ipython",
    "version": 3
   },
   "file_extension": ".py",
   "mimetype": "text/x-python",
   "name": "python",
   "nbconvert_exporter": "python",
   "pygments_lexer": "ipython3",
   "version": "3.8.16"
  }
 },
 "nbformat": 4,
 "nbformat_minor": 5
}
