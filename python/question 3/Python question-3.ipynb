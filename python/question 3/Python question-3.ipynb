{
 "cells": [
  {
   "cell_type": "code",
   "execution_count": 303,
   "id": "01e43d6a",
   "metadata": {},
   "outputs": [],
   "source": [
    "import pandas as pd\n",
    "import numpy as np\n",
    "pd.set_option('max_colwidth', None)"
   ]
  },
  {
   "cell_type": "markdown",
   "id": "7483cfff",
   "metadata": {},
   "source": [
    "# Question 3: -\n",
    "\n",
    "```\n",
    "Write a program, which would download the data from the provided link, and then read the data and convert\n",
    "that into properly structured data and return it in Excel format.\n",
    "Note - Write comments wherever necessary explaining the code written.\n",
    "\n",
    "Link - https://raw.githubusercontent.com/Biuni/PokemonGO-Pokedex/master/pokedex.json\n",
    "Data Attributes - id: Identification Number - int num: Number of the\n",
    "● Pokémon in the official Pokédex - int name: Pokémon name -\n",
    "● string img: URL to an image of this Pokémon - string type:\n",
    "● Pokémon type -string height: Pokémon height - float\n",
    "● weight: Pokémon weight - float candy: type of candy used to evolve Pokémon or\n",
    "given\n",
    "● when transferred - string candy_count: the amount of candies required to evolve\n",
    "- int\n",
    "● egg: Number of kilometers to travel to hatch the egg - float spawn_chance:\n",
    "● Percentage of spawn chance (NEW) - float avg_spawns: Number of this\n",
    "pokemon on 10.000 spawns (NEW) - int\n",
    "● spawn_time: Spawns most active at the time on this field. Spawn times are the same for all\n",
    "time zones and are expressed in local time. (NEW) - “minutes: seconds” multipliers:\n",
    "Multiplier of Combat Power (CP) for calculating the CP after evolution See below - list of int\n",
    "weakness: Types of\n",
    "● Pokémon this Pokémon is weak to - list of strings next_evolution: Number and Name of\n",
    "successive evolutions of Pokémon - list of dict prev_evolution: Number and Name of previous\n",
    "evolutions of Pokémon - - list of dict\n",
    "\n",
    "```"
   ]
  },
  {
   "cell_type": "code",
   "execution_count": 304,
   "id": "482bc97d",
   "metadata": {},
   "outputs": [],
   "source": [
    "import json"
   ]
  },
  {
   "cell_type": "code",
   "execution_count": 305,
   "id": "0d8d8422",
   "metadata": {},
   "outputs": [],
   "source": [
    "# ● Data Attributes - id: Identification Number - int \n",
    "# ● num: Number of the Pokémon in the official Pokédex - int \n",
    "# ● name: Pokémon name - string \n",
    "# ● img: URL to an image of this Pokémon - string \n",
    "# ● type: Pokémon type -string \n",
    "# ● height: Pokémon height - float\n",
    "# ● weight: Pokémon weight - float \n",
    "# ● candy: type of candy used to evolve Pokémon or given when transferred - string \n",
    "# ● candy_count: the amount of candies required to evolve- int\n",
    "# ● egg: Number of kilometers to travel to hatch the egg - float \n",
    "# ● spawn_chance:Percentage of spawn chance (NEW) - float \n",
    "# ● avg_spawns: Number of this pokemon on 10.000 spawns (NEW) - int\n",
    "# ● spawn_time: Spawns most active at the time on this field. Spawn times are the same for all time zones\n",
    "#and are expressed in local time. (NEW) - “minutes: seconds” \n",
    "# ● multipliers: Multiplier of Combat Power (CP) for calculating the CP after evolution See below - list of int\n",
    "# ● weakness: Types of Pokémon this Pokémon is weak to - list of strings\n",
    "# ● next_evolution: Number and Name of successive evolutions of Pokémon - list of dict \n",
    "# ● prev_evolution: Number and Name of previous evolutions of Pokémon - - list of dict"
   ]
  },
  {
   "cell_type": "code",
   "execution_count": 306,
   "id": "6776b364",
   "metadata": {},
   "outputs": [],
   "source": [
    "import requests\n",
    "\n",
    "# request the url to get json data\n",
    "response = requests.get(\"https://raw.githubusercontent.com/Biuni/PokemonGO-Pokedex/master/pokedex.json\")"
   ]
  },
  {
   "cell_type": "code",
   "execution_count": 307,
   "id": "d7e3657e",
   "metadata": {
    "scrolled": false
   },
   "outputs": [],
   "source": [
    "# parse the json \n",
    "data = response.json()"
   ]
  },
  {
   "cell_type": "code",
   "execution_count": 308,
   "id": "ef55d8cb",
   "metadata": {
    "scrolled": true
   },
   "outputs": [],
   "source": [
    "# To step down the main dict\n",
    "li =  data['pokemon']"
   ]
  },
  {
   "cell_type": "code",
   "execution_count": 309,
   "id": "649eb317",
   "metadata": {},
   "outputs": [],
   "source": [
    "# convert dict to dataframe which helps to do feature transformation easier\n",
    "df = pd.DataFrame(li)"
   ]
  },
  {
   "cell_type": "code",
   "execution_count": 310,
   "id": "2663d350",
   "metadata": {},
   "outputs": [
    {
     "data": {
      "text/html": [
       "<div>\n",
       "<style scoped>\n",
       "    .dataframe tbody tr th:only-of-type {\n",
       "        vertical-align: middle;\n",
       "    }\n",
       "\n",
       "    .dataframe tbody tr th {\n",
       "        vertical-align: top;\n",
       "    }\n",
       "\n",
       "    .dataframe thead th {\n",
       "        text-align: right;\n",
       "    }\n",
       "</style>\n",
       "<table border=\"1\" class=\"dataframe\">\n",
       "  <thead>\n",
       "    <tr style=\"text-align: right;\">\n",
       "      <th></th>\n",
       "      <th>id</th>\n",
       "      <th>num</th>\n",
       "      <th>name</th>\n",
       "      <th>img</th>\n",
       "      <th>type</th>\n",
       "      <th>height</th>\n",
       "      <th>weight</th>\n",
       "      <th>candy</th>\n",
       "      <th>candy_count</th>\n",
       "      <th>egg</th>\n",
       "      <th>spawn_chance</th>\n",
       "      <th>avg_spawns</th>\n",
       "      <th>spawn_time</th>\n",
       "      <th>multipliers</th>\n",
       "      <th>weaknesses</th>\n",
       "      <th>next_evolution</th>\n",
       "      <th>prev_evolution</th>\n",
       "    </tr>\n",
       "  </thead>\n",
       "  <tbody>\n",
       "    <tr>\n",
       "      <th>0</th>\n",
       "      <td>1</td>\n",
       "      <td>001</td>\n",
       "      <td>Bulbasaur</td>\n",
       "      <td>http://www.serebii.net/pokemongo/pokemon/001.png</td>\n",
       "      <td>[Grass, Poison]</td>\n",
       "      <td>0.71 m</td>\n",
       "      <td>6.9 kg</td>\n",
       "      <td>Bulbasaur Candy</td>\n",
       "      <td>25.0</td>\n",
       "      <td>2 km</td>\n",
       "      <td>0.690</td>\n",
       "      <td>69.0</td>\n",
       "      <td>20:00</td>\n",
       "      <td>[1.58]</td>\n",
       "      <td>[Fire, Ice, Flying, Psychic]</td>\n",
       "      <td>[{'num': '002', 'name': 'Ivysaur'}, {'num': '003', 'name': 'Venusaur'}]</td>\n",
       "      <td>NaN</td>\n",
       "    </tr>\n",
       "    <tr>\n",
       "      <th>1</th>\n",
       "      <td>2</td>\n",
       "      <td>002</td>\n",
       "      <td>Ivysaur</td>\n",
       "      <td>http://www.serebii.net/pokemongo/pokemon/002.png</td>\n",
       "      <td>[Grass, Poison]</td>\n",
       "      <td>0.99 m</td>\n",
       "      <td>13.0 kg</td>\n",
       "      <td>Bulbasaur Candy</td>\n",
       "      <td>100.0</td>\n",
       "      <td>Not in Eggs</td>\n",
       "      <td>0.042</td>\n",
       "      <td>4.2</td>\n",
       "      <td>07:00</td>\n",
       "      <td>[1.2, 1.6]</td>\n",
       "      <td>[Fire, Ice, Flying, Psychic]</td>\n",
       "      <td>[{'num': '003', 'name': 'Venusaur'}]</td>\n",
       "      <td>[{'num': '001', 'name': 'Bulbasaur'}]</td>\n",
       "    </tr>\n",
       "  </tbody>\n",
       "</table>\n",
       "</div>"
      ],
      "text/plain": [
       "   id  num       name                                               img  \\\n",
       "0   1  001  Bulbasaur  http://www.serebii.net/pokemongo/pokemon/001.png   \n",
       "1   2  002    Ivysaur  http://www.serebii.net/pokemongo/pokemon/002.png   \n",
       "\n",
       "              type  height   weight            candy  candy_count  \\\n",
       "0  [Grass, Poison]  0.71 m   6.9 kg  Bulbasaur Candy         25.0   \n",
       "1  [Grass, Poison]  0.99 m  13.0 kg  Bulbasaur Candy        100.0   \n",
       "\n",
       "           egg  spawn_chance  avg_spawns spawn_time multipliers  \\\n",
       "0         2 km         0.690        69.0      20:00      [1.58]   \n",
       "1  Not in Eggs         0.042         4.2      07:00  [1.2, 1.6]   \n",
       "\n",
       "                     weaknesses  \\\n",
       "0  [Fire, Ice, Flying, Psychic]   \n",
       "1  [Fire, Ice, Flying, Psychic]   \n",
       "\n",
       "                                                            next_evolution  \\\n",
       "0  [{'num': '002', 'name': 'Ivysaur'}, {'num': '003', 'name': 'Venusaur'}]   \n",
       "1                                     [{'num': '003', 'name': 'Venusaur'}]   \n",
       "\n",
       "                          prev_evolution  \n",
       "0                                    NaN  \n",
       "1  [{'num': '001', 'name': 'Bulbasaur'}]  "
      ]
     },
     "execution_count": 310,
     "metadata": {},
     "output_type": "execute_result"
    }
   ],
   "source": [
    "df.head(2)"
   ]
  },
  {
   "cell_type": "code",
   "execution_count": 311,
   "id": "de870675",
   "metadata": {},
   "outputs": [],
   "source": [
    "df[\"num\"] = df[\"num\"].apply(lambda x: int(x))"
   ]
  },
  {
   "cell_type": "code",
   "execution_count": 312,
   "id": "5b25d2a4",
   "metadata": {},
   "outputs": [],
   "source": [
    "# need to convert height to weight string to float as per requirement\n",
    "\n",
    "df[\"height\"] = df[\"height\"].apply(lambda x: x.split(\" m\")[0])\n",
    "df[\"weight\"] = df[\"weight\"].apply(lambda x: x.split(\" kg\")[0])\n",
    "\n",
    "df[[\"height\", \"weight\"]] = df[[\"height\", \"weight\"]].astype(\"float\")"
   ]
  },
  {
   "cell_type": "code",
   "execution_count": 313,
   "id": "c464587c",
   "metadata": {},
   "outputs": [
    {
     "data": {
      "text/plain": [
       "array(['2 km', 'Not in Eggs', '5 km', '10 km', 'Omanyte Candy'],\n",
       "      dtype=object)"
      ]
     },
     "execution_count": 313,
     "metadata": {},
     "output_type": "execute_result"
    }
   ],
   "source": [
    "df[\"egg\"].unique() # to get the category names"
   ]
  },
  {
   "cell_type": "code",
   "execution_count": 314,
   "id": "9c62de0c",
   "metadata": {},
   "outputs": [],
   "source": [
    "# Change string to float as per requirement\n",
    "\n",
    "df[\"egg\"] = df[\"egg\"].map({\"Not in Eggs\": 0.0, \"Omanyte Candy\": 0.9, \"2 km\": 2.0, \"10 km\": 10.0, \"5 km\": 5.0})\n",
    "\n",
    "# \"Not in Eggs\" and \"Omanyte Candy\" dont have any values. When I try to search over the internet I understand\n",
    "#  that some pokemon wont hatch egg, so I kept replacing it 0.\n",
    "\n",
    "df[\"egg\"] = df[\"egg\"].astype(\"float\")"
   ]
  },
  {
   "cell_type": "code",
   "execution_count": 315,
   "id": "d97346ed",
   "metadata": {},
   "outputs": [
    {
     "data": {
      "text/plain": [
       "array([ 25., 100.,  nan,  12.,  50., 400.])"
      ]
     },
     "execution_count": 315,
     "metadata": {},
     "output_type": "execute_result"
    }
   ],
   "source": [
    "df[\"candy_count\"].unique() # to check nan values"
   ]
  },
  {
   "cell_type": "code",
   "execution_count": 316,
   "id": "b4f4b6bb",
   "metadata": {},
   "outputs": [],
   "source": [
    "df[\"candy_count\"] = df[\"candy_count\"].apply(lambda x: int(x) if x > 0 else 0)\n",
    "\n",
    "# I consider updating candy_count be 0 for nan values."
   ]
  },
  {
   "cell_type": "code",
   "execution_count": 317,
   "id": "4667377a",
   "metadata": {},
   "outputs": [
    {
     "data": {
      "text/plain": [
       "array([6.900e+01, 4.200e+00, 1.700e+00, 2.530e+01, 1.200e+00, 3.100e-01,\n",
       "       5.800e+01, 3.400e+00, 6.700e-01, 3.032e+02, 1.870e+01, 2.200e+00,\n",
       "       7.120e+02, 4.400e+01, 5.100e+00, 1.598e+00, 1.020e+02, 1.300e+01,\n",
       "       1.305e+00, 4.100e+01, 4.730e+02, 1.500e+01, 2.270e+02, 7.200e+00,\n",
       "       2.100e+01, 7.600e-01, 1.110e+02, 3.700e+00, 1.380e+02, 8.800e+00,\n",
       "       1.310e+02, 8.300e+00, 9.200e+01, 2.200e+01, 7.700e-01, 3.900e+01,\n",
       "       1.800e+00, 6.520e+02, 4.200e+01, 6.400e+00, 9.700e-01, 2.360e+02,\n",
       "       7.400e+00, 2.280e+02, 4.000e+01, 1.400e+00, 8.600e+01, 2.540e+02,\n",
       "       8.700e+00, 3.100e+00, 2.190e+02, 1.100e+00, 2.700e+00, 7.300e-01,\n",
       "       4.900e+01, 6.800e-01, 1.150e+02, 5.900e-01, 8.100e+01, 8.200e+00,\n",
       "       1.190e+02, 7.100e+00, 4.700e-01, 5.100e+01, 1.050e+02, 3.600e+00,\n",
       "       7.100e+01, 2.300e+00, 2.120e+00, 5.200e+01, 2.800e+01, 1.300e+00,\n",
       "       5.200e+00, 1.500e+00, 7.900e+01, 1.000e+01, 3.210e+02, 2.120e+02,\n",
       "       6.200e+00, 6.500e+01, 2.000e+00, 7.800e+01, 6.100e+01, 2.000e+01,\n",
       "       1.600e+00, 6.300e+01, 2.280e+01, 8.600e-01, 1.130e+02, 2.180e+02,\n",
       "       8.000e+00, 1.950e+02, 1.400e+01, 3.500e+01, 9.900e+01, 1.200e+01,\n",
       "       4.780e+02, 3.200e-01, 6.000e-01, 0.000e+00, 2.750e+02, 6.100e-01,\n",
       "       3.000e+01, 1.100e-01])"
      ]
     },
     "execution_count": 317,
     "metadata": {},
     "output_type": "execute_result"
    }
   ],
   "source": [
    "df[\"avg_spawns\"].unique() # to check nan values"
   ]
  },
  {
   "cell_type": "code",
   "execution_count": 318,
   "id": "75480afe",
   "metadata": {},
   "outputs": [],
   "source": [
    "df[\"avg_spawns\"] = df[\"avg_spawns\"].astype(\"int\")"
   ]
  },
  {
   "cell_type": "code",
   "execution_count": 319,
   "id": "d8713ed9",
   "metadata": {},
   "outputs": [
    {
     "data": {
      "text/plain": [
       "array(['20:00', '07:00', '11:30', '08:45', '19:00', '13:34', '04:25',\n",
       "       '07:02', '00:06', '16:35', '02:11', '05:23', '02:21', '02:30',\n",
       "       '04:50', '01:34', '01:30', '01:50', '01:55', '01:56', '12:25',\n",
       "       '01:11', '12:20', '04:00', '23:58', '01:58', '12:34', '01:51',\n",
       "       '07:22', '12:35', '01:12', '09:02', '12:16', '03:30', '03:29',\n",
       "       '13:43', '01:32', '08:46', '12:28', '02:15', '03:58', '11:33',\n",
       "       '01:42', '01:22', '02:31', '23:40', '02:22', '12:37', '02:54',\n",
       "       '02:44', '03:41', '23:06', '12:52', '12:33', '03:57', '03:11',\n",
       "       '03:40', '09:14', '04:30', '11:25', '10:32', '02:55', '04:10',\n",
       "       '09:45', '12:19', '03:20', '23:36', '12:40', '04:53', '02:50',\n",
       "       '07:12', '02:56', '04:04', '15:25', '01:09', '05:10', '02:12',\n",
       "       '06:46', '06:04', '15:11', '01:28', '07:39', '02:33', '04:21',\n",
       "       '00:10', '03:55', '01:18', '02:17', '03:33', '03:44', '04:36',\n",
       "       '09:09', '03:59', '05:58', '02:46', '08:16', '12:17', '03:21',\n",
       "       '05:50', '04:46', '23:13', '02:40', '02:53', '03:18', '03:14',\n",
       "       '05:21', '22:59', '06:57', '05:43', '05:41', '04:28', '20:36',\n",
       "       '03:25', '00:37', '14:26', '08:59', 'N/A', '05:32', '10:54',\n",
       "       '02:49', '10:23', '05:04', '00:05', '06:41', '11:57', '23:38'],\n",
       "      dtype=object)"
      ]
     },
     "execution_count": 319,
     "metadata": {},
     "output_type": "execute_result"
    }
   ],
   "source": [
    "df[\"spawn_time\"].unique()"
   ]
  },
  {
   "cell_type": "code",
   "execution_count": 320,
   "id": "9c2108a3",
   "metadata": {},
   "outputs": [],
   "source": [
    "# convert string to datetime with the format minutes:seconds\n",
    "\n",
    "df[\"spawn_time\"].replace(\"N/A\", pd.NaT, inplace=True) # Change N/A to pd.NaT\n",
    "df[\"spawn_time\"] = pd.to_datetime(df[\"spawn_time\"], errors=\"coerce\", format= '%M:%S').dt.strftime(\"%M:%S\")\n",
    "\n",
    "# since it has nan values it is still in string"
   ]
  },
  {
   "cell_type": "code",
   "execution_count": 321,
   "id": "f5d6819c",
   "metadata": {},
   "outputs": [
    {
     "data": {
      "text/plain": [
       "array(['20:00', '07:00', '11:30', '08:45', '19:00', '13:34', '04:25',\n",
       "       '07:02', '00:06', '16:35', '02:11', '05:23', '02:21', '02:30',\n",
       "       '04:50', '01:34', '01:30', '01:50', '01:55', '01:56', '12:25',\n",
       "       '01:11', '12:20', '04:00', '23:58', '01:58', '12:34', '01:51',\n",
       "       '07:22', '12:35', '01:12', '09:02', '12:16', '03:30', '03:29',\n",
       "       '13:43', '01:32', '08:46', '12:28', '02:15', '03:58', '11:33',\n",
       "       '01:42', '01:22', '02:31', '23:40', '02:22', '12:37', '02:54',\n",
       "       '02:44', '03:41', '23:06', '12:52', '12:33', '03:57', '03:11',\n",
       "       '03:40', '09:14', '04:30', '11:25', '10:32', '02:55', '04:10',\n",
       "       '09:45', '12:19', '03:20', '23:36', '12:40', '04:53', '02:50',\n",
       "       '07:12', '02:56', '04:04', '15:25', '01:09', '05:10', '02:12',\n",
       "       '06:46', '06:04', '15:11', '01:28', '07:39', '02:33', '04:21',\n",
       "       '00:10', '03:55', '01:18', '02:17', '03:33', '03:44', '04:36',\n",
       "       '09:09', '03:59', '05:58', '02:46', '08:16', '12:17', '03:21',\n",
       "       '05:50', '04:46', '23:13', '02:40', '02:53', '03:18', '03:14',\n",
       "       '05:21', '22:59', '06:57', '05:43', '05:41', '04:28', '20:36',\n",
       "       '03:25', '00:37', '14:26', '08:59', nan, '05:32', '10:54', '02:49',\n",
       "       '10:23', '05:04', '00:05', '06:41', '11:57', '23:38'], dtype=object)"
      ]
     },
     "execution_count": 321,
     "metadata": {},
     "output_type": "execute_result"
    }
   ],
   "source": [
    "df[\"spawn_time\"].unique()"
   ]
  },
  {
   "cell_type": "code",
   "execution_count": 322,
   "id": "af8c57d2",
   "metadata": {},
   "outputs": [
    {
     "name": "stdout",
     "output_type": "stream",
     "text": [
      "<class 'pandas.core.frame.DataFrame'>\n",
      "RangeIndex: 151 entries, 0 to 150\n",
      "Data columns (total 17 columns):\n",
      " #   Column          Non-Null Count  Dtype  \n",
      "---  ------          --------------  -----  \n",
      " 0   id              151 non-null    int64  \n",
      " 1   num             151 non-null    int64  \n",
      " 2   name            151 non-null    object \n",
      " 3   img             151 non-null    object \n",
      " 4   type            151 non-null    object \n",
      " 5   height          151 non-null    float64\n",
      " 6   weight          151 non-null    float64\n",
      " 7   candy           151 non-null    object \n",
      " 8   candy_count     151 non-null    int64  \n",
      " 9   egg             151 non-null    float64\n",
      " 10  spawn_chance    151 non-null    float64\n",
      " 11  avg_spawns      151 non-null    int64  \n",
      " 12  spawn_time      145 non-null    object \n",
      " 13  multipliers     70 non-null     object \n",
      " 14  weaknesses      151 non-null    object \n",
      " 15  next_evolution  70 non-null     object \n",
      " 16  prev_evolution  72 non-null     object \n",
      "dtypes: float64(4), int64(4), object(9)\n",
      "memory usage: 20.2+ KB\n"
     ]
    }
   ],
   "source": [
    "df.info()"
   ]
  },
  {
   "cell_type": "code",
   "execution_count": 323,
   "id": "ae2d54bf",
   "metadata": {},
   "outputs": [],
   "source": [
    "df.to_csv(\"pokemon.csv\")"
   ]
  },
  {
   "cell_type": "code",
   "execution_count": null,
   "id": "d5daf6ae",
   "metadata": {},
   "outputs": [],
   "source": []
  }
 ],
 "metadata": {
  "kernelspec": {
   "display_name": "Python 3 (ipykernel)",
   "language": "python",
   "name": "python3"
  },
  "language_info": {
   "codemirror_mode": {
    "name": "ipython",
    "version": 3
   },
   "file_extension": ".py",
   "mimetype": "text/x-python",
   "name": "python",
   "nbconvert_exporter": "python",
   "pygments_lexer": "ipython3",
   "version": "3.8.16"
  }
 },
 "nbformat": 4,
 "nbformat_minor": 5
}
