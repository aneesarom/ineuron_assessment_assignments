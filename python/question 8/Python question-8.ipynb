{
 "cells": [
  {
   "cell_type": "code",
   "execution_count": 88,
   "id": "01e43d6a",
   "metadata": {},
   "outputs": [],
   "source": [
    "import pandas as pd\n",
    "import numpy as np\n",
    "pd.set_option('max_colwidth', None)\n",
    "import matplotlib.pyplot as plt\n",
    "import seaborn as sns"
   ]
  },
  {
   "cell_type": "markdown",
   "id": "da978043",
   "metadata": {},
   "source": [
    "# Question 8 -\n",
    "```\n",
    "Using the data from Question 5, write code the analyze the data and answer the following questions \n",
    "Note -\n",
    "1. Draw plots to demonstrate the analysis for the following questions and better visualizations \n",
    "2. Write code comments wherever required for code understanding\n",
    "Insights to be drawn -\n",
    "● Get all the overall ratings for each season and using plots compare the ratings for all the seasons, like season 1 ratings, season 2, and so on.\n",
    "● Get all the episode names, whose average rating is more than 8 for every season\n",
    "● Get all the episode names that aired before May 2019\n",
    "● Get the episode name from each season with the highest and lowest rating\n",
    "● Get the summary for the most popular ( ratings ) episode in every season\n",
    "```"
   ]
  },
  {
   "cell_type": "code",
   "execution_count": 89,
   "id": "9dea5844",
   "metadata": {},
   "outputs": [],
   "source": [
    "df = pd.read_csv(\"tv_series.csv\")"
   ]
  },
  {
   "cell_type": "code",
   "execution_count": 90,
   "id": "80a06309",
   "metadata": {},
   "outputs": [
    {
     "data": {
      "text/plain": [
       "(36, 14)"
      ]
     },
     "execution_count": 90,
     "metadata": {},
     "output_type": "execute_result"
    }
   ],
   "source": [
    "df.shape"
   ]
  },
  {
   "cell_type": "code",
   "execution_count": 91,
   "id": "c50c3342",
   "metadata": {
    "scrolled": false
   },
   "outputs": [
    {
     "data": {
      "text/html": [
       "<div>\n",
       "<style scoped>\n",
       "    .dataframe tbody tr th:only-of-type {\n",
       "        vertical-align: middle;\n",
       "    }\n",
       "\n",
       "    .dataframe tbody tr th {\n",
       "        vertical-align: top;\n",
       "    }\n",
       "\n",
       "    .dataframe thead th {\n",
       "        text-align: right;\n",
       "    }\n",
       "</style>\n",
       "<table border=\"1\" class=\"dataframe\">\n",
       "  <thead>\n",
       "    <tr style=\"text-align: right;\">\n",
       "      <th></th>\n",
       "      <th>Unnamed: 0</th>\n",
       "      <th>id</th>\n",
       "      <th>url</th>\n",
       "      <th>name</th>\n",
       "      <th>season</th>\n",
       "      <th>number</th>\n",
       "      <th>type</th>\n",
       "      <th>airdate</th>\n",
       "      <th>airtime</th>\n",
       "      <th>runtime</th>\n",
       "      <th>rating</th>\n",
       "      <th>summary</th>\n",
       "      <th>medium_image_link</th>\n",
       "      <th>original_image_link</th>\n",
       "    </tr>\n",
       "  </thead>\n",
       "  <tbody>\n",
       "    <tr>\n",
       "      <th>0</th>\n",
       "      <td>0</td>\n",
       "      <td>869671</td>\n",
       "      <td>https://www.tvmaze.com/episodes/869671/westworld-1x01-the-original</td>\n",
       "      <td>The Original</td>\n",
       "      <td>1</td>\n",
       "      <td>1</td>\n",
       "      <td>regular</td>\n",
       "      <td>2016-10-02</td>\n",
       "      <td>2023-06-06 21:00:00</td>\n",
       "      <td>68.0</td>\n",
       "      <td>8.0</td>\n",
       "      <td>A woman named Dolores is a free spirit in the Old West... and unaware that she's actually an android, programmed to entertain rich guests seeking to act out their fantasies in an idealized vision of the 1880s. However, the people in charge soon realize that their androids are acting in ways that they didn't anticipate.</td>\n",
       "      <td>https://static.tvmaze.com/uploads/images/medium_landscape/78/195475.jpg</td>\n",
       "      <td>https://static.tvmaze.com/uploads/images/original_untouched/78/195475.jpg</td>\n",
       "    </tr>\n",
       "    <tr>\n",
       "      <th>1</th>\n",
       "      <td>1</td>\n",
       "      <td>911201</td>\n",
       "      <td>https://www.tvmaze.com/episodes/911201/westworld-1x02-chestnut</td>\n",
       "      <td>Chestnut</td>\n",
       "      <td>1</td>\n",
       "      <td>2</td>\n",
       "      <td>regular</td>\n",
       "      <td>2016-10-09</td>\n",
       "      <td>2023-06-06 21:00:00</td>\n",
       "      <td>60.0</td>\n",
       "      <td>7.7</td>\n",
       "      <td>Bernard suspects that someone is sabotaging the hosts. Meanwhile, the Man continues his search for the deeper game, and Maeve finds herself in a world of hurt... literally.</td>\n",
       "      <td>https://static.tvmaze.com/uploads/images/medium_landscape/78/195436.jpg</td>\n",
       "      <td>https://static.tvmaze.com/uploads/images/original_untouched/78/195436.jpg</td>\n",
       "    </tr>\n",
       "  </tbody>\n",
       "</table>\n",
       "</div>"
      ],
      "text/plain": [
       "   Unnamed: 0      id  \\\n",
       "0           0  869671   \n",
       "1           1  911201   \n",
       "\n",
       "                                                                  url  \\\n",
       "0  https://www.tvmaze.com/episodes/869671/westworld-1x01-the-original   \n",
       "1      https://www.tvmaze.com/episodes/911201/westworld-1x02-chestnut   \n",
       "\n",
       "           name  season  number     type     airdate              airtime  \\\n",
       "0  The Original       1       1  regular  2016-10-02  2023-06-06 21:00:00   \n",
       "1      Chestnut       1       2  regular  2016-10-09  2023-06-06 21:00:00   \n",
       "\n",
       "   runtime  rating  \\\n",
       "0     68.0     8.0   \n",
       "1     60.0     7.7   \n",
       "\n",
       "                                                                                                                                                                                                                                                                                                                            summary  \\\n",
       "0  A woman named Dolores is a free spirit in the Old West... and unaware that she's actually an android, programmed to entertain rich guests seeking to act out their fantasies in an idealized vision of the 1880s. However, the people in charge soon realize that their androids are acting in ways that they didn't anticipate.   \n",
       "1                                                                                                                                                      Bernard suspects that someone is sabotaging the hosts. Meanwhile, the Man continues his search for the deeper game, and Maeve finds herself in a world of hurt... literally.   \n",
       "\n",
       "                                                         medium_image_link  \\\n",
       "0  https://static.tvmaze.com/uploads/images/medium_landscape/78/195475.jpg   \n",
       "1  https://static.tvmaze.com/uploads/images/medium_landscape/78/195436.jpg   \n",
       "\n",
       "                                                         original_image_link  \n",
       "0  https://static.tvmaze.com/uploads/images/original_untouched/78/195475.jpg  \n",
       "1  https://static.tvmaze.com/uploads/images/original_untouched/78/195436.jpg  "
      ]
     },
     "execution_count": 91,
     "metadata": {},
     "output_type": "execute_result"
    }
   ],
   "source": [
    "df.head(2)"
   ]
  },
  {
   "cell_type": "markdown",
   "id": "34667234",
   "metadata": {},
   "source": [
    "### Get all the overall ratings for each season and using plots compare the ratings for all the seasons, like season 1 ratings, season 2, and so on."
   ]
  },
  {
   "cell_type": "code",
   "execution_count": 92,
   "id": "9822b683",
   "metadata": {},
   "outputs": [],
   "source": [
    "season_df = df.groupby([\"season\"])[\"rating\"].mean().reset_index()"
   ]
  },
  {
   "cell_type": "code",
   "execution_count": 93,
   "id": "5538a0f9",
   "metadata": {},
   "outputs": [
    {
     "data": {
      "text/html": [
       "<div>\n",
       "<style scoped>\n",
       "    .dataframe tbody tr th:only-of-type {\n",
       "        vertical-align: middle;\n",
       "    }\n",
       "\n",
       "    .dataframe tbody tr th {\n",
       "        vertical-align: top;\n",
       "    }\n",
       "\n",
       "    .dataframe thead th {\n",
       "        text-align: right;\n",
       "    }\n",
       "</style>\n",
       "<table border=\"1\" class=\"dataframe\">\n",
       "  <thead>\n",
       "    <tr style=\"text-align: right;\">\n",
       "      <th></th>\n",
       "      <th>season</th>\n",
       "      <th>rating</th>\n",
       "    </tr>\n",
       "  </thead>\n",
       "  <tbody>\n",
       "    <tr>\n",
       "      <th>0</th>\n",
       "      <td>1</td>\n",
       "      <td>8.0900</td>\n",
       "    </tr>\n",
       "    <tr>\n",
       "      <th>1</th>\n",
       "      <td>2</td>\n",
       "      <td>8.0000</td>\n",
       "    </tr>\n",
       "    <tr>\n",
       "      <th>2</th>\n",
       "      <td>3</td>\n",
       "      <td>7.7750</td>\n",
       "    </tr>\n",
       "    <tr>\n",
       "      <th>3</th>\n",
       "      <td>4</td>\n",
       "      <td>7.5375</td>\n",
       "    </tr>\n",
       "  </tbody>\n",
       "</table>\n",
       "</div>"
      ],
      "text/plain": [
       "   season  rating\n",
       "0       1  8.0900\n",
       "1       2  8.0000\n",
       "2       3  7.7750\n",
       "3       4  7.5375"
      ]
     },
     "execution_count": 93,
     "metadata": {},
     "output_type": "execute_result"
    }
   ],
   "source": [
    "season_df"
   ]
  },
  {
   "cell_type": "code",
   "execution_count": 94,
   "id": "27ff6419",
   "metadata": {},
   "outputs": [
    {
     "data": {
      "image/png": "[encoded data removed]",
      "text/plain": [
       "<Figure size 640x480 with 1 Axes>"
      ]
     },
     "metadata": {},
     "output_type": "display_data"
    }
   ],
   "source": [
    "sns.barplot(x='season' , y='rating' , data=season_df )\n",
    "plt.show()"
   ]
  },
  {
   "cell_type": "markdown",
   "id": "7f0d46ac",
   "metadata": {},
   "source": [
    "### Get all the episode names, whose average rating is more than 8 for every season"
   ]
  },
  {
   "cell_type": "code",
   "execution_count": 95,
   "id": "bb2e0919",
   "metadata": {},
   "outputs": [
    {
     "data": {
      "text/plain": [
       "array(['Chestnut', 'The Stray', 'Dissonance Theory', 'Trace Decay',\n",
       "       'Journey Into Night', 'Reunion', 'Virtù e Fortuna', 'Akane No Mai',\n",
       "       'Phase Space', 'Les Écorchés', 'The Winter Line',\n",
       "       'The Absence of Field', 'Genre', 'Decoherence', 'Passed Pawn',\n",
       "       'Crisis Theory', 'The Auguries', 'Well Enough Alone',\n",
       "       'Années Folles', 'Generation Loss', 'Zhuangzi', 'Fidelity',\n",
       "       'Metanoia', 'Que Será, Será'], dtype=object)"
      ]
     },
     "execution_count": 95,
     "metadata": {},
     "output_type": "execute_result"
    }
   ],
   "source": [
    "df[df[\"rating\"]<8][\"name\"].values"
   ]
  },
  {
   "cell_type": "code",
   "execution_count": 96,
   "id": "968681b3",
   "metadata": {},
   "outputs": [
    {
     "data": {
      "image/png": "[encoded data removed]",
      "text/plain": [
       "<Figure size 640x480 with 1 Axes>"
      ]
     },
     "metadata": {},
     "output_type": "display_data"
    }
   ],
   "source": [
    "sizes = [(len(list(df[\"name\"].values)))-(len(df[df[\"rating\"]<8][\"name\"].values)), len(df[df[\"rating\"]<8][\"name\"].values)]\n",
    "labels = ['Average rating is less than 8 for every season', 'Average rating is more than 8 for every season']\n",
    "colors = ['#1f77b4', '#ff7f0e']\n",
    "\n",
    "plt.pie(sizes, labels=labels, colors=colors, autopct='%1.1f%%')\n",
    "plt.show()"
   ]
  },
  {
   "cell_type": "markdown",
   "id": "e0a96a8f",
   "metadata": {},
   "source": [
    "### Get all the episode names that aired before May 2019"
   ]
  },
  {
   "cell_type": "code",
   "execution_count": 97,
   "id": "ae9b064e",
   "metadata": {},
   "outputs": [],
   "source": [
    "df[\"air_year\"] = df[\"airdate\"].apply(lambda x: int(x.split(\"-\")[0]) if isinstance(x, str) else 0)"
   ]
  },
  {
   "cell_type": "code",
   "execution_count": 98,
   "id": "20fd6f57",
   "metadata": {},
   "outputs": [
    {
     "data": {
      "text/plain": [
       "array(['The Original', 'Chestnut', 'The Stray', 'Dissonance Theory',\n",
       "       'Contrapasso', 'The Adversary', \"Trompe L'Oeil\", 'Trace Decay',\n",
       "       'The Well-Tempered Clavier', 'The Bicameral Mind',\n",
       "       'Journey Into Night', 'Reunion', 'Virtù e Fortuna',\n",
       "       'The Riddle of the Sphinx', 'Akane No Mai', 'Phase Space',\n",
       "       'Les Écorchés', 'Kiksuya', 'Vanishing Point', 'The Passenger'],\n",
       "      dtype=object)"
      ]
     },
     "execution_count": 98,
     "metadata": {},
     "output_type": "execute_result"
    }
   ],
   "source": [
    "df[df[\"air_year\"]<2019][\"name\"].values"
   ]
  },
  {
   "cell_type": "code",
   "execution_count": 99,
   "id": "71d1c813",
   "metadata": {},
   "outputs": [
    {
     "data": {
      "image/png": "[encoded data removed]",
      "text/plain": [
       "<Figure size 640x480 with 1 Axes>"
      ]
     },
     "metadata": {},
     "output_type": "display_data"
    }
   ],
   "source": [
    "sizes = [(len(list(df[\"name\"].values)))-(len(df[df[\"air_year\"]<2019][\"name\"].values)), len(df[df[\"air_year\"]<2019][\"name\"].values)]\n",
    "labels = ['Episode names that aired after May 2019', 'Episode names that aired before May 2019']\n",
    "colors = ['#1f77b4', '#ff7f0e']\n",
    "\n",
    "plt.pie(sizes, labels=labels, colors=colors, autopct='%1.1f%%')\n",
    "plt.show()"
   ]
  },
  {
   "cell_type": "markdown",
   "id": "c1894de7",
   "metadata": {},
   "source": [
    "### Get the episode name from each season with the highest and lowest rating"
   ]
  },
  {
   "cell_type": "code",
   "execution_count": 100,
   "id": "96e45975",
   "metadata": {},
   "outputs": [],
   "source": [
    "rating_max = df.groupby([\"season\"]).agg({\"rating\": \"max\"}).reset_index()"
   ]
  },
  {
   "cell_type": "code",
   "execution_count": 101,
   "id": "c21d2132",
   "metadata": {},
   "outputs": [
    {
     "data": {
      "text/html": [
       "<div>\n",
       "<style scoped>\n",
       "    .dataframe tbody tr th:only-of-type {\n",
       "        vertical-align: middle;\n",
       "    }\n",
       "\n",
       "    .dataframe tbody tr th {\n",
       "        vertical-align: top;\n",
       "    }\n",
       "\n",
       "    .dataframe thead th {\n",
       "        text-align: right;\n",
       "    }\n",
       "</style>\n",
       "<table border=\"1\" class=\"dataframe\">\n",
       "  <thead>\n",
       "    <tr style=\"text-align: right;\">\n",
       "      <th></th>\n",
       "      <th>season</th>\n",
       "      <th>rating</th>\n",
       "    </tr>\n",
       "  </thead>\n",
       "  <tbody>\n",
       "    <tr>\n",
       "      <th>0</th>\n",
       "      <td>1</td>\n",
       "      <td>8.7</td>\n",
       "    </tr>\n",
       "    <tr>\n",
       "      <th>1</th>\n",
       "      <td>2</td>\n",
       "      <td>8.7</td>\n",
       "    </tr>\n",
       "    <tr>\n",
       "      <th>2</th>\n",
       "      <td>3</td>\n",
       "      <td>8.0</td>\n",
       "    </tr>\n",
       "    <tr>\n",
       "      <th>3</th>\n",
       "      <td>4</td>\n",
       "      <td>7.8</td>\n",
       "    </tr>\n",
       "  </tbody>\n",
       "</table>\n",
       "</div>"
      ],
      "text/plain": [
       "   season  rating\n",
       "0       1     8.7\n",
       "1       2     8.7\n",
       "2       3     8.0\n",
       "3       4     7.8"
      ]
     },
     "execution_count": 101,
     "metadata": {},
     "output_type": "execute_result"
    }
   ],
   "source": [
    "rating_max"
   ]
  },
  {
   "cell_type": "code",
   "execution_count": 102,
   "id": "a5e762e5",
   "metadata": {},
   "outputs": [
    {
     "name": "stdout",
     "output_type": "stream",
     "text": [
      "Season 1: The Bicameral Mind\n",
      "Season 2: Kiksuya\n",
      "Season 3: Parce Domine\n",
      "Season 4: Zhuangzi\n"
     ]
    }
   ],
   "source": [
    "rating = list(rating_max[\"rating\"].values) # ratings as list\n",
    "\n",
    "for i in range(1, len(rating)+1):\n",
    "    print(f'Season {i}: {df[(df[\"season\"]==i) & (df[\"rating\"]==rating[i-1])][\"name\"].values[0]}')"
   ]
  },
  {
   "cell_type": "code",
   "execution_count": 103,
   "id": "06571346",
   "metadata": {},
   "outputs": [],
   "source": [
    "rating_min = df.groupby([\"season\"]).agg({\"rating\": \"min\"}).reset_index()"
   ]
  },
  {
   "cell_type": "code",
   "execution_count": 104,
   "id": "386fafa9",
   "metadata": {},
   "outputs": [
    {
     "data": {
      "text/html": [
       "<div>\n",
       "<style scoped>\n",
       "    .dataframe tbody tr th:only-of-type {\n",
       "        vertical-align: middle;\n",
       "    }\n",
       "\n",
       "    .dataframe tbody tr th {\n",
       "        vertical-align: top;\n",
       "    }\n",
       "\n",
       "    .dataframe thead th {\n",
       "        text-align: right;\n",
       "    }\n",
       "</style>\n",
       "<table border=\"1\" class=\"dataframe\">\n",
       "  <thead>\n",
       "    <tr style=\"text-align: right;\">\n",
       "      <th></th>\n",
       "      <th>season</th>\n",
       "      <th>rating</th>\n",
       "    </tr>\n",
       "  </thead>\n",
       "  <tbody>\n",
       "    <tr>\n",
       "      <th>0</th>\n",
       "      <td>1</td>\n",
       "      <td>7.6</td>\n",
       "    </tr>\n",
       "    <tr>\n",
       "      <th>1</th>\n",
       "      <td>2</td>\n",
       "      <td>7.6</td>\n",
       "    </tr>\n",
       "    <tr>\n",
       "      <th>2</th>\n",
       "      <td>3</td>\n",
       "      <td>7.5</td>\n",
       "    </tr>\n",
       "    <tr>\n",
       "      <th>3</th>\n",
       "      <td>4</td>\n",
       "      <td>7.1</td>\n",
       "    </tr>\n",
       "  </tbody>\n",
       "</table>\n",
       "</div>"
      ],
      "text/plain": [
       "   season  rating\n",
       "0       1     7.6\n",
       "1       2     7.6\n",
       "2       3     7.5\n",
       "3       4     7.1"
      ]
     },
     "execution_count": 104,
     "metadata": {},
     "output_type": "execute_result"
    }
   ],
   "source": [
    "rating_min"
   ]
  },
  {
   "cell_type": "code",
   "execution_count": 105,
   "id": "c5580139",
   "metadata": {},
   "outputs": [
    {
     "name": "stdout",
     "output_type": "stream",
     "text": [
      "Season 1: The Stray\n",
      "Season 2: Akane No Mai\n",
      "Season 3: Decoherence\n",
      "Season 4: The Auguries\n"
     ]
    }
   ],
   "source": [
    "rating = list(rating_min[\"rating\"].values) # ratings as list\n",
    "\n",
    "for i in range(1, len(rating)+1):\n",
    "    print(f'Season {i}: {df[(df[\"season\"]==i) & (df[\"rating\"]==rating[i-1])][\"name\"].values[0]}')"
   ]
  },
  {
   "cell_type": "markdown",
   "id": "d0d0aa7b",
   "metadata": {},
   "source": [
    "### Get the summary for the most popular ( ratings ) episode in every season"
   ]
  },
  {
   "cell_type": "code",
   "execution_count": 106,
   "id": "67281237",
   "metadata": {},
   "outputs": [
    {
     "name": "stdout",
     "output_type": "stream",
     "text": [
      "Season 1: Delores finds out the truth about William's fate. Meanwhile, Maeve organizes an escape plan, only to discover that someone else is pulling the strings. And Robert plays the final piece in his grand narrative.\n",
      "\n",
      "Season 2: Another of Westworld's Host revolutionaries is revealed. Meanwhile, Emily finds the Man and convinces the Ghost Nation to hand him over to her to ensure his suffering.\n",
      "\n",
      "Season 3: If you're stuck in a loop, try walking in a straight line.\n",
      "\n",
      "Season 4: God is bored.\n",
      "\n"
     ]
    }
   ],
   "source": [
    "li = rating_max[\"rating\"].values\n",
    "for i in range(len(li)):\n",
    "    summary = df[(df[\"rating\"]==li[i])&(df[\"season\"]==i+1)][\"summary\"].values[0]\n",
    "    print(f\"Season {i+1}: {summary}\\n\")"
   ]
  },
  {
   "cell_type": "code",
   "execution_count": null,
   "id": "78819669",
   "metadata": {},
   "outputs": [],
   "source": []
  }
 ],
 "metadata": {
  "kernelspec": {
   "display_name": "Python 3 (ipykernel)",
   "language": "python",
   "name": "python3"
  },
  "language_info": {
   "codemirror_mode": {
    "name": "ipython",
    "version": 3
   },
   "file_extension": ".py",
   "mimetype": "text/x-python",
   "name": "python",
   "nbconvert_exporter": "python",
   "pygments_lexer": "ipython3",
   "version": "3.8.16"
  }
 },
 "nbformat": 4,
 "nbformat_minor": 5
}
