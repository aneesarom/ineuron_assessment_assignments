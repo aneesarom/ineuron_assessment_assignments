{
 "cells": [
  {
   "cell_type": "markdown",
   "id": "eb8c9d11",
   "metadata": {},
   "source": [
    "# Q-7. The equations of two lines of regression, obtained in a correlation analysis between variables X and Y are as follows:\n",
    "```\n",
    "and. 2𝑋+3−8=0 2𝑌+𝑋−5=0 The variance of 𝑋=4 Find the \n",
    "a. Variance of Y\n",
    "b. Coefficient of determination of C and Y\n",
    "c. Standard error of estimate of X on Y and of Y on X.\n",
    "```"
   ]
  },
  {
   "cell_type": "code",
   "execution_count": null,
   "id": "8fb7fe13",
   "metadata": {},
   "outputs": [],
   "source": []
  }
 ],
 "metadata": {
  "kernelspec": {
   "display_name": "Python 3 (ipykernel)",
   "language": "python",
   "name": "python3"
  },
  "language_info": {
   "codemirror_mode": {
    "name": "ipython",
    "version": 3
   },
   "file_extension": ".py",
   "mimetype": "text/x-python",
   "name": "python",
   "nbconvert_exporter": "python",
   "pygments_lexer": "ipython3",
   "version": "3.8.16"
  }
 },
 "nbformat": 4,
 "nbformat_minor": 5
}
