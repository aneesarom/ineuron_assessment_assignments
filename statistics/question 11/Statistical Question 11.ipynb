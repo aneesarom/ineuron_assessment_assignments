{
 "cells": [
  {
   "cell_type": "markdown",
   "id": "5e3e3017",
   "metadata": {},
   "source": [
    "# Q-11. Given the data of a feature contributing to different classes\n",
    "```\n",
    "https://drive.google.com/file/d/1mCjtYHiX--mMUjicuaP2gH3k-SnFxt8Y/view?usp =share_\n",
    "a. Check whether the distribution of all the classes are the same or not. \n",
    "b. Check for the equality of variance/\n",
    "c. Which amount LDA and QDA would perform better on this data for classification and why.\n",
    "d. Check the equality of mean for between all the classes.\n",
    "```"
   ]
  },
  {
   "cell_type": "code",
   "execution_count": null,
   "id": "ab4b6e00",
   "metadata": {},
   "outputs": [],
   "source": []
  }
 ],
 "metadata": {
  "kernelspec": {
   "display_name": "Python 3 (ipykernel)",
   "language": "python",
   "name": "python3"
  },
  "language_info": {
   "codemirror_mode": {
    "name": "ipython",
    "version": 3
   },
   "file_extension": ".py",
   "mimetype": "text/x-python",
   "name": "python",
   "nbconvert_exporter": "python",
   "pygments_lexer": "ipython3",
   "version": "3.8.16"
  }
 },
 "nbformat": 4,
 "nbformat_minor": 5
}
