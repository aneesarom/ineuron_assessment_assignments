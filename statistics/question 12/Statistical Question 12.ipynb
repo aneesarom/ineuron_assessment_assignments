{
 "cells": [
  {
   "cell_type": "markdown",
   "id": "ca2f5f48",
   "metadata": {},
   "source": [
    "# Q-12. A pharmaceutical company develops a new drug and wants to compare its effectiveness against a standard drug for treating a particular condition. They conduct a study with two groups: Group A receives the new drug, and Group B receives the standard drug. The company measures the improvement in a specific symptom for both groups after a 4-week treatment period.\n",
    "```\n",
    "a. The company collects data from 30 patients in each group and calculates the mean improvement score and the standard deviation of improvement for each group. The mean improvement score for Group A is 2.5 with a standard deviation of 0.8, while the mean improvement score for Group B is 2.2 with a standard deviation of 0.6. Conduct a t-test to determine if there is a significant difference in the mean improvement scores between the two groups. Use a significance level of 0.05.\n",
    "\n",
    "b. Based on the t-test results, state whether the null hypothesis should be rejected or not. Provide a conclusion in the context of the study.\n",
    "```"
   ]
  },
  {
   "cell_type": "code",
   "execution_count": 1,
   "id": "68e433a4",
   "metadata": {},
   "outputs": [],
   "source": [
    "sample_group_a = 30\n",
    "mean_group_a = 2.5\n",
    "std_group_a = 0.8\n",
    "\n",
    "\n",
    "sample_group_b = 30\n",
    "mean_group_b = 2.2\n",
    "std_group_b = 0.6\n",
    "\n",
    "alpha = 0.05"
   ]
  },
  {
   "cell_type": "code",
   "execution_count": 2,
   "id": "0b08bbb7",
   "metadata": {},
   "outputs": [],
   "source": [
    "null = \"there is no significant difference\"\n",
    "alternate = \"there is a significant difference\""
   ]
  },
  {
   "cell_type": "code",
   "execution_count": 3,
   "id": "fe8c5746",
   "metadata": {},
   "outputs": [],
   "source": [
    "import math\n",
    "\n",
    "t_test = (mean_group_a - mean_group_b)/math.sqrt(((std_group_a**2)/sample_group_a)+((std_group_b**2)/sample_group_b))"
   ]
  },
  {
   "cell_type": "code",
   "execution_count": 4,
   "id": "631b2c7b",
   "metadata": {},
   "outputs": [],
   "source": [
    "df = sample_group_a+sample_group_b-2"
   ]
  },
  {
   "cell_type": "code",
   "execution_count": 5,
   "id": "f14dcbf4",
   "metadata": {},
   "outputs": [
    {
     "data": {
      "text/plain": [
       "(1.6431676725154973, 58)"
      ]
     },
     "execution_count": 5,
     "metadata": {},
     "output_type": "execute_result"
    }
   ],
   "source": [
    "t_test, df"
   ]
  },
  {
   "cell_type": "code",
   "execution_count": 6,
   "id": "940b8ffa",
   "metadata": {},
   "outputs": [
    {
     "name": "stdout",
     "output_type": "stream",
     "text": [
      "1.6715527621536723\n"
     ]
    }
   ],
   "source": [
    "from scipy.stats import t\n",
    "\n",
    "alpha = 0.05\n",
    "\n",
    "t_critical = t.ppf(1 - alpha, df=58)\n",
    "print(t_critical)"
   ]
  },
  {
   "cell_type": "code",
   "execution_count": 7,
   "id": "f17cad14",
   "metadata": {},
   "outputs": [
    {
     "name": "stdout",
     "output_type": "stream",
     "text": [
      "Reject the null hypothesis statement at the confidence level 95%: there is no significant difference\n"
     ]
    }
   ],
   "source": [
    "if t_test < t_critical:\n",
    "    print(f\"Reject the null hypothesis statement at the confidence level 95%: {null}\")\n",
    "else:\n",
    "    print(f\"Failed to reject the null hypothesis statement at the confidence level 95%: {alternate}\")"
   ]
  },
  {
   "cell_type": "code",
   "execution_count": null,
   "id": "1c10d4c9",
   "metadata": {},
   "outputs": [],
   "source": []
  },
  {
   "cell_type": "code",
   "execution_count": null,
   "id": "4e109d14",
   "metadata": {},
   "outputs": [],
   "source": []
  }
 ],
 "metadata": {
  "kernelspec": {
   "display_name": "Python 3 (ipykernel)",
   "language": "python",
   "name": "python3"
  },
  "language_info": {
   "codemirror_mode": {
    "name": "ipython",
    "version": 3
   },
   "file_extension": ".py",
   "mimetype": "text/x-python",
   "name": "python",
   "nbconvert_exporter": "python",
   "pygments_lexer": "ipython3",
   "version": "3.8.16"
  }
 },
 "nbformat": 4,
 "nbformat_minor": 5
}
