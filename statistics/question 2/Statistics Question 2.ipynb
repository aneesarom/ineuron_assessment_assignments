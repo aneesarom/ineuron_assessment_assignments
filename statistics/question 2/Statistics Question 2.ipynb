{
 "cells": [
  {
   "cell_type": "markdown",
   "id": "2ae26ce2",
   "metadata": {},
   "source": [
    "### Q-2. Consider a dataset containing the heights (in centimeters) of 1000 individuals. The mean height is 170 cm with a standard deviation of 10 cm. The dataset is approximately normally distributed, and its skewness is approximately zero. Based on this information, answer the following questions:\n",
    "```\n",
    "a. What percentage of individuals in the dataset have heights between 160 cm and 180 cm?\n",
    "b. If we randomly select 100 individuals from the dataset, what is the probability that their average height is greater than 175 cm?\n",
    "c. Assuming the dataset follows a normal distribution, what is the z-score corresponding to a height of 185 cm?\n",
    "d. We know that 5% of the dataset has heights below a certain value. What is the approximate height corresponding to this threshold?\n",
    "e. Calculate the coefficient of variation (CV) for the dataset.\n",
    "f. Calculate the skewness of the dataset and interpret the result.\n",
    "```"
   ]
  },
  {
   "cell_type": "markdown",
   "id": "49685a36",
   "metadata": {},
   "source": [
    "#### a. What percentage of individuals in the dataset have heights between 160 cm and 180 cm?"
   ]
  },
  {
   "cell_type": "raw",
   "id": "e3b56b0c",
   "metadata": {},
   "source": [
    "Based on the empherical rule of normally distributed data, 68 percentage of individuals in the dataset have heights between 160 and 180. Based on the standard deviation 10, data 160 to 180 cm is within the 1st set of standard deviation(+/-1σ) which is +/-10."
   ]
  },
  {
   "cell_type": "markdown",
   "id": "af03afba",
   "metadata": {},
   "source": [
    "#### b. If we randomly select 100 individuals from the dataset, what is the probability that their average height is greater than 175 cm?"
   ]
  },
  {
   "cell_type": "code",
   "execution_count": 1,
   "id": "7e48f387",
   "metadata": {},
   "outputs": [
    {
     "name": "stdout",
     "output_type": "stream",
     "text": [
      "z-score: 0.5\n",
      "Probability: 30.853753872598688%\n"
     ]
    }
   ],
   "source": [
    "from scipy import stats\n",
    "\n",
    "z_score = (175 - 170) / 10\n",
    "\n",
    "# since it is greater than problem statement we are subracting it\n",
    "probability = (1 - stats.norm.cdf(z_score)) * 100\n",
    "\n",
    "print(f\"z-score: {z_score}\")\n",
    "print(f\"Probability: {probability}%\")"
   ]
  },
  {
   "cell_type": "markdown",
   "id": "861eb165",
   "metadata": {},
   "source": [
    "#### d. We know that 5% of the dataset has heights below a certain value. What is the approximate height corresponding to this threshold?"
   ]
  },
  {
   "cell_type": "code",
   "execution_count": 24,
   "id": "ef21ff2f",
   "metadata": {},
   "outputs": [
    {
     "name": "stdout",
     "output_type": "stream",
     "text": [
      "The height corresponding to the 5% threshold is: 153.55 cm\n"
     ]
    }
   ],
   "source": [
    "from scipy import stats\n",
    "\n",
    "mean = 170\n",
    "std_dev = 10\n",
    "\n",
    "height = stats.norm.ppf(0.05, loc=mean, scale=std_dev) # percent point function\n",
    "\n",
    "print(f\"The height corresponding to the {5}% threshold is: {height:.2f} cm\")"
   ]
  },
  {
   "cell_type": "markdown",
   "id": "c04a7e36",
   "metadata": {},
   "source": [
    "#### e. Calculate the coefficient of variation (CV) for the dataset."
   ]
  },
  {
   "cell_type": "code",
   "execution_count": 3,
   "id": "9e1bf328",
   "metadata": {},
   "outputs": [
    {
     "name": "stdout",
     "output_type": "stream",
     "text": [
      "coefficient variation of the dataset: 0.058823529411764705\n"
     ]
    }
   ],
   "source": [
    "std_dev = 10\n",
    "mean = 170\n",
    "\n",
    "cv = std_dev/mean\n",
    "print(f\"coefficient variation of the dataset: {cv}\")"
   ]
  },
  {
   "cell_type": "markdown",
   "id": "881d8e45",
   "metadata": {},
   "source": [
    "#### f. Calculate the skewness of the dataset and interpret the result."
   ]
  },
  {
   "cell_type": "code",
   "execution_count": 4,
   "id": "d341a1be",
   "metadata": {},
   "outputs": [],
   "source": [
    "import numpy as np"
   ]
  },
  {
   "cell_type": "code",
   "execution_count": 17,
   "id": "31a55e87",
   "metadata": {},
   "outputs": [],
   "source": [
    "# Since it is normally distributed data. I considered taking normally distributed data using numpy with \n",
    "# equivalent standard deviation and mean value\n",
    "\n",
    "a = np.random.normal(loc=170,scale=10,size=1000)"
   ]
  },
  {
   "cell_type": "code",
   "execution_count": 18,
   "id": "547ba584",
   "metadata": {},
   "outputs": [
    {
     "data": {
      "text/plain": [
       "170.33707002866493"
      ]
     },
     "execution_count": 18,
     "metadata": {},
     "output_type": "execute_result"
    }
   ],
   "source": [
    "np.mean(a)"
   ]
  },
  {
   "cell_type": "code",
   "execution_count": 19,
   "id": "fe30da09",
   "metadata": {},
   "outputs": [
    {
     "data": {
      "text/plain": [
       "10.051910142269696"
      ]
     },
     "execution_count": 19,
     "metadata": {},
     "output_type": "execute_result"
    }
   ],
   "source": [
    "np.std(a)"
   ]
  },
  {
   "cell_type": "code",
   "execution_count": 20,
   "id": "68d2b2ba",
   "metadata": {},
   "outputs": [
    {
     "data": {
      "text/plain": [
       "-0.04151113754321179"
      ]
     },
     "execution_count": 20,
     "metadata": {},
     "output_type": "execute_result"
    }
   ],
   "source": [
    "from scipy.stats import skew\n",
    "skew(a)"
   ]
  },
  {
   "cell_type": "code",
   "execution_count": 52,
   "id": "d2f4e915",
   "metadata": {},
   "outputs": [],
   "source": [
    "# Since skewness is about 0. It is a normally distributed data"
   ]
  }
 ],
 "metadata": {
  "kernelspec": {
   "display_name": "Python 3 (ipykernel)",
   "language": "python",
   "name": "python3"
  },
  "language_info": {
   "codemirror_mode": {
    "name": "ipython",
    "version": 3
   },
   "file_extension": ".py",
   "mimetype": "text/x-python",
   "name": "python",
   "nbconvert_exporter": "python",
   "pygments_lexer": "ipython3",
   "version": "3.8.16"
  }
 },
 "nbformat": 4,
 "nbformat_minor": 5
}
