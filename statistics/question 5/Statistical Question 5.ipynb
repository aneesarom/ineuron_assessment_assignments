{
 "cells": [
  {
   "cell_type": "markdown",
   "id": "c5d48fbd",
   "metadata": {},
   "source": [
    "### Q-5. A certain city has two taxi companies: Company A has 80% of the taxis and Company B has 20% of the taxis. Company A's taxis have a 95% success rate for picking up passengers on time, while Company B's taxis have a 90% success rate. If a randomly selected taxi is late, what is the probability that it belongs to Company A?\n"
   ]
  },
  {
   "cell_type": "code",
   "execution_count": 1,
   "id": "4393be15",
   "metadata": {},
   "outputs": [],
   "source": [
    "company_a = 0.8 # 80 percentage\n",
    "company_b = 0.2 # 20 percentage\n",
    "error_a = 0.05\n",
    "error_b = 0.10"
   ]
  },
  {
   "cell_type": "code",
   "execution_count": 2,
   "id": "bad2c509",
   "metadata": {},
   "outputs": [],
   "source": [
    "#p(a|b) = p(a)&p(failure)/p(failure)"
   ]
  },
  {
   "cell_type": "code",
   "execution_count": 3,
   "id": "cfb6ce20",
   "metadata": {},
   "outputs": [],
   "source": [
    "#p(a)&p(failure) = 0.05"
   ]
  },
  {
   "cell_type": "code",
   "execution_count": 4,
   "id": "98d68926",
   "metadata": {},
   "outputs": [],
   "source": [
    "#p(failure) = 0.15"
   ]
  },
  {
   "cell_type": "code",
   "execution_count": 5,
   "id": "6c1101e7",
   "metadata": {},
   "outputs": [],
   "source": [
    "#p(a/b) = 0.05/0.15"
   ]
  },
  {
   "cell_type": "code",
   "execution_count": 7,
   "id": "85ea8584",
   "metadata": {},
   "outputs": [
    {
     "data": {
      "text/plain": [
       "0.33333333333333337"
      ]
     },
     "execution_count": 7,
     "metadata": {},
     "output_type": "execute_result"
    }
   ],
   "source": [
    "0.05/0.15"
   ]
  }
 ],
 "metadata": {
  "kernelspec": {
   "display_name": "Python 3 (ipykernel)",
   "language": "python",
   "name": "python3"
  },
  "language_info": {
   "codemirror_mode": {
    "name": "ipython",
    "version": 3
   },
   "file_extension": ".py",
   "mimetype": "text/x-python",
   "name": "python",
   "nbconvert_exporter": "python",
   "pygments_lexer": "ipython3",
   "version": "3.8.16"
  }
 },
 "nbformat": 4,
 "nbformat_minor": 5
}
