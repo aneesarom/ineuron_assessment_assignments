{
 "cells": [
  {
   "cell_type": "markdown",
   "id": "e79e0f73",
   "metadata": {},
   "source": [
    "# Q-10. A factory produces light bulbs, and the probability of a bulb being defective is 0.05. The factory produces a large batch of 500 light bulbs.\n",
    "```\n",
    "a. What is the probability that exactly 20 bulbs are defective?\n",
    "b. What is the probability that at least 10 bulbs are defective?\n",
    "c. What is the probability that at max 15 bulbs are defective?\n",
    "d. On average, how many defective bulbs would you expect in a batch of 500?\n",
    "```"
   ]
  },
  {
   "cell_type": "code",
   "execution_count": 1,
   "id": "c34c09ab",
   "metadata": {},
   "outputs": [
    {
     "name": "stdout",
     "output_type": "stream",
     "text": [
      "The probability that exactly 20 bulbs are defective: 0.05161619253664108\n"
     ]
    }
   ],
   "source": [
    "#a\n",
    "\n",
    "from scipy import stats\n",
    "\n",
    "print(f\"The probability that exactly 20 bulbs are defective: {stats.binom.pmf(20,500,0.05)}\")"
   ]
  },
  {
   "cell_type": "code",
   "execution_count": 2,
   "id": "ff5da3f3",
   "metadata": {},
   "outputs": [
    {
     "name": "stdout",
     "output_type": "stream",
     "text": [
      "The probability that at least 10 bulbs are defective: 0.9998316463654902\n"
     ]
    }
   ],
   "source": [
    "#b\n",
    "\n",
    "print(f\"The probability that at least 10 bulbs are defective: {1-stats.binom.cdf(9,500,0.05)}\")"
   ]
  },
  {
   "cell_type": "code",
   "execution_count": 3,
   "id": "86d2c234",
   "metadata": {},
   "outputs": [
    {
     "name": "stdout",
     "output_type": "stream",
     "text": [
      "The probability that at least 10 bulbs are defective: 0.01985837716300623\n"
     ]
    }
   ],
   "source": [
    "#c\n",
    "print(f\"The probability that at least 10 bulbs are defective: {stats.binom.cdf(15,500,0.05)}\")"
   ]
  },
  {
   "cell_type": "code",
   "execution_count": 4,
   "id": "a14fff8a",
   "metadata": {},
   "outputs": [
    {
     "name": "stdout",
     "output_type": "stream",
     "text": [
      "On average, Defective bulbs would expect in a batch of 500 is 25.0\n"
     ]
    }
   ],
   "source": [
    "#d\n",
    "\n",
    "print(f\"On average, Defective bulbs would expect in a batch of 500 is {0.05*500}\")"
   ]
  }
 ],
 "metadata": {
  "kernelspec": {
   "display_name": "Python 3 (ipykernel)",
   "language": "python",
   "name": "python3"
  },
  "language_info": {
   "codemirror_mode": {
    "name": "ipython",
    "version": 3
   },
   "file_extension": ".py",
   "mimetype": "text/x-python",
   "name": "python",
   "nbconvert_exporter": "python",
   "pygments_lexer": "ipython3",
   "version": "3.8.16"
  }
 },
 "nbformat": 4,
 "nbformat_minor": 5
}
