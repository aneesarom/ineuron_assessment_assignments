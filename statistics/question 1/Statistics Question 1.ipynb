{
 "cells": [
  {
   "cell_type": "markdown",
   "id": "9178bb99",
   "metadata": {},
   "source": [
    "### Q-1. A university wants to understand the relationship between the SAT scores of its applicants and their college GPA. They collect data on 500 students, including their SAT scores (out of 1600) and their college GPA (on a 4.0 scale). They find that the correlation coefficient between SAT scores and college GPA is 0.7. What does this correlation coefficient indicate about the relationship between SAT scores and college GPA?"
   ]
  },
  {
   "cell_type": "markdown",
   "id": "d3cd6ed4",
   "metadata": {},
   "source": [
    "***Coerraltion coefficient is relationship between two continuous parameters. The range of coerraltion coefficent is between -1 to 1. If it is positive coerrelation it ranges from 0 to 1 (1 is highest, 0 is lowest). If it is a negative corellation it ranges from -1 to 0 (-1 is highest, 0 is lowest). The number 0.7 means it has some good strong correlation between the two continuos variables. I demonstrated how it works in below code***"
   ]
  },
  {
   "cell_type": "code",
   "execution_count": 85,
   "id": "3fad6912",
   "metadata": {},
   "outputs": [],
   "source": [
    "import pandas as pd"
   ]
  },
  {
   "cell_type": "code",
   "execution_count": 86,
   "id": "d6fe1723",
   "metadata": {},
   "outputs": [],
   "source": [
    "sat_list = [1000, 800, 1200, 1300, 1229]"
   ]
  },
  {
   "cell_type": "code",
   "execution_count": 87,
   "id": "35620019",
   "metadata": {},
   "outputs": [],
   "source": [
    "gpa = [i/400 for i in li]"
   ]
  },
  {
   "cell_type": "markdown",
   "id": "d0c313b5",
   "metadata": {},
   "source": [
    "***Since it is 4 scale I divided sat score with 400. Since we are dividing it with exact 4 scale value it will result correlation 1(will see in the below steps). Because it has a strong relation of exact 4 with every sat score***"
   ]
  },
  {
   "cell_type": "code",
   "execution_count": 88,
   "id": "746f3aba",
   "metadata": {},
   "outputs": [],
   "source": [
    "df = pd.DataFrame({\"SAT_score\": sat_list, \"GPA\": gpa})"
   ]
  },
  {
   "cell_type": "code",
   "execution_count": 89,
   "id": "0fd641d8",
   "metadata": {},
   "outputs": [
    {
     "data": {
      "text/html": [
       "<div>\n",
       "<style scoped>\n",
       "    .dataframe tbody tr th:only-of-type {\n",
       "        vertical-align: middle;\n",
       "    }\n",
       "\n",
       "    .dataframe tbody tr th {\n",
       "        vertical-align: top;\n",
       "    }\n",
       "\n",
       "    .dataframe thead th {\n",
       "        text-align: right;\n",
       "    }\n",
       "</style>\n",
       "<table border=\"1\" class=\"dataframe\">\n",
       "  <thead>\n",
       "    <tr style=\"text-align: right;\">\n",
       "      <th></th>\n",
       "      <th>SAT_score</th>\n",
       "      <th>GPA</th>\n",
       "    </tr>\n",
       "  </thead>\n",
       "  <tbody>\n",
       "    <tr>\n",
       "      <th>SAT_score</th>\n",
       "      <td>1.0</td>\n",
       "      <td>1.0</td>\n",
       "    </tr>\n",
       "    <tr>\n",
       "      <th>GPA</th>\n",
       "      <td>1.0</td>\n",
       "      <td>1.0</td>\n",
       "    </tr>\n",
       "  </tbody>\n",
       "</table>\n",
       "</div>"
      ],
      "text/plain": [
       "           SAT_score  GPA\n",
       "SAT_score        1.0  1.0\n",
       "GPA              1.0  1.0"
      ]
     },
     "execution_count": 89,
     "metadata": {},
     "output_type": "execute_result"
    }
   ],
   "source": [
    "df.corr()"
   ]
  },
  {
   "cell_type": "markdown",
   "id": "47955e04",
   "metadata": {},
   "source": [
    "***As I mentioned earlier. It results coerrelation 1***"
   ]
  },
  {
   "cell_type": "code",
   "execution_count": 90,
   "id": "46f9454a",
   "metadata": {},
   "outputs": [],
   "source": [
    "df = pd.DataFrame({\"SAT_score\": [1000, 800, 1200, 1300, 1229], \"GPA\": [2.5, 2.0, 2.05, 3.2, 3.2]})"
   ]
  },
  {
   "cell_type": "markdown",
   "id": "aef425e7",
   "metadata": {},
   "source": [
    "***When changing gpa value of few sat score we can see different in GPA. Because now we breaked the exact relation of 4***"
   ]
  },
  {
   "cell_type": "code",
   "execution_count": 91,
   "id": "8df3d462",
   "metadata": {},
   "outputs": [
    {
     "data": {
      "text/html": [
       "<div>\n",
       "<style scoped>\n",
       "    .dataframe tbody tr th:only-of-type {\n",
       "        vertical-align: middle;\n",
       "    }\n",
       "\n",
       "    .dataframe tbody tr th {\n",
       "        vertical-align: top;\n",
       "    }\n",
       "\n",
       "    .dataframe thead th {\n",
       "        text-align: right;\n",
       "    }\n",
       "</style>\n",
       "<table border=\"1\" class=\"dataframe\">\n",
       "  <thead>\n",
       "    <tr style=\"text-align: right;\">\n",
       "      <th></th>\n",
       "      <th>SAT_score</th>\n",
       "      <th>GPA</th>\n",
       "    </tr>\n",
       "  </thead>\n",
       "  <tbody>\n",
       "    <tr>\n",
       "      <th>SAT_score</th>\n",
       "      <td>1.000000</td>\n",
       "      <td>0.691112</td>\n",
       "    </tr>\n",
       "    <tr>\n",
       "      <th>GPA</th>\n",
       "      <td>0.691112</td>\n",
       "      <td>1.000000</td>\n",
       "    </tr>\n",
       "  </tbody>\n",
       "</table>\n",
       "</div>"
      ],
      "text/plain": [
       "           SAT_score       GPA\n",
       "SAT_score   1.000000  0.691112\n",
       "GPA         0.691112  1.000000"
      ]
     },
     "execution_count": 91,
     "metadata": {},
     "output_type": "execute_result"
    }
   ],
   "source": [
    "df.corr()"
   ]
  }
 ],
 "metadata": {
  "kernelspec": {
   "display_name": "Python 3 (ipykernel)",
   "language": "python",
   "name": "python3"
  },
  "language_info": {
   "codemirror_mode": {
    "name": "ipython",
    "version": 3
   },
   "file_extension": ".py",
   "mimetype": "text/x-python",
   "name": "python",
   "nbconvert_exporter": "python",
   "pygments_lexer": "ipython3",
   "version": "3.8.16"
  }
 },
 "nbformat": 4,
 "nbformat_minor": 5
}
