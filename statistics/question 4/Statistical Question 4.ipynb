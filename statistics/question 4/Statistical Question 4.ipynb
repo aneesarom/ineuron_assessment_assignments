{
 "cells": [
  {
   "cell_type": "markdown",
   "id": "50226754",
   "metadata": {},
   "source": [
    "### Q-4. A group of 20 friends decide to play a game in which they each write a number between 1 and 20 on a slip of paper and put it into a hat. They then draw one slip of paper at random. What is the probability that the number on the slip of paper is a perfect square (i.e., 1, 4, 9, or 16)?"
   ]
  },
  {
   "cell_type": "code",
   "execution_count": 1,
   "id": "b1521a9c",
   "metadata": {},
   "outputs": [],
   "source": [
    "random_variable = [1, 2, 3, 4] # which is perfect square 1, 4, 9, 16"
   ]
  },
  {
   "cell_type": "raw",
   "id": "9fd09316",
   "metadata": {},
   "source": [
    "We need to find probability of values from 1 to 4. Each number has the probability 1/20. Based on cummulative distribution function we can solve this. since we have 4 numbers we have to add it up 1/20+1/20+1/20+1/20"
   ]
  },
  {
   "cell_type": "code",
   "execution_count": 2,
   "id": "c43bd063",
   "metadata": {},
   "outputs": [
    {
     "name": "stdout",
     "output_type": "stream",
     "text": [
      "Probability of getting number on the slip of paper untill 4 is: 0.2\n"
     ]
    }
   ],
   "source": [
    "print(f\"Probability of getting number on the slip of paper untill 4 is: {1/20+1/20+1/20+1/20}\")"
   ]
  }
 ],
 "metadata": {
  "kernelspec": {
   "display_name": "Python 3 (ipykernel)",
   "language": "python",
   "name": "python3"
  },
  "language_info": {
   "codemirror_mode": {
    "name": "ipython",
    "version": 3
   },
   "file_extension": ".py",
   "mimetype": "text/x-python",
   "name": "python",
   "nbconvert_exporter": "python",
   "pygments_lexer": "ipython3",
   "version": "3.8.16"
  }
 },
 "nbformat": 4,
 "nbformat_minor": 5
}
