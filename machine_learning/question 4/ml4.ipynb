{
 "cells": [
  {
   "cell_type": "markdown",
   "id": "ed593ab7",
   "metadata": {},
   "source": [
    "# Q-4. \n",
    "```\n",
    "Imagine you working as a sale manager now you need to predict the Revenue\n",
    "and whether that particular revenue is on the weekend or not and find the\n",
    "Informational_Duration using the Ensemble learning algorithm\n",
    "Dataset This is the Dataset You can use this dataset for this question.\n",
    "```"
   ]
  },
  {
   "cell_type": "code",
   "execution_count": 1,
   "id": "1a129669",
   "metadata": {},
   "outputs": [],
   "source": [
    "import pandas as pd"
   ]
  },
  {
   "cell_type": "code",
   "execution_count": 2,
   "id": "aaf7e1e1",
   "metadata": {},
   "outputs": [],
   "source": [
    "df = pd.read_csv(\"online_shoppers_intention.csv\")"
   ]
  },
  {
   "cell_type": "code",
   "execution_count": 3,
   "id": "a7754930",
   "metadata": {},
   "outputs": [
    {
     "data": {
      "text/html": [
       "<div>\n",
       "<style scoped>\n",
       "    .dataframe tbody tr th:only-of-type {\n",
       "        vertical-align: middle;\n",
       "    }\n",
       "\n",
       "    .dataframe tbody tr th {\n",
       "        vertical-align: top;\n",
       "    }\n",
       "\n",
       "    .dataframe thead th {\n",
       "        text-align: right;\n",
       "    }\n",
       "</style>\n",
       "<table border=\"1\" class=\"dataframe\">\n",
       "  <thead>\n",
       "    <tr style=\"text-align: right;\">\n",
       "      <th></th>\n",
       "      <th>Administrative</th>\n",
       "      <th>Administrative_Duration</th>\n",
       "      <th>Informational</th>\n",
       "      <th>Informational_Duration</th>\n",
       "      <th>ProductRelated</th>\n",
       "      <th>ProductRelated_Duration</th>\n",
       "      <th>BounceRates</th>\n",
       "      <th>ExitRates</th>\n",
       "      <th>PageValues</th>\n",
       "      <th>SpecialDay</th>\n",
       "      <th>Month</th>\n",
       "      <th>OperatingSystems</th>\n",
       "      <th>Browser</th>\n",
       "      <th>Region</th>\n",
       "      <th>TrafficType</th>\n",
       "      <th>VisitorType</th>\n",
       "      <th>Weekend</th>\n",
       "      <th>Revenue</th>\n",
       "    </tr>\n",
       "  </thead>\n",
       "  <tbody>\n",
       "    <tr>\n",
       "      <th>0</th>\n",
       "      <td>0</td>\n",
       "      <td>0.0</td>\n",
       "      <td>0</td>\n",
       "      <td>0.0</td>\n",
       "      <td>1</td>\n",
       "      <td>0.000000</td>\n",
       "      <td>0.20</td>\n",
       "      <td>0.20</td>\n",
       "      <td>0.0</td>\n",
       "      <td>0.0</td>\n",
       "      <td>Feb</td>\n",
       "      <td>1</td>\n",
       "      <td>1</td>\n",
       "      <td>1</td>\n",
       "      <td>1</td>\n",
       "      <td>Returning_Visitor</td>\n",
       "      <td>False</td>\n",
       "      <td>False</td>\n",
       "    </tr>\n",
       "    <tr>\n",
       "      <th>1</th>\n",
       "      <td>0</td>\n",
       "      <td>0.0</td>\n",
       "      <td>0</td>\n",
       "      <td>0.0</td>\n",
       "      <td>2</td>\n",
       "      <td>64.000000</td>\n",
       "      <td>0.00</td>\n",
       "      <td>0.10</td>\n",
       "      <td>0.0</td>\n",
       "      <td>0.0</td>\n",
       "      <td>Feb</td>\n",
       "      <td>2</td>\n",
       "      <td>2</td>\n",
       "      <td>1</td>\n",
       "      <td>2</td>\n",
       "      <td>Returning_Visitor</td>\n",
       "      <td>False</td>\n",
       "      <td>False</td>\n",
       "    </tr>\n",
       "    <tr>\n",
       "      <th>2</th>\n",
       "      <td>0</td>\n",
       "      <td>0.0</td>\n",
       "      <td>0</td>\n",
       "      <td>0.0</td>\n",
       "      <td>1</td>\n",
       "      <td>0.000000</td>\n",
       "      <td>0.20</td>\n",
       "      <td>0.20</td>\n",
       "      <td>0.0</td>\n",
       "      <td>0.0</td>\n",
       "      <td>Feb</td>\n",
       "      <td>4</td>\n",
       "      <td>1</td>\n",
       "      <td>9</td>\n",
       "      <td>3</td>\n",
       "      <td>Returning_Visitor</td>\n",
       "      <td>False</td>\n",
       "      <td>False</td>\n",
       "    </tr>\n",
       "    <tr>\n",
       "      <th>3</th>\n",
       "      <td>0</td>\n",
       "      <td>0.0</td>\n",
       "      <td>0</td>\n",
       "      <td>0.0</td>\n",
       "      <td>2</td>\n",
       "      <td>2.666667</td>\n",
       "      <td>0.05</td>\n",
       "      <td>0.14</td>\n",
       "      <td>0.0</td>\n",
       "      <td>0.0</td>\n",
       "      <td>Feb</td>\n",
       "      <td>3</td>\n",
       "      <td>2</td>\n",
       "      <td>2</td>\n",
       "      <td>4</td>\n",
       "      <td>Returning_Visitor</td>\n",
       "      <td>False</td>\n",
       "      <td>False</td>\n",
       "    </tr>\n",
       "    <tr>\n",
       "      <th>4</th>\n",
       "      <td>0</td>\n",
       "      <td>0.0</td>\n",
       "      <td>0</td>\n",
       "      <td>0.0</td>\n",
       "      <td>10</td>\n",
       "      <td>627.500000</td>\n",
       "      <td>0.02</td>\n",
       "      <td>0.05</td>\n",
       "      <td>0.0</td>\n",
       "      <td>0.0</td>\n",
       "      <td>Feb</td>\n",
       "      <td>3</td>\n",
       "      <td>3</td>\n",
       "      <td>1</td>\n",
       "      <td>4</td>\n",
       "      <td>Returning_Visitor</td>\n",
       "      <td>True</td>\n",
       "      <td>False</td>\n",
       "    </tr>\n",
       "  </tbody>\n",
       "</table>\n",
       "</div>"
      ],
      "text/plain": [
       "   Administrative  Administrative_Duration  Informational  \\\n",
       "0               0                      0.0              0   \n",
       "1               0                      0.0              0   \n",
       "2               0                      0.0              0   \n",
       "3               0                      0.0              0   \n",
       "4               0                      0.0              0   \n",
       "\n",
       "   Informational_Duration  ProductRelated  ProductRelated_Duration  \\\n",
       "0                     0.0               1                 0.000000   \n",
       "1                     0.0               2                64.000000   \n",
       "2                     0.0               1                 0.000000   \n",
       "3                     0.0               2                 2.666667   \n",
       "4                     0.0              10               627.500000   \n",
       "\n",
       "   BounceRates  ExitRates  PageValues  SpecialDay Month  OperatingSystems  \\\n",
       "0         0.20       0.20         0.0         0.0   Feb                 1   \n",
       "1         0.00       0.10         0.0         0.0   Feb                 2   \n",
       "2         0.20       0.20         0.0         0.0   Feb                 4   \n",
       "3         0.05       0.14         0.0         0.0   Feb                 3   \n",
       "4         0.02       0.05         0.0         0.0   Feb                 3   \n",
       "\n",
       "   Browser  Region  TrafficType        VisitorType  Weekend  Revenue  \n",
       "0        1       1            1  Returning_Visitor    False    False  \n",
       "1        2       1            2  Returning_Visitor    False    False  \n",
       "2        1       9            3  Returning_Visitor    False    False  \n",
       "3        2       2            4  Returning_Visitor    False    False  \n",
       "4        3       1            4  Returning_Visitor     True    False  "
      ]
     },
     "execution_count": 3,
     "metadata": {},
     "output_type": "execute_result"
    }
   ],
   "source": [
    "df.head()"
   ]
  },
  {
   "cell_type": "code",
   "execution_count": 4,
   "id": "091116fa",
   "metadata": {},
   "outputs": [
    {
     "data": {
      "text/plain": [
       "Index(['Administrative', 'Administrative_Duration', 'Informational',\n",
       "       'Informational_Duration', 'ProductRelated', 'ProductRelated_Duration',\n",
       "       'BounceRates', 'ExitRates', 'PageValues', 'SpecialDay', 'Month',\n",
       "       'OperatingSystems', 'Browser', 'Region', 'TrafficType', 'VisitorType',\n",
       "       'Weekend', 'Revenue'],\n",
       "      dtype='object')"
      ]
     },
     "execution_count": 4,
     "metadata": {},
     "output_type": "execute_result"
    }
   ],
   "source": [
    "df.columns"
   ]
  },
  {
   "cell_type": "code",
   "execution_count": 5,
   "id": "f2ef4790",
   "metadata": {},
   "outputs": [
    {
     "data": {
      "text/plain": [
       "False    10422\n",
       "True      1908\n",
       "Name: Revenue, dtype: int64"
      ]
     },
     "execution_count": 5,
     "metadata": {},
     "output_type": "execute_result"
    }
   ],
   "source": [
    "df[\"Revenue\"].value_counts()"
   ]
  },
  {
   "cell_type": "code",
   "execution_count": 6,
   "id": "cf1f4bda",
   "metadata": {},
   "outputs": [
    {
     "data": {
      "text/plain": [
       "False    9462\n",
       "True     2868\n",
       "Name: Weekend, dtype: int64"
      ]
     },
     "execution_count": 6,
     "metadata": {},
     "output_type": "execute_result"
    }
   ],
   "source": [
    "df[\"Weekend\"].value_counts()"
   ]
  },
  {
   "cell_type": "code",
   "execution_count": 7,
   "id": "2d3e0630",
   "metadata": {},
   "outputs": [
    {
     "data": {
      "text/plain": [
       "1258"
      ]
     },
     "execution_count": 7,
     "metadata": {},
     "output_type": "execute_result"
    }
   ],
   "source": [
    "len(df[\"Informational_Duration\"].unique())"
   ]
  },
  {
   "cell_type": "code",
   "execution_count": 8,
   "id": "90462c74",
   "metadata": {},
   "outputs": [],
   "source": [
    "X = df.drop([\"Revenue\", \"Month\"], axis=1)\n",
    "y_revenue = df[\"Revenue\"]\n",
    "y_weekend = df[\"Weekend\"]\n",
    "y_informational_duration = df[\"Informational_Duration\"]"
   ]
  },
  {
   "cell_type": "code",
   "execution_count": 9,
   "id": "721a3683",
   "metadata": {},
   "outputs": [],
   "source": [
    "cat_cols = list(df.select_dtypes(include=\"object\"))\n",
    "num_cols = list(df.select_dtypes(exclude=\"object\"))"
   ]
  },
  {
   "cell_type": "code",
   "execution_count": 10,
   "id": "2708cbcc",
   "metadata": {},
   "outputs": [],
   "source": [
    "num_cols = ['Administrative', 'Administrative_Duration', 'Informational', 'ProductRelated', 'ProductRelated_Duration', 'BounceRates', 'ExitRates', 'PageValues', 'SpecialDay', 'OperatingSystems', 'Browser', 'Region', 'TrafficType']"
   ]
  },
  {
   "cell_type": "code",
   "execution_count": 11,
   "id": "adca922b",
   "metadata": {},
   "outputs": [],
   "source": [
    "cat_cols = ['VisitorType']"
   ]
  },
  {
   "cell_type": "code",
   "execution_count": 12,
   "id": "0f1f7c41",
   "metadata": {},
   "outputs": [],
   "source": [
    "from sklearn.model_selection import train_test_split\n",
    "\n",
    "X_train, X_test, y_train_revenue, y_test_revenue, y_train_weekend, y_test_weekend, y_train_info_dur, y_test_info_dur = train_test_split(\n",
    "    X, y_revenue, y_weekend, y_informational_duration, test_size=0.2, random_state=42\n",
    ")"
   ]
  },
  {
   "cell_type": "code",
   "execution_count": 13,
   "id": "47e092bb",
   "metadata": {},
   "outputs": [],
   "source": [
    "from sklearn.model_selection import train_test_split\n",
    "from sklearn.compose import ColumnTransformer\n",
    "from sklearn.impute import SimpleImputer\n",
    "from sklearn.pipeline import Pipeline\n",
    "from sklearn.preprocessing import OrdinalEncoder, StandardScaler, LabelEncoder\n",
    "\n",
    "revenue_col = ['Revenue']\n",
    "weekend_col = ['Weekend']\n",
    "\n",
    "\n",
    "cat_pipeline = Pipeline(steps=[\n",
    "    (\"imputer\", SimpleImputer(strategy=\"most_frequent\")),\n",
    "    (\"encoder\", OrdinalEncoder())\n",
    "])\n",
    "\n",
    "num_pipeline = Pipeline(steps=[\n",
    "    (\"imputer\", SimpleImputer(strategy=\"median\")),\n",
    "])\n",
    "\n",
    "revenue_pipeline = Pipeline(steps=[\n",
    "    (\"encode\", OrdinalEncoder())\n",
    "])\n",
    "\n",
    "weekend_pipeline = Pipeline(steps=[\n",
    "    (\"encode\", OrdinalEncoder())\n",
    "])\n",
    "\n",
    "preprocessor = ColumnTransformer([\n",
    "    (\"cat\", cat_pipeline, cat_cols),\n",
    "    (\"num\", num_pipeline, num_cols)\n",
    "])\n",
    "\n",
    "revenue_preprocessor = ColumnTransformer([\n",
    "    (\"target\", revenue_pipeline, revenue_col)\n",
    "])\n",
    "\n",
    "weekend_preprocessor = ColumnTransformer([\n",
    "    (\"target\", weekend_pipeline, weekend_col)\n",
    "])"
   ]
  },
  {
   "cell_type": "code",
   "execution_count": 14,
   "id": "424dff4b",
   "metadata": {},
   "outputs": [],
   "source": [
    "X_train_processed = preprocessor.fit_transform(X_train)\n",
    "X_test_processed = preprocessor.transform(X_test)"
   ]
  },
  {
   "cell_type": "code",
   "execution_count": 15,
   "id": "87a9bf23",
   "metadata": {},
   "outputs": [],
   "source": [
    "y_train_processed_revenue = revenue_preprocessor.fit_transform(pd.DataFrame(y_train_revenue))\n",
    "y_test_processed_revenue = revenue_preprocessor.transform(pd.DataFrame(y_test_revenue))"
   ]
  },
  {
   "cell_type": "code",
   "execution_count": 16,
   "id": "5e355048",
   "metadata": {},
   "outputs": [],
   "source": [
    "y_train_processed_weekend = weekend_preprocessor.fit_transform(pd.DataFrame(y_train_weekend))\n",
    "y_test_processed_weekend = weekend_preprocessor.transform(pd.DataFrame(y_test_weekend))"
   ]
  },
  {
   "cell_type": "code",
   "execution_count": 17,
   "id": "81156110",
   "metadata": {},
   "outputs": [],
   "source": [
    "# Basic Import\n",
    "from sklearn.linear_model import RidgeClassifier, LogisticRegression\n",
    "from sklearn.ensemble import ExtraTreesClassifier, RandomForestClassifier, GradientBoostingClassifier, AdaBoostClassifier\n",
    "from catboost import CatBoostClassifier\n",
    "from sklearn.metrics import accuracy_score, confusion_matrix, classification_report, f1_score\n",
    "import xgboost as xgb\n",
    "from lightgbm import LGBMClassifier\n",
    "from sklearn import svm"
   ]
  },
  {
   "cell_type": "code",
   "execution_count": 18,
   "id": "0f08b1e1",
   "metadata": {
    "scrolled": false
   },
   "outputs": [
    {
     "name": "stderr",
     "output_type": "stream",
     "text": [
      "/var/folders/0x/fr5n585d50j8t9x54rbwy91w0000gn/T/ipykernel_26077/4210054742.py:15: DataConversionWarning: A column-vector y was passed when a 1d array was expected. Please change the shape of y to (n_samples,), for example using ravel().\n",
      "  model.fit(X_train_processed, y_train_processed_revenue)\n"
     ]
    },
    {
     "name": "stdout",
     "output_type": "stream",
     "text": [
      "RandomForestClassifier(criterion='entropy', n_estimators=101, random_state=42):\n",
      "              precision    recall  f1-score   support\n",
      "\n",
      "         0.0       0.91      0.96      0.93      2055\n",
      "         1.0       0.71      0.51      0.60       411\n",
      "\n",
      "    accuracy                           0.88      2466\n",
      "   macro avg       0.81      0.74      0.76      2466\n",
      "weighted avg       0.88      0.88      0.88      2466\n",
      "\n"
     ]
    },
    {
     "name": "stderr",
     "output_type": "stream",
     "text": [
      "/var/folders/0x/fr5n585d50j8t9x54rbwy91w0000gn/T/ipykernel_26077/4210054742.py:15: DataConversionWarning: A column-vector y was passed when a 1d array was expected. Please change the shape of y to (n_samples,), for example using ravel().\n",
      "  model.fit(X_train_processed, y_train_processed_revenue)\n"
     ]
    },
    {
     "name": "stdout",
     "output_type": "stream",
     "text": [
      "ExtraTreesClassifier(n_estimators=151, random_state=42):\n",
      "              precision    recall  f1-score   support\n",
      "\n",
      "         0.0       0.89      0.97      0.93      2055\n",
      "         1.0       0.74      0.42      0.53       411\n",
      "\n",
      "    accuracy                           0.88      2466\n",
      "   macro avg       0.82      0.69      0.73      2466\n",
      "weighted avg       0.87      0.88      0.86      2466\n",
      "\n"
     ]
    },
    {
     "name": "stderr",
     "output_type": "stream",
     "text": [
      "/Users/aneesaro/miniforge3/envs/pyc/lib/python3.8/site-packages/sklearn/ensemble/_gb.py:437: DataConversionWarning: A column-vector y was passed when a 1d array was expected. Please change the shape of y to (n_samples, ), for example using ravel().\n",
      "  y = column_or_1d(y, warn=True)\n"
     ]
    },
    {
     "name": "stdout",
     "output_type": "stream",
     "text": [
      "GradientBoostingClassifier(random_state=42):\n",
      "              precision    recall  f1-score   support\n",
      "\n",
      "         0.0       0.91      0.96      0.93      2055\n",
      "         1.0       0.72      0.53      0.61       411\n",
      "\n",
      "    accuracy                           0.89      2466\n",
      "   macro avg       0.81      0.75      0.77      2466\n",
      "weighted avg       0.88      0.89      0.88      2466\n",
      "\n",
      "<catboost.core.CatBoostClassifier object at 0x14b6c2520>:\n",
      "              precision    recall  f1-score   support\n",
      "\n",
      "         0.0       0.91      0.96      0.93      2055\n",
      "         1.0       0.73      0.52      0.61       411\n",
      "\n",
      "    accuracy                           0.89      2466\n",
      "   macro avg       0.82      0.74      0.77      2466\n",
      "weighted avg       0.88      0.89      0.88      2466\n",
      "\n"
     ]
    },
    {
     "name": "stderr",
     "output_type": "stream",
     "text": [
      "/Users/aneesaro/miniforge3/envs/pyc/lib/python3.8/site-packages/sklearn/utils/validation.py:1143: DataConversionWarning: A column-vector y was passed when a 1d array was expected. Please change the shape of y to (n_samples, ), for example using ravel().\n",
      "  y = column_or_1d(y, warn=True)\n"
     ]
    },
    {
     "name": "stdout",
     "output_type": "stream",
     "text": [
      "AdaBoostClassifier(random_state=42):\n",
      "              precision    recall  f1-score   support\n",
      "\n",
      "         0.0       0.92      0.95      0.93      2055\n",
      "         1.0       0.68      0.56      0.62       411\n",
      "\n",
      "    accuracy                           0.88      2466\n",
      "   macro avg       0.80      0.75      0.77      2466\n",
      "weighted avg       0.88      0.88      0.88      2466\n",
      "\n"
     ]
    },
    {
     "name": "stderr",
     "output_type": "stream",
     "text": [
      "/Users/aneesaro/miniforge3/envs/pyc/lib/python3.8/site-packages/sklearn/preprocessing/_label.py:99: DataConversionWarning: A column-vector y was passed when a 1d array was expected. Please change the shape of y to (n_samples, ), for example using ravel().\n",
      "  y = column_or_1d(y, warn=True)\n",
      "/Users/aneesaro/miniforge3/envs/pyc/lib/python3.8/site-packages/sklearn/preprocessing/_label.py:134: DataConversionWarning: A column-vector y was passed when a 1d array was expected. Please change the shape of y to (n_samples, ), for example using ravel().\n",
      "  y = column_or_1d(y, dtype=self.classes_.dtype, warn=True)\n"
     ]
    },
    {
     "name": "stdout",
     "output_type": "stream",
     "text": [
      "LGBMClassifier(random_state=42):\n",
      "              precision    recall  f1-score   support\n",
      "\n",
      "         0.0       0.91      0.96      0.94      2055\n",
      "         1.0       0.73      0.55      0.62       411\n",
      "\n",
      "    accuracy                           0.89      2466\n",
      "   macro avg       0.82      0.75      0.78      2466\n",
      "weighted avg       0.88      0.89      0.88      2466\n",
      "\n"
     ]
    }
   ],
   "source": [
    "models = {\n",
    "    'rfc': RandomForestClassifier(random_state=42, n_estimators=101, criterion=\"entropy\"),\n",
    "    \"et\": ExtraTreesClassifier(random_state=42, n_estimators=151),\n",
    "    \"gbc\": GradientBoostingClassifier(random_state=42),\n",
    "    \"cat\": CatBoostClassifier(random_state=42, verbose=0, learning_rate=0.01),\n",
    "    \"ada\": AdaBoostClassifier(random_state=42),\n",
    "    \"light\": LGBMClassifier(random_state=42),\n",
    "}\n",
    "\n",
    "macro_average_list = []\n",
    "trained_models_list = []\n",
    "\n",
    "# looping through dictionary, create model and evaluates it\n",
    "for model in list(models.values()):\n",
    "    model.fit(X_train_processed, y_train_processed_revenue)\n",
    "    y_pred = model.predict(X_test_processed)\n",
    "    report = classification_report(y_test_processed_revenue, y_pred, output_dict=True)    \n",
    "    print(f\"{model}:\\n{classification_report(y_test_processed_revenue, y_pred)}\")\n",
    "    macro_average = report['macro avg']['f1-score']\n",
    "    macro_average_list.append(macro_average)\n",
    "    trained_models_list.append(model)"
   ]
  },
  {
   "cell_type": "code",
   "execution_count": 19,
   "id": "74079389",
   "metadata": {},
   "outputs": [],
   "source": [
    "macro_avg_max_value = max(macro_average_list)\n",
    "macro_avg_max_index = macro_average_list.index(macro_avg_max_value)\n",
    "best_model = trained_models_list[macro_avg_max_index]\n",
    "best_model_name = list(models.keys())[macro_avg_max_index]"
   ]
  },
  {
   "cell_type": "code",
   "execution_count": 20,
   "id": "2ebd3d0c",
   "metadata": {},
   "outputs": [
    {
     "name": "stdout",
     "output_type": "stream",
     "text": [
      "light: 78.0\n"
     ]
    }
   ],
   "source": [
    "print(f\"{best_model_name}: {round(macro_avg_max_value, 2)*100}\")"
   ]
  },
  {
   "cell_type": "code",
   "execution_count": null,
   "id": "1d05c297",
   "metadata": {},
   "outputs": [],
   "source": []
  }
 ],
 "metadata": {
  "kernelspec": {
   "display_name": "Python 3 (ipykernel)",
   "language": "python",
   "name": "python3"
  },
  "language_info": {
   "codemirror_mode": {
    "name": "ipython",
    "version": 3
   },
   "file_extension": ".py",
   "mimetype": "text/x-python",
   "name": "python",
   "nbconvert_exporter": "python",
   "pygments_lexer": "ipython3",
   "version": "3.8.16"
  }
 },
 "nbformat": 4,
 "nbformat_minor": 5
}
