{
 "cells": [
  {
   "cell_type": "markdown",
   "id": "87f0447e",
   "metadata": {},
   "source": [
    "# Q-2. \n",
    "```\n",
    "Imagine you have a dataset where you have different features like Age ,\n",
    "Gender , Height , Weight , BMI , and Blood Pressure and you have to classify the people into\n",
    "different classes like Normal , Overweight , Obesity , Underweight , and Extreme Obesity by using\n",
    "any 4 different classification algorithms. Now you have to build a model which\n",
    "can classify people into different classes.\n",
    "Dataset This is the Dataset You can use this dataset for this question.\n",
    "```"
   ]
  },
  {
   "cell_type": "code",
   "execution_count": 31,
   "id": "5c1c2931",
   "metadata": {},
   "outputs": [],
   "source": [
    "import pandas as pd"
   ]
  },
  {
   "cell_type": "code",
   "execution_count": 32,
   "id": "53ba5e0f",
   "metadata": {},
   "outputs": [],
   "source": [
    "df = pd.read_csv(\"ObesityDataSet_raw_and_data_sinthetic.csv\")"
   ]
  },
  {
   "cell_type": "code",
   "execution_count": 33,
   "id": "20b3b13c",
   "metadata": {},
   "outputs": [],
   "source": [
    "X = df.drop([\"NObeyesdad\"], axis=1)\n",
    "y = df[\"NObeyesdad\"]"
   ]
  },
  {
   "cell_type": "code",
   "execution_count": 34,
   "id": "6e5988b2",
   "metadata": {},
   "outputs": [
    {
     "data": {
      "text/plain": [
       "0             Normal_Weight\n",
       "1             Normal_Weight\n",
       "2             Normal_Weight\n",
       "3        Overweight_Level_I\n",
       "4       Overweight_Level_II\n",
       "               ...         \n",
       "2106       Obesity_Type_III\n",
       "2107       Obesity_Type_III\n",
       "2108       Obesity_Type_III\n",
       "2109       Obesity_Type_III\n",
       "2110       Obesity_Type_III\n",
       "Name: NObeyesdad, Length: 2111, dtype: object"
      ]
     },
     "execution_count": 34,
     "metadata": {},
     "output_type": "execute_result"
    }
   ],
   "source": [
    "y"
   ]
  },
  {
   "cell_type": "code",
   "execution_count": 35,
   "id": "48ec9a19",
   "metadata": {},
   "outputs": [],
   "source": [
    "cat_cols = list(df.select_dtypes(include=\"object\"))[:-1]"
   ]
  },
  {
   "cell_type": "code",
   "execution_count": 37,
   "id": "4117734a",
   "metadata": {},
   "outputs": [
    {
     "data": {
      "text/plain": [
       "['Gender',\n",
       " 'family_history_with_overweight',\n",
       " 'FAVC',\n",
       " 'CAEC',\n",
       " 'SMOKE',\n",
       " 'SCC',\n",
       " 'CALC',\n",
       " 'MTRANS']"
      ]
     },
     "execution_count": 37,
     "metadata": {},
     "output_type": "execute_result"
    }
   ],
   "source": [
    "cat_cols"
   ]
  },
  {
   "cell_type": "code",
   "execution_count": 38,
   "id": "53e05ccc",
   "metadata": {},
   "outputs": [],
   "source": [
    "num_cols = list(df.select_dtypes(exclude=\"object\"))"
   ]
  },
  {
   "cell_type": "code",
   "execution_count": 39,
   "id": "88b92ae7",
   "metadata": {},
   "outputs": [
    {
     "data": {
      "text/plain": [
       "['Age', 'Height', 'Weight', 'FCVC', 'NCP', 'CH2O', 'FAF', 'TUE']"
      ]
     },
     "execution_count": 39,
     "metadata": {},
     "output_type": "execute_result"
    }
   ],
   "source": [
    "num_cols"
   ]
  },
  {
   "cell_type": "code",
   "execution_count": 23,
   "id": "fcbe4b23",
   "metadata": {},
   "outputs": [],
   "source": [
    "from sklearn.model_selection import train_test_split\n",
    "from sklearn.compose import ColumnTransformer\n",
    "from sklearn.impute import SimpleImputer\n",
    "from sklearn.pipeline import Pipeline\n",
    "from sklearn.preprocessing import OrdinalEncoder, StandardScaler, LabelEncoder\n",
    "\n",
    "target_col = ['NObeyesdad']\n",
    "\n",
    "cat_pipeline = Pipeline(steps=[\n",
    "    (\"imputer\", SimpleImputer(strategy=\"most_frequent\")),\n",
    "    (\"encoder\", OrdinalEncoder())\n",
    "])\n",
    "\n",
    "num_pipeline = Pipeline(steps=[\n",
    "    (\"imputer\", SimpleImputer(strategy=\"median\")),\n",
    "])\n",
    "\n",
    "target_pipeline = Pipeline(steps=[\n",
    "    (\"encode\", LabelEncoder())\n",
    "])\n",
    "\n",
    "preprocessor = ColumnTransformer([\n",
    "    (\"cat\", cat_pipeline, cat_cols),\n",
    "    (\"num\", num_pipeline, num_cols)\n",
    "])\n",
    "\n",
    "target_preprocessor = ColumnTransformer([\n",
    "    (\"target\", target_pipeline, target_col)\n",
    "])"
   ]
  },
  {
   "cell_type": "code",
   "execution_count": 24,
   "id": "e9ea6902",
   "metadata": {},
   "outputs": [],
   "source": [
    "from sklearn.model_selection import train_test_split\n",
    "\n",
    "X_train, X_test, y_train, y_test = train_test_split(X, y, test_size=0.3, random_state=42)"
   ]
  },
  {
   "cell_type": "code",
   "execution_count": 25,
   "id": "53dafc0a",
   "metadata": {},
   "outputs": [],
   "source": [
    "X_train_processed = preprocessor.fit_transform(X_train)\n",
    "X_test_processed = preprocessor.transform(X_test)"
   ]
  },
  {
   "cell_type": "code",
   "execution_count": 26,
   "id": "fe8529c0",
   "metadata": {},
   "outputs": [],
   "source": [
    "encoder = LabelEncoder()\n",
    "y_train_processed = encoder.fit_transform(y_train)\n",
    "y_test_processed = encoder.transform(y_test)"
   ]
  },
  {
   "cell_type": "code",
   "execution_count": 27,
   "id": "06f7ca42",
   "metadata": {},
   "outputs": [],
   "source": [
    "# Basic Import\n",
    "from sklearn.linear_model import RidgeClassifier, LogisticRegression\n",
    "from sklearn.ensemble import ExtraTreesClassifier, RandomForestClassifier, GradientBoostingClassifier, AdaBoostClassifier\n",
    "from catboost import CatBoostClassifier\n",
    "from sklearn.metrics import accuracy_score, confusion_matrix, classification_report, f1_score\n",
    "import xgboost as xgb\n",
    "from lightgbm import LGBMClassifier"
   ]
  },
  {
   "cell_type": "code",
   "execution_count": 28,
   "id": "5b15347b",
   "metadata": {
    "scrolled": false
   },
   "outputs": [
    {
     "name": "stdout",
     "output_type": "stream",
     "text": [
      "ExtraTreesClassifier(n_estimators=201, random_state=42):\n",
      "              precision    recall  f1-score   support\n",
      "\n",
      "           0       0.93      0.97      0.95        86\n",
      "           1       0.81      0.87      0.84        93\n",
      "           2       0.99      0.98      0.99       102\n",
      "           3       0.99      0.99      0.99        88\n",
      "           4       1.00      0.99      0.99        98\n",
      "           5       0.90      0.81      0.85        88\n",
      "           6       0.90      0.91      0.91        79\n",
      "\n",
      "    accuracy                           0.93       634\n",
      "   macro avg       0.93      0.93      0.93       634\n",
      "weighted avg       0.93      0.93      0.93       634\n",
      "\n",
      "RandomForestClassifier(n_estimators=101, random_state=42):\n",
      "              precision    recall  f1-score   support\n",
      "\n",
      "           0       0.99      0.95      0.97        86\n",
      "           1       0.81      0.92      0.86        93\n",
      "           2       0.98      0.94      0.96       102\n",
      "           3       0.97      0.99      0.98        88\n",
      "           4       1.00      0.99      0.99        98\n",
      "           5       0.90      0.82      0.86        88\n",
      "           6       0.93      0.94      0.93        79\n",
      "\n",
      "    accuracy                           0.94       634\n",
      "   macro avg       0.94      0.94      0.94       634\n",
      "weighted avg       0.94      0.94      0.94       634\n",
      "\n",
      "GradientBoostingClassifier(n_estimators=201, random_state=42):\n",
      "              precision    recall  f1-score   support\n",
      "\n",
      "           0       0.94      0.99      0.97        86\n",
      "           1       0.95      0.88      0.92        93\n",
      "           2       0.98      0.94      0.96       102\n",
      "           3       0.96      0.99      0.97        88\n",
      "           4       1.00      0.99      0.99        98\n",
      "           5       0.88      0.92      0.90        88\n",
      "           6       0.95      0.96      0.96        79\n",
      "\n",
      "    accuracy                           0.95       634\n",
      "   macro avg       0.95      0.95      0.95       634\n",
      "weighted avg       0.95      0.95      0.95       634\n",
      "\n",
      "<catboost.core.CatBoostClassifier object at 0x167573c40>:\n",
      "              precision    recall  f1-score   support\n",
      "\n",
      "           0       0.98      0.98      0.98        86\n",
      "           1       0.91      0.87      0.89        93\n",
      "           2       0.98      0.97      0.98       102\n",
      "           3       0.98      0.99      0.98        88\n",
      "           4       1.00      0.99      0.99        98\n",
      "           5       0.87      0.92      0.90        88\n",
      "           6       0.99      0.99      0.99        79\n",
      "\n",
      "    accuracy                           0.96       634\n",
      "   macro avg       0.96      0.96      0.96       634\n",
      "weighted avg       0.96      0.96      0.96       634\n",
      "\n",
      "LGBMClassifier(random_state=42):\n",
      "              precision    recall  f1-score   support\n",
      "\n",
      "           0       0.92      0.99      0.96        86\n",
      "           1       0.93      0.88      0.91        93\n",
      "           2       0.99      0.96      0.98       102\n",
      "           3       0.98      0.99      0.98        88\n",
      "           4       1.00      0.99      0.99        98\n",
      "           5       0.90      0.94      0.92        88\n",
      "           6       1.00      0.97      0.99        79\n",
      "\n",
      "    accuracy                           0.96       634\n",
      "   macro avg       0.96      0.96      0.96       634\n",
      "weighted avg       0.96      0.96      0.96       634\n",
      "\n"
     ]
    }
   ],
   "source": [
    "models = {\n",
    "    'etc': ExtraTreesClassifier(random_state=42, n_estimators=201, criterion=\"gini\"),\n",
    "    'rfc': RandomForestClassifier(random_state=42, n_estimators=101),\n",
    "    'gbc': GradientBoostingClassifier(random_state=42, n_estimators=201),\n",
    "    'cat': CatBoostClassifier(verbose=0),\n",
    "    \"lgbm\": LGBMClassifier(random_state=42),\n",
    "}\n",
    "\n",
    "macro_average_list = []\n",
    "trained_models_list = []\n",
    "\n",
    "# looping through dictionary, create model and evaluates it\n",
    "for model in list(models.values()):\n",
    "    model.fit(X_train_processed, y_train_processed)\n",
    "    y_pred = model.predict(X_test_processed)\n",
    "    report = classification_report(y_test_processed, y_pred, output_dict=True)\n",
    "    print(f\"{model}:\\n{classification_report(y_test_processed, y_pred)}\")\n",
    "    macro_average = report['macro avg']['f1-score']\n",
    "    macro_average_list.append(macro_average)\n",
    "    trained_models_list.append(model)"
   ]
  },
  {
   "cell_type": "code",
   "execution_count": 29,
   "id": "7cd015f1",
   "metadata": {},
   "outputs": [],
   "source": [
    "macro_avg_max_value = max(macro_average_list)\n",
    "macro_avg_max_index = macro_average_list.index(macro_avg_max_value)\n",
    "best_model = trained_models_list[macro_avg_max_index]\n",
    "best_model_name = list(models.keys())[macro_avg_max_index]"
   ]
  },
  {
   "cell_type": "code",
   "execution_count": 30,
   "id": "37810e8e",
   "metadata": {},
   "outputs": [
    {
     "name": "stdout",
     "output_type": "stream",
     "text": [
      "lgbm: 96.0\n"
     ]
    }
   ],
   "source": [
    "print(f\"{best_model_name}: {round(macro_avg_max_value, 2)*100}\")"
   ]
  },
  {
   "cell_type": "code",
   "execution_count": 49,
   "id": "7157ba54",
   "metadata": {},
   "outputs": [
    {
     "data": {
      "text/plain": [
       "Index(['Obesity_Type_I', 'Obesity_Type_III', 'Obesity_Type_II',\n",
       "       'Overweight_Level_I', 'Overweight_Level_II', 'Normal_Weight',\n",
       "       'Insufficient_Weight'],\n",
       "      dtype='object')"
      ]
     },
     "execution_count": 49,
     "metadata": {},
     "output_type": "execute_result"
    }
   ],
   "source": [
    "df[\"NObeyesdad\"].value_counts().index"
   ]
  },
  {
   "cell_type": "code",
   "execution_count": null,
   "id": "397bc460",
   "metadata": {},
   "outputs": [],
   "source": []
  }
 ],
 "metadata": {
  "kernelspec": {
   "display_name": "Python 3 (ipykernel)",
   "language": "python",
   "name": "python3"
  },
  "language_info": {
   "codemirror_mode": {
    "name": "ipython",
    "version": 3
   },
   "file_extension": ".py",
   "mimetype": "text/x-python",
   "name": "python",
   "nbconvert_exporter": "python",
   "pygments_lexer": "ipython3",
   "version": "3.8.16"
  }
 },
 "nbformat": 4,
 "nbformat_minor": 5
}
