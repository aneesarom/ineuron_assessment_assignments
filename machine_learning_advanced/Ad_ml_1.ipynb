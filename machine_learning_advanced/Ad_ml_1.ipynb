{
 "cells": [
  {
   "cell_type": "code",
   "execution_count": 26,
   "id": "04a76330",
   "metadata": {},
   "outputs": [],
   "source": [
    "import pandas as pd"
   ]
  },
  {
   "cell_type": "code",
   "execution_count": 27,
   "id": "f04679ba",
   "metadata": {},
   "outputs": [],
   "source": [
    "df = pd.read_csv(\"train.csv\")"
   ]
  },
  {
   "cell_type": "code",
   "execution_count": 28,
   "id": "7b262dc3",
   "metadata": {},
   "outputs": [],
   "source": [
    "df = df.sample(10000)"
   ]
  },
  {
   "cell_type": "code",
   "execution_count": 29,
   "id": "307739f2",
   "metadata": {},
   "outputs": [
    {
     "data": {
      "text/plain": [
       "0"
      ]
     },
     "execution_count": 29,
     "metadata": {},
     "output_type": "execute_result"
    }
   ],
   "source": [
    "df.duplicated().sum()"
   ]
  },
  {
   "cell_type": "code",
   "execution_count": 30,
   "id": "02e778b3",
   "metadata": {},
   "outputs": [
    {
     "data": {
      "text/plain": [
       "source_node         0\n",
       "destination_node    0\n",
       "dtype: int64"
      ]
     },
     "execution_count": 30,
     "metadata": {},
     "output_type": "execute_result"
    }
   ],
   "source": [
    "df.isna().sum()"
   ]
  },
  {
   "cell_type": "code",
   "execution_count": 31,
   "id": "64569136",
   "metadata": {},
   "outputs": [
    {
     "data": {
      "text/html": [
       "<div>\n",
       "<style scoped>\n",
       "    .dataframe tbody tr th:only-of-type {\n",
       "        vertical-align: middle;\n",
       "    }\n",
       "\n",
       "    .dataframe tbody tr th {\n",
       "        vertical-align: top;\n",
       "    }\n",
       "\n",
       "    .dataframe thead th {\n",
       "        text-align: right;\n",
       "    }\n",
       "</style>\n",
       "<table border=\"1\" class=\"dataframe\">\n",
       "  <thead>\n",
       "    <tr style=\"text-align: right;\">\n",
       "      <th></th>\n",
       "      <th>source_node</th>\n",
       "      <th>destination_node</th>\n",
       "    </tr>\n",
       "  </thead>\n",
       "  <tbody>\n",
       "    <tr>\n",
       "      <th>3293319</th>\n",
       "      <td>648814</td>\n",
       "      <td>1529335</td>\n",
       "    </tr>\n",
       "    <tr>\n",
       "      <th>1175583</th>\n",
       "      <td>230175</td>\n",
       "      <td>254432</td>\n",
       "    </tr>\n",
       "    <tr>\n",
       "      <th>4185482</th>\n",
       "      <td>825371</td>\n",
       "      <td>60494</td>\n",
       "    </tr>\n",
       "    <tr>\n",
       "      <th>7262339</th>\n",
       "      <td>1433271</td>\n",
       "      <td>1151832</td>\n",
       "    </tr>\n",
       "    <tr>\n",
       "      <th>5419732</th>\n",
       "      <td>1069231</td>\n",
       "      <td>1461301</td>\n",
       "    </tr>\n",
       "  </tbody>\n",
       "</table>\n",
       "</div>"
      ],
      "text/plain": [
       "         source_node  destination_node\n",
       "3293319       648814           1529335\n",
       "1175583       230175            254432\n",
       "4185482       825371             60494\n",
       "7262339      1433271           1151832\n",
       "5419732      1069231           1461301"
      ]
     },
     "execution_count": 31,
     "metadata": {},
     "output_type": "execute_result"
    }
   ],
   "source": [
    "df.head()"
   ]
  },
  {
   "cell_type": "code",
   "execution_count": 32,
   "id": "83c7b685",
   "metadata": {},
   "outputs": [
    {
     "data": {
      "text/html": [
       "<div>\n",
       "<style scoped>\n",
       "    .dataframe tbody tr th:only-of-type {\n",
       "        vertical-align: middle;\n",
       "    }\n",
       "\n",
       "    .dataframe tbody tr th {\n",
       "        vertical-align: top;\n",
       "    }\n",
       "\n",
       "    .dataframe thead th {\n",
       "        text-align: right;\n",
       "    }\n",
       "</style>\n",
       "<table border=\"1\" class=\"dataframe\">\n",
       "  <thead>\n",
       "    <tr style=\"text-align: right;\">\n",
       "      <th></th>\n",
       "      <th>source_node</th>\n",
       "      <th>destination_node</th>\n",
       "    </tr>\n",
       "  </thead>\n",
       "  <tbody>\n",
       "    <tr>\n",
       "      <th>8480022</th>\n",
       "      <td>1673989</td>\n",
       "      <td>810325</td>\n",
       "    </tr>\n",
       "    <tr>\n",
       "      <th>1344759</th>\n",
       "      <td>263715</td>\n",
       "      <td>52884</td>\n",
       "    </tr>\n",
       "    <tr>\n",
       "      <th>5761644</th>\n",
       "      <td>1136975</td>\n",
       "      <td>151095</td>\n",
       "    </tr>\n",
       "    <tr>\n",
       "      <th>2393266</th>\n",
       "      <td>470971</td>\n",
       "      <td>613230</td>\n",
       "    </tr>\n",
       "    <tr>\n",
       "      <th>8059457</th>\n",
       "      <td>1590815</td>\n",
       "      <td>182428</td>\n",
       "    </tr>\n",
       "  </tbody>\n",
       "</table>\n",
       "</div>"
      ],
      "text/plain": [
       "         source_node  destination_node\n",
       "8480022      1673989            810325\n",
       "1344759       263715             52884\n",
       "5761644      1136975            151095\n",
       "2393266       470971            613230\n",
       "8059457      1590815            182428"
      ]
     },
     "execution_count": 32,
     "metadata": {},
     "output_type": "execute_result"
    }
   ],
   "source": [
    "df.tail()"
   ]
  },
  {
   "cell_type": "code",
   "execution_count": 33,
   "id": "2c867262",
   "metadata": {},
   "outputs": [
    {
     "data": {
      "text/plain": [
       "216723     3\n",
       "753398     2\n",
       "149438     2\n",
       "1238990    2\n",
       "1622254    2\n",
       "          ..\n",
       "824919     1\n",
       "1210487    1\n",
       "1407909    1\n",
       "735983     1\n",
       "1590815    1\n",
       "Name: source_node, Length: 9897, dtype: int64"
      ]
     },
     "execution_count": 33,
     "metadata": {},
     "output_type": "execute_result"
    }
   ],
   "source": [
    "df[\"source_node\"].value_counts()"
   ]
  },
  {
   "cell_type": "code",
   "execution_count": 34,
   "id": "d6abb3ab",
   "metadata": {},
   "outputs": [
    {
     "data": {
      "text/plain": [
       "174858     3\n",
       "1294248    3\n",
       "1616218    2\n",
       "716461     2\n",
       "951661     2\n",
       "          ..\n",
       "1731166    1\n",
       "1180541    1\n",
       "1320798    1\n",
       "1857493    1\n",
       "182428     1\n",
       "Name: destination_node, Length: 9891, dtype: int64"
      ]
     },
     "execution_count": 34,
     "metadata": {},
     "output_type": "execute_result"
    }
   ],
   "source": [
    "df[\"destination_node\"].value_counts()"
   ]
  },
  {
   "cell_type": "code",
   "execution_count": 35,
   "id": "2031abd4",
   "metadata": {},
   "outputs": [],
   "source": [
    "import pandas as pd\n",
    "import networkx as nx\n",
    "import community\n",
    "import matplotlib.pyplot as plt"
   ]
  },
  {
   "cell_type": "code",
   "execution_count": 36,
   "id": "22dc4b77",
   "metadata": {},
   "outputs": [],
   "source": [
    "G = nx.from_pandas_edgelist(df, \"source_node\", \"destination_node\")"
   ]
  },
  {
   "cell_type": "code",
   "execution_count": null,
   "id": "cdc90a8d",
   "metadata": {
    "scrolled": false
   },
   "outputs": [],
   "source": [
    "# Step 3: Apply the Louvain algorithm for community detection\n",
    "partition = community.best_partition(G)\n",
    "\n",
    "# Step 4: Retrieve the community labels for each node\n",
    "df[\"community_label\"] = df[\"source_node\"].map(partition)\n",
    "\n",
    "# Step 5: Analyze the communities\n",
    "community_sizes = df.groupby(\"community_label\").size()\n",
    "average_community_size = community_sizes.mean()\n",
    "\n",
    "# Step 6: Visualize the communities\n",
    "pos = nx.spring_layout(G)\n",
    "colors = df[\"community_label\"].values\n",
    "\n",
    "plt.figure(figsize=(10, 8))\n",
    "nx.draw_networkx(\n",
    "    G,\n",
    "    pos,\n",
    "    node_color=colors,\n",
    "    node_size=50,\n",
    "    alpha=0.8,\n",
    "    with_labels=False,\n",
    "    cmap=plt.cm.tab20,\n",
    ")\n",
    "plt.show()"
   ]
  },
  {
   "cell_type": "code",
   "execution_count": null,
   "id": "e5656944",
   "metadata": {},
   "outputs": [],
   "source": []
  }
 ],
 "metadata": {
  "kernelspec": {
   "display_name": "Python 3 (ipykernel)",
   "language": "python",
   "name": "python3"
  },
  "language_info": {
   "codemirror_mode": {
    "name": "ipython",
    "version": 3
   },
   "file_extension": ".py",
   "mimetype": "text/x-python",
   "name": "python",
   "nbconvert_exporter": "python",
   "pygments_lexer": "ipython3",
   "version": "3.8.16"
  }
 },
 "nbformat": 4,
 "nbformat_minor": 5
}
